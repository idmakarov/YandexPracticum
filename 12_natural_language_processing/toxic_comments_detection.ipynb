{
 "cells": [
  {
   "cell_type": "markdown",
   "id": "e7b0d8d4",
   "metadata": {},
   "source": [
    "# Проект для «Викишоп»"
   ]
  },
  {
   "cell_type": "markdown",
   "id": "af40653e",
   "metadata": {},
   "source": [
    "Интернет-магазин «Викишоп» запускает новый сервис. Теперь пользователи могут редактировать и дополнять описания товаров, как в вики-сообществах. То есть клиенты предлагают свои правки и комментируют изменения других. Магазину нужен инструмент, который будет искать токсичные комментарии и отправлять их на модерацию. \n",
    "\n",
    "Обучите модель классифицировать комментарии на позитивные и негативные. В вашем распоряжении набор данных с разметкой о токсичности правок.\n",
    "\n",
    "Постройте модель со значением метрики качества *F1* не меньше 0.75. \n",
    "\n",
    "**Инструкция по выполнению проекта**\n",
    "\n",
    "1. Загрузите и подготовьте данные.\n",
    "2. Обучите разные модели. \n",
    "3. Сделайте выводы.\n",
    "\n",
    "Для выполнения проекта применять *BERT* необязательно, но вы можете попробовать.\n",
    "\n",
    "**Описание данных**\n",
    "\n",
    "Данные находятся в файле `toxic_comments.csv`. Столбец *text* в нём содержит текст комментария, а *toxic* — целевой признак."
   ]
  },
  {
   "cell_type": "markdown",
   "id": "03820d6a",
   "metadata": {
    "toc": true
   },
   "source": [
    "<h1>Содержание<span class=\"tocSkip\"></span></h1>\n",
    "<div class=\"toc\"><ul class=\"toc-item\"><li><span><a href=\"#Подготовка\" data-toc-modified-id=\"Подготовка-1\"><span class=\"toc-item-num\">1&nbsp;&nbsp;</span>Подготовка</a></span><ul class=\"toc-item\"><li><span><a href=\"#Вывод\" data-toc-modified-id=\"Вывод-1.1\"><span class=\"toc-item-num\">1.1&nbsp;&nbsp;</span>Вывод</a></span></li></ul></li><li><span><a href=\"#Обучение\" data-toc-modified-id=\"Обучение-2\"><span class=\"toc-item-num\">2&nbsp;&nbsp;</span>Обучение</a></span><ul class=\"toc-item\"><li><span><a href=\"#Вывод\" data-toc-modified-id=\"Вывод-2.1\"><span class=\"toc-item-num\">2.1&nbsp;&nbsp;</span>Вывод</a></span></li></ul></li><li><span><a href=\"#Выводы\" data-toc-modified-id=\"Выводы-3\"><span class=\"toc-item-num\">3&nbsp;&nbsp;</span>Выводы</a></span></li><li><span><a href=\"#Чек-лист-проверки\" data-toc-modified-id=\"Чек-лист-проверки-4\"><span class=\"toc-item-num\">4&nbsp;&nbsp;</span>Чек-лист проверки</a></span></li></ul></div>"
   ]
  },
  {
   "cell_type": "markdown",
   "id": "568452b3",
   "metadata": {},
   "source": [
    "## Подготовка\n",
    "\n",
    "Импортируем необходимые библиотеки."
   ]
  },
  {
   "cell_type": "code",
   "execution_count": 1,
   "id": "a2b0d498",
   "metadata": {},
   "outputs": [],
   "source": [
    "import warnings\n",
    "warnings.filterwarnings('ignore')\n",
    "\n",
    "import lightgbm as lgb\n",
    "%matplotlib inline\n",
    "import matplotlib.pyplot as plt\n",
    "import nltk\n",
    "import numpy as np\n",
    "import pandas as pd\n",
    "import re\n",
    "import spacy\n",
    "\n",
    "from nltk import WordNetLemmatizer\n",
    "from nltk.corpus import stopwords, wordnet\n",
    "from sklearn.feature_extraction.text import TfidfVectorizer\n",
    "from sklearn.linear_model import LogisticRegression\n",
    "from sklearn.metrics import f1_score, roc_auc_score, roc_auc_score\n",
    "from sklearn.model_selection import cross_validate, RandomizedSearchCV, StratifiedKFold, train_test_split\n",
    "from sklearn.svm import LinearSVC\n",
    "from tqdm.notebook import tqdm"
   ]
  },
  {
   "cell_type": "markdown",
   "id": "d0ca4c85",
   "metadata": {},
   "source": [
    "Инициализируем глобальные константы."
   ]
  },
  {
   "cell_type": "code",
   "execution_count": 169,
   "id": "01187666",
   "metadata": {},
   "outputs": [],
   "source": [
    "RANDOM_STATE = 42\n",
    "REQUIRED_F1 = 0.75"
   ]
  },
  {
   "cell_type": "markdown",
   "id": "09911d69",
   "metadata": {},
   "source": [
    "Загрузим необходимые компоненты nltk."
   ]
  },
  {
   "cell_type": "code",
   "execution_count": 3,
   "id": "d911dbd1",
   "metadata": {
    "scrolled": true
   },
   "outputs": [
    {
     "name": "stderr",
     "output_type": "stream",
     "text": [
      "[nltk_data] Downloading package averaged_perceptron_tagger to\n",
      "[nltk_data]     C:\\Users\\Иван\\AppData\\Roaming\\nltk_data...\n",
      "[nltk_data]   Package averaged_perceptron_tagger is already up-to-\n",
      "[nltk_data]       date!\n",
      "[nltk_data] Downloading package omw to\n",
      "[nltk_data]     C:\\Users\\Иван\\AppData\\Roaming\\nltk_data...\n",
      "[nltk_data]   Package omw is already up-to-date!\n",
      "[nltk_data] Downloading package punkt to\n",
      "[nltk_data]     C:\\Users\\Иван\\AppData\\Roaming\\nltk_data...\n",
      "[nltk_data]   Package punkt is already up-to-date!\n",
      "[nltk_data] Downloading package stopwords to\n",
      "[nltk_data]     C:\\Users\\Иван\\AppData\\Roaming\\nltk_data...\n",
      "[nltk_data]   Package stopwords is already up-to-date!\n",
      "[nltk_data] Downloading package wordnet to\n",
      "[nltk_data]     C:\\Users\\Иван\\AppData\\Roaming\\nltk_data...\n",
      "[nltk_data]   Package wordnet is already up-to-date!\n"
     ]
    },
    {
     "data": {
      "text/plain": [
       "True"
      ]
     },
     "execution_count": 3,
     "metadata": {},
     "output_type": "execute_result"
    }
   ],
   "source": [
    "nltk.download(\n",
    "    [\n",
    "        'averaged_perceptron_tagger',\n",
    "        'omw',\n",
    "        'punkt',\n",
    "        'stopwords',\n",
    "        'wordnet'\n",
    "    ]\n",
    ")"
   ]
  },
  {
   "cell_type": "markdown",
   "id": "4f4a26a7",
   "metadata": {},
   "source": [
    "Загрузим данные и выведем первые пять случайных строк."
   ]
  },
  {
   "cell_type": "code",
   "execution_count": 4,
   "id": "c13dedb3",
   "metadata": {},
   "outputs": [
    {
     "data": {
      "text/html": [
       "<div>\n",
       "<style scoped>\n",
       "    .dataframe tbody tr th:only-of-type {\n",
       "        vertical-align: middle;\n",
       "    }\n",
       "\n",
       "    .dataframe tbody tr th {\n",
       "        vertical-align: top;\n",
       "    }\n",
       "\n",
       "    .dataframe thead th {\n",
       "        text-align: right;\n",
       "    }\n",
       "</style>\n",
       "<table border=\"1\" class=\"dataframe\">\n",
       "  <thead>\n",
       "    <tr style=\"text-align: right;\">\n",
       "      <th></th>\n",
       "      <th>text</th>\n",
       "      <th>toxic</th>\n",
       "    </tr>\n",
       "  </thead>\n",
       "  <tbody>\n",
       "    <tr>\n",
       "      <th>21277</th>\n",
       "      <td>\"This IP address has been blocked because it i...</td>\n",
       "      <td>0</td>\n",
       "    </tr>\n",
       "    <tr>\n",
       "      <th>44579</th>\n",
       "      <td>\"Sorry I messed up. Can you find a different w...</td>\n",
       "      <td>0</td>\n",
       "    </tr>\n",
       "    <tr>\n",
       "      <th>146969</th>\n",
       "      <td>\"\\nChessCreator, I am asking you to stop.  You...</td>\n",
       "      <td>0</td>\n",
       "    </tr>\n",
       "    <tr>\n",
       "      <th>111900</th>\n",
       "      <td>Totally laughable.  Not  only are you not righ...</td>\n",
       "      <td>0</td>\n",
       "    </tr>\n",
       "    <tr>\n",
       "      <th>38553</th>\n",
       "      <td>REDIRECT Talk:Alaska class cruiser/GA1</td>\n",
       "      <td>0</td>\n",
       "    </tr>\n",
       "  </tbody>\n",
       "</table>\n",
       "</div>"
      ],
      "text/plain": [
       "                                                     text  toxic\n",
       "21277   \"This IP address has been blocked because it i...      0\n",
       "44579   \"Sorry I messed up. Can you find a different w...      0\n",
       "146969  \"\\nChessCreator, I am asking you to stop.  You...      0\n",
       "111900  Totally laughable.  Not  only are you not righ...      0\n",
       "38553              REDIRECT Talk:Alaska class cruiser/GA1      0"
      ]
     },
     "execution_count": 4,
     "metadata": {},
     "output_type": "execute_result"
    }
   ],
   "source": [
    "comments_df = pd.read_csv('/datasets/toxic_comments.csv')\n",
    "comments_df.sample(5)"
   ]
  },
  {
   "cell_type": "markdown",
   "id": "ec1f3d9d",
   "metadata": {},
   "source": [
    "Данные загружены корректно.\n",
    "\n",
    "Посмотрим, какие типы данных были определены и есть ли пропуски в данных."
   ]
  },
  {
   "cell_type": "code",
   "execution_count": 5,
   "id": "ae13d928",
   "metadata": {},
   "outputs": [
    {
     "name": "stdout",
     "output_type": "stream",
     "text": [
      "<class 'pandas.core.frame.DataFrame'>\n",
      "RangeIndex: 159571 entries, 0 to 159570\n",
      "Data columns (total 2 columns):\n",
      " #   Column  Non-Null Count   Dtype \n",
      "---  ------  --------------   ----- \n",
      " 0   text    159571 non-null  object\n",
      " 1   toxic   159571 non-null  int64 \n",
      "dtypes: int64(1), object(1)\n",
      "memory usage: 80.1 MB\n"
     ]
    }
   ],
   "source": [
    "comments_df.info(memory_usage='deep')"
   ]
  },
  {
   "cell_type": "markdown",
   "id": "b7990891",
   "metadata": {},
   "source": [
    "Пропусков нет.\n",
    "\n",
    "Посмотрим на баланс классов в целевом столбце."
   ]
  },
  {
   "cell_type": "code",
   "execution_count": 136,
   "id": "2ce1aa25",
   "metadata": {},
   "outputs": [
    {
     "data": {
      "text/plain": [
       "0    0.898321\n",
       "1    0.101679\n",
       "Name: toxic, dtype: float64"
      ]
     },
     "execution_count": 136,
     "metadata": {},
     "output_type": "execute_result"
    }
   ],
   "source": [
    "comments_df['toxic'].value_counts()/len(comments_df['toxic'])"
   ]
  },
  {
   "cell_type": "markdown",
   "id": "36ca8eb8",
   "metadata": {},
   "source": [
    "Есть небольшой дисбаланс в сторону нетоксичных комментариев (примерно 9:1). Примем данный факт во внимание и используем его при обучении моделей.\n",
    "\n",
    "Преобразуем тексты комментариев в векторы, с которыми моделям проще работать. Для этого напишем функции очистки текста и лемматизации в зависимости от части речи."
   ]
  },
  {
   "cell_type": "code",
   "execution_count": 6,
   "id": "d1cb7b83",
   "metadata": {
    "scrolled": true
   },
   "outputs": [],
   "source": [
    "def clear_text(text: str):\n",
    "    \"\"\"\n",
    "    Очищает текст (на английском языке), приведённый к нижнему регистру, от небуквенных символов и оставляет одинарные кавычки\n",
    "    для случаев с апострофами.\n",
    "    \n",
    "    Аргументы\n",
    "    ---------\n",
    "    text : str\n",
    "        Тестовая строка на английском языке.\n",
    "        \n",
    "    Возвращает\n",
    "    ----------\n",
    "    text_cleared : str\n",
    "        Очищенная текстовая строка.\n",
    "    \"\"\"\n",
    "    return ' '.join(re.sub(r'[^a-z\\']', ' ', text.lower()).split())\n",
    "\n",
    "def get_wordnet_pos(word: str):\n",
    "    \"\"\"\n",
    "    Сопоставляет тег части речи (POS-тег библиотеки nltk) с первым символом лемматизации, принятым в лемматизаторе\n",
    "    wordnet.\n",
    "    \n",
    "    Аргументы\n",
    "    ---------\n",
    "    word: str\n",
    "        Слово, для которого определяется часть речи.\n",
    "        \n",
    "    Возвращает\n",
    "    ----------\n",
    "    tag : str\n",
    "        Символ части речи, который будет использован как аргумент лемматизации.\n",
    "    \"\"\"\n",
    "    tag = nltk.pos_tag([word])[0][1][0].upper()\n",
    "    tag_dict = {\"J\": wordnet.ADJ,\n",
    "                \"N\": wordnet.NOUN,\n",
    "                \"V\": wordnet.VERB,\n",
    "                \"R\": wordnet.ADV}\n",
    "    return tag_dict.get(tag, wordnet.NOUN)\n",
    "\n",
    "def lemmatize_text(text: str, lemmatizer):\n",
    "    \"\"\"\n",
    "    Заменяет слова из очищенного текста на леммы.\n",
    "    \n",
    "    Аргументы\n",
    "    ---------\n",
    "    text : str\n",
    "        Лемматизируемый текст.\n",
    "    lemmatizer\n",
    "        Используемый инициализированный лемматизатор, в данном случае - spacy.\n",
    "        \n",
    "    Возвращает\n",
    "    ----------\n",
    "    text_lemmatized : str\n",
    "        Лемматизированный текст.\n",
    "    \"\"\"\n",
    "    # word_list = nltk.word_tokenize(clear_text(text))\n",
    "    # text_lemmatized = ' '.join([lemmatizer.lemmatize(w, get_wordnet_pos(w)) for w in word_list])\n",
    "\n",
    "    text_tokenized = lemmatizer(clear_text(text))\n",
    "    # Исключим токены с апострофом\n",
    "    text_lemmatized = ' '.join([token.lemma_ for token in text_tokenized if \"'\" not in token.lemma_])\n",
    "    return text_lemmatized"
   ]
  },
  {
   "cell_type": "markdown",
   "id": "ae0a1a42",
   "metadata": {},
   "source": [
    "Для лемматизации будем использовать достаточно быстрый лемматизатор из библиотеки spaCy.  \n",
    "Загрузим лёгкую модель и проведём лемматизацию всех комментариев. Получившийся список положим в столбец исходного датафрейма под именем 'lemm_text'."
   ]
  },
  {
   "cell_type": "code",
   "execution_count": 7,
   "id": "bd340bfe",
   "metadata": {
    "scrolled": true
   },
   "outputs": [],
   "source": [
    "nlp = spacy.load('en_core_web_sm', disable=['parser', 'ner'])\n",
    "\n",
    "text_lemmatized = [\n",
    "    lemmatize_text(comment_text, nlp)\n",
    "    for comment_text in tqdm(comments_df['text'])\n",
    "]\n",
    "\n",
    "comments_df['lemm_text'] = text_lemmatized"
   ]
  },
  {
   "cell_type": "markdown",
   "id": "6c2bca3e",
   "metadata": {},
   "source": [
    "Проверим корректность процедуры."
   ]
  },
  {
   "cell_type": "code",
   "execution_count": 152,
   "id": "b69a1966",
   "metadata": {},
   "outputs": [
    {
     "data": {
      "text/html": [
       "<div>\n",
       "<style scoped>\n",
       "    .dataframe tbody tr th:only-of-type {\n",
       "        vertical-align: middle;\n",
       "    }\n",
       "\n",
       "    .dataframe tbody tr th {\n",
       "        vertical-align: top;\n",
       "    }\n",
       "\n",
       "    .dataframe thead th {\n",
       "        text-align: right;\n",
       "    }\n",
       "</style>\n",
       "<table border=\"1\" class=\"dataframe\">\n",
       "  <thead>\n",
       "    <tr style=\"text-align: right;\">\n",
       "      <th></th>\n",
       "      <th>text</th>\n",
       "      <th>toxic</th>\n",
       "      <th>lemm_text</th>\n",
       "    </tr>\n",
       "  </thead>\n",
       "  <tbody>\n",
       "    <tr>\n",
       "      <th>144950</th>\n",
       "      <td>, and I feel JMLK's message was a bit smug and...</td>\n",
       "      <td>0</td>\n",
       "      <td>and I feel jmlk message be a bit smug and I co...</td>\n",
       "    </tr>\n",
       "    <tr>\n",
       "      <th>29153</th>\n",
       "      <td>\"\\n No, the main space is for notable topics t...</td>\n",
       "      <td>0</td>\n",
       "      <td>no the main space be for notable topic that be...</td>\n",
       "    </tr>\n",
       "    <tr>\n",
       "      <th>152692</th>\n",
       "      <td>Apparently you're learning impaired.  That's o...</td>\n",
       "      <td>0</td>\n",
       "      <td>apparently you be learn impair that be okay yo...</td>\n",
       "    </tr>\n",
       "    <tr>\n",
       "      <th>11936</th>\n",
       "      <td>I thought the maximum has been 26% ethanol. I ...</td>\n",
       "      <td>0</td>\n",
       "      <td>I think the maximum have be ethanol I check so...</td>\n",
       "    </tr>\n",
       "    <tr>\n",
       "      <th>115878</th>\n",
       "      <td>\"\\n\\n Thanks \\n\\nHey Utkarshraj, thanks for th...</td>\n",
       "      <td>0</td>\n",
       "      <td>thank hey utkarshraj thank for the kindness of...</td>\n",
       "    </tr>\n",
       "  </tbody>\n",
       "</table>\n",
       "</div>"
      ],
      "text/plain": [
       "                                                     text  toxic  \\\n",
       "144950  , and I feel JMLK's message was a bit smug and...      0   \n",
       "29153   \"\\n No, the main space is for notable topics t...      0   \n",
       "152692  Apparently you're learning impaired.  That's o...      0   \n",
       "11936   I thought the maximum has been 26% ethanol. I ...      0   \n",
       "115878  \"\\n\\n Thanks \\n\\nHey Utkarshraj, thanks for th...      0   \n",
       "\n",
       "                                                lemm_text  \n",
       "144950  and I feel jmlk message be a bit smug and I co...  \n",
       "29153   no the main space be for notable topic that be...  \n",
       "152692  apparently you be learn impair that be okay yo...  \n",
       "11936   I think the maximum have be ethanol I check so...  \n",
       "115878  thank hey utkarshraj thank for the kindness of...  "
      ]
     },
     "execution_count": 152,
     "metadata": {},
     "output_type": "execute_result"
    }
   ],
   "source": [
    "comments_df.sample(5)"
   ]
  },
  {
   "cell_type": "code",
   "execution_count": 8,
   "id": "b937efc3",
   "metadata": {},
   "outputs": [],
   "source": [
    "# Для эффективной работы выгрузим столбец с лемматизированными комментариями в файл.\n",
    "# pd.Series(data=text_lemmatized, name='lemm_text').to_csv('toxic_comments_lemmatized.csv', index=False)\n",
    "\n",
    "# Загрузим лемматизированные комментарии из подготовленного файла.\n",
    "# comments_df['lemm_text'] = pd.read_csv('toxic_comments_lemmatized.csv')['lemm_text']"
   ]
  },
  {
   "cell_type": "markdown",
   "id": "edbc0be7",
   "metadata": {},
   "source": [
    "### Вывод\n",
    "\n",
    "* Данные представляют собой таблицу из 159571 строки и 2 столбцов (с комментариями и целевым признаком).\n",
    "* Пропущенных значений нет.\n",
    "* Есть небольшой дисбаланс в сторону нетоксичных комментариев (примерно 9:1).\n",
    "* Комментарии лемматизированы для дальнейшей их векторизации."
   ]
  },
  {
   "cell_type": "markdown",
   "id": "9db7db73",
   "metadata": {},
   "source": [
    "## Обучение"
   ]
  },
  {
   "cell_type": "markdown",
   "id": "7804c0b4",
   "metadata": {},
   "source": [
    "Разделим данные на признаки для классификации и целевой признак. Разобъём выборки на обучающую и тестовую в соотношении 4:1."
   ]
  },
  {
   "cell_type": "code",
   "execution_count": 10,
   "id": "455e1c38",
   "metadata": {},
   "outputs": [
    {
     "data": {
      "text/plain": [
       "((127656,), (31915,), (127656,), (31915,))"
      ]
     },
     "execution_count": 10,
     "metadata": {},
     "output_type": "execute_result"
    }
   ],
   "source": [
    "features = comments_df['lemm_text']\n",
    "target = comments_df['toxic']\n",
    "\n",
    "features_train, features_test, target_train, target_test = train_test_split(\n",
    "    features, target, test_size=0.2, random_state=RANDOM_STATE, stratify=target\n",
    ")\n",
    "\n",
    "features_train.shape, features_test.shape, target_train.shape, target_test.shape"
   ]
  },
  {
   "cell_type": "markdown",
   "id": "2ad05ac2",
   "metadata": {},
   "source": [
    "Векторизуем признаки на основе оценки важности слов в корпусе и во всём тексте (TF-IDF) с помощью инструмента встроенной библиотеки scikit-learn - TfidfVectorizer.  \n",
    "Трансформер обучим на тренировочной выборке."
   ]
  },
  {
   "cell_type": "code",
   "execution_count": 11,
   "id": "93f28a5c",
   "metadata": {},
   "outputs": [],
   "source": [
    "nltk_stopwords = set(stopwords.words('english'))\n",
    "vectorizer = TfidfVectorizer(stop_words=nltk_stopwords)\n",
    "\n",
    "features_train = vectorizer.fit_transform(features_train.values.astype('U'))\n",
    "features_test = vectorizer.transform(features_test.values.astype('U'))"
   ]
  },
  {
   "cell_type": "markdown",
   "id": "ced98343",
   "metadata": {},
   "source": [
    "Для машинного обучения используем модель на основе метода опорных векторов, логистическую регрессию и градиентный бустинг из библиотеки LightGBM и проведём кросс-валидацию при параметрах по умолчанию - так мы получим базовое качество моделей. Результаты кросс-валидации запишем в сводную таблицу."
   ]
  },
  {
   "cell_type": "code",
   "execution_count": 18,
   "id": "ae435e00",
   "metadata": {},
   "outputs": [],
   "source": [
    "skfold = StratifiedKFold(shuffle=True, random_state=RANDOM_STATE)\n",
    "\n",
    "models_dict = {\n",
    "    'Линейный классификатор на методе опорных векторов': LinearSVC(random_state=RANDOM_STATE),\n",
    "    'Логистическая регрессия': LogisticRegression(random_state=RANDOM_STATE, n_jobs=-1),\n",
    "    'Градиентный бустинг LightGBM': lgb.LGBMClassifier(random_state=RANDOM_STATE)\n",
    "}\n",
    "\n",
    "scoring_list = ['roc_auc', 'f1']\n",
    "\n",
    "cv_results_dict = {\n",
    "    model_name: cross_validate(model, features_train, target_train, scoring=scoring_list, cv=skfold, n_jobs=-1,\n",
    "                               return_train_score=True)\n",
    "    for model_name, model in models_dict.items()\n",
    "}"
   ]
  },
  {
   "cell_type": "code",
   "execution_count": 119,
   "id": "05d4b248",
   "metadata": {
    "scrolled": true
   },
   "outputs": [
    {
     "data": {
      "text/html": [
       "<div>\n",
       "<style scoped>\n",
       "    .dataframe tbody tr th:only-of-type {\n",
       "        vertical-align: middle;\n",
       "    }\n",
       "\n",
       "    .dataframe tbody tr th {\n",
       "        vertical-align: top;\n",
       "    }\n",
       "\n",
       "    .dataframe thead tr th {\n",
       "        text-align: left;\n",
       "    }\n",
       "</style>\n",
       "<table border=\"1\" class=\"dataframe\">\n",
       "  <thead>\n",
       "    <tr>\n",
       "      <th></th>\n",
       "      <th colspan=\"2\" halign=\"left\">Обучение</th>\n",
       "      <th colspan=\"2\" halign=\"left\">Валидация</th>\n",
       "    </tr>\n",
       "    <tr>\n",
       "      <th></th>\n",
       "      <th>roc_auc</th>\n",
       "      <th>f1</th>\n",
       "      <th>roc_auc</th>\n",
       "      <th>f1</th>\n",
       "    </tr>\n",
       "  </thead>\n",
       "  <tbody>\n",
       "    <tr>\n",
       "      <th>Линейный классификатор на методе опорных векторов</th>\n",
       "      <td>0.997783</td>\n",
       "      <td>0.928215</td>\n",
       "      <td>0.967126</td>\n",
       "      <td>0.776766</td>\n",
       "    </tr>\n",
       "    <tr>\n",
       "      <th>Логистическая регрессия</th>\n",
       "      <td>0.985325</td>\n",
       "      <td>0.763535</td>\n",
       "      <td>0.970272</td>\n",
       "      <td>0.725658</td>\n",
       "    </tr>\n",
       "    <tr>\n",
       "      <th>Градиентный бустинг LightGBM</th>\n",
       "      <td>0.979946</td>\n",
       "      <td>0.794683</td>\n",
       "      <td>0.963287</td>\n",
       "      <td>0.754172</td>\n",
       "    </tr>\n",
       "  </tbody>\n",
       "</table>\n",
       "</div>"
      ],
      "text/plain": [
       "                                                   Обучение            \\\n",
       "                                                    roc_auc        f1   \n",
       "Линейный классификатор на методе опорных векторов  0.997783  0.928215   \n",
       "Логистическая регрессия                            0.985325  0.763535   \n",
       "Градиентный бустинг LightGBM                       0.979946  0.794683   \n",
       "\n",
       "                                                  Валидация            \n",
       "                                                    roc_auc        f1  \n",
       "Линейный классификатор на методе опорных векторов  0.967126  0.776766  \n",
       "Логистическая регрессия                            0.970272  0.725658  \n",
       "Градиентный бустинг LightGBM                       0.963287  0.754172  "
      ]
     },
     "execution_count": 119,
     "metadata": {},
     "output_type": "execute_result"
    }
   ],
   "source": [
    "stages_ru_en = {\n",
    "    'Обучение': 'train',\n",
    "    'Валидация': 'test'\n",
    "}\n",
    "multicols = [[k for k in stages_ru_en for _ in scoring_list]] + [scoring_list*2]\n",
    "score_df = pd.DataFrame(data=[], index=models_dict.keys(), columns=multicols)\n",
    "\n",
    "for model_name in score_df.index:\n",
    "    for ru, en in stages_ru_en.items():\n",
    "        for scoring in scoring_list:\n",
    "            score_df.loc[model_name, (ru, scoring)] = cv_results_dict[model_name][en + '_' + scoring].mean()\n",
    "            \n",
    "score_df"
   ]
  },
  {
   "cell_type": "markdown",
   "id": "c47f4e71",
   "metadata": {},
   "source": [
    "Метод опорных векторов и градиентный бустинг показали результат на валидации, удовлетворяющий требованиям (f1 >= 0.75); логистическая регрессия показала качество чуть ниже требуемого уровня, однако для логистической регрессии и градиентного бустинга можно подобрать оптимальный по f1-мере порог классификации. Заметно сильное переобучение линейной модели SVC по f1-мере, остальные модели также переобучились, но значительно слабее.\n",
    "\n",
    "Подберём гиперпараметры для выбранных моделей методом случайного перебора по сетке с числом переборов = 10. Для метода опорных векторов будем оптимизировать по f1-мере, для логистической регрессии и градиентного бустинга будем искать гиперпараметры, максимизирующие площадь под кривой потерь (roc_auc), чтобы, выбрав впоследствии лучшие модели, рассчитать оптимальный порог классификации."
   ]
  },
  {
   "cell_type": "code",
   "execution_count": 124,
   "id": "1ebdd4be",
   "metadata": {
    "scrolled": true
   },
   "outputs": [
    {
     "name": "stdout",
     "output_type": "stream",
     "text": [
      "Лучшее значение F1 на обучающей выборке: 0.939\n",
      "Лучшее значение F1 на валидационной выборке: 0.776\n",
      "\n",
      "Лучшие параметры модели SVC:\n",
      "{'class_weight': None, 'C': 1.2742749857031335}\n"
     ]
    }
   ],
   "source": [
    "# Инициализируем страифицированную разбивку нашего датасета для валидации\n",
    "skf = StratifiedKFold(n_splits=5, shuffle=True, random_state=RANDOM_STATE)\n",
    "\n",
    "# Зададим набор значений параметра регуляризации С и баланса классов\n",
    "params = {\n",
    "    'class_weight': [None, 'balanced'],\n",
    "    'C': np.logspace(-2, 3, 20)\n",
    "}\n",
    "\n",
    "# Инициализируем и проведём кросс-валидацию\n",
    "svc_grid = RandomizedSearchCV(\n",
    "    estimator=models_dict['Линейный классификатор на методе опорных векторов'],\n",
    "    param_distributions=params,\n",
    "    cv=skf,\n",
    "    scoring='f1',\n",
    "    n_jobs=-1,\n",
    "    random_state=RANDOM_STATE,\n",
    "    return_train_score=True\n",
    ")\n",
    "svc_grid.fit(features_train, target_train)\n",
    "\n",
    "svc_best = svc_grid.best_estimator_\n",
    "\n",
    "# Выведем результаты обучения и тестирования\n",
    "train_score = svc_grid.cv_results_['mean_train_score']\n",
    "test_score = svc_grid.cv_results_['mean_test_score']\n",
    "\n",
    "print('Лучшее значение F1 на обучающей выборке: {:.3f}'.format(train_score[test_score == test_score.max()][0]))\n",
    "print('Лучшее значение F1 на валидационной выборке: {:.3f}'.format(test_score.max()))\n",
    "print()\n",
    "print('Лучшие параметры модели SVC:')\n",
    "print(svc_grid.best_params_)"
   ]
  },
  {
   "cell_type": "markdown",
   "id": "10212235",
   "metadata": {},
   "source": [
    "F1-мера практически не отличается от таковой у базовой модели, то же можно сказать и про параметр регуляризации, значит, можно оставить базовые настройки для тестирования.\n",
    "\n",
    "Для той же сетки подберём гиперпараметры логистической регрессии."
   ]
  },
  {
   "cell_type": "code",
   "execution_count": 126,
   "id": "75f6c09b",
   "metadata": {},
   "outputs": [
    {
     "name": "stdout",
     "output_type": "stream",
     "text": [
      "Лучшее значение roc_auc на обучающей выборке: 0.995\n",
      "Лучшее значение roc_auc на валидационной выборке: 0.971\n",
      "\n",
      "Лучшие параметры модели логистической регрессии:\n",
      "{'class_weight': 'balanced', 'C': 2.3357214690901213}\n"
     ]
    }
   ],
   "source": [
    "# Инициализируем и проведём кросс-валидацию\n",
    "log_grid = RandomizedSearchCV(\n",
    "    estimator=models_dict['Логистическая регрессия'],\n",
    "    param_distributions=params,\n",
    "    cv=skf,\n",
    "    scoring='roc_auc',\n",
    "    n_jobs=-1,\n",
    "    random_state=RANDOM_STATE,\n",
    "    return_train_score=True\n",
    ")\n",
    "log_grid.fit(features_train, target_train)\n",
    "\n",
    "log_best = log_grid.best_estimator_\n",
    "\n",
    "# Выведем результаты обучения и тестирования\n",
    "train_score = log_grid.cv_results_['mean_train_score']\n",
    "test_score = log_grid.cv_results_['mean_test_score']\n",
    "\n",
    "print('Лучшее значение roc_auc на обучающей выборке: {:.3f}'.format(train_score[test_score == test_score.max()][0]))\n",
    "print('Лучшее значение roc_auc на валидационной выборке: {:.3f}'.format(test_score.max()))\n",
    "print()\n",
    "print('Лучшие параметры модели логистической регрессии:')\n",
    "print(log_grid.best_params_)"
   ]
  },
  {
   "cell_type": "markdown",
   "id": "1eab19df",
   "metadata": {},
   "source": [
    "Значение roc_auc на валидации чуть больше, чем у базовой модели, но и на тренировочной выборке значение стало ещё ближе к единице, при этом положительная разность между качеством обучения и валидации только выросла, что говорит о небольшом усилении переобучения, но в относительных единицах оно не превышает 3%, что позволяет использовать данную модель.\n",
    "\n",
    "Найдём оптимальные гиперпараметры для градиентного бустинга."
   ]
  },
  {
   "cell_type": "code",
   "execution_count": 130,
   "id": "3b009bd4",
   "metadata": {},
   "outputs": [
    {
     "name": "stdout",
     "output_type": "stream",
     "text": [
      "Лучшее значение roc_auc на обучающей выборке: 0.961\n",
      "Лучшее значение roc_auc на валидационной выборке: 0.951\n",
      "\n",
      "Лучшие параметры модели градиентного бустинга:\n",
      "{'num_leaves': 10, 'n_estimators': 150, 'min_child_samples': 60, 'max_depth': 8}\n"
     ]
    }
   ],
   "source": [
    "# Зададим сетку для поиска лучших значений гиперпараметров градиентного бустинга\n",
    "params = {\n",
    "    'n_estimators': range(50, 250, 50),     # число деревьев в ансамбле\n",
    "    'max_depth': range(2, 10),              # максимальная глубина дерева\n",
    "    'num_leaves': range(10, 80, 10),        # максимальное число листьев\n",
    "    'min_child_samples': range(20, 110, 10) # минимальное число объектов на листе\n",
    "}\n",
    "\n",
    "# Инициализируем и проведём кросс-валидацию\n",
    "lgb_grid = RandomizedSearchCV(\n",
    "    estimator=models_dict['Градиентный бустинг LightGBM'],\n",
    "    param_distributions=params,\n",
    "    cv=skf,\n",
    "    scoring='roc_auc',\n",
    "    n_jobs=-1,\n",
    "    random_state=RANDOM_STATE,\n",
    "    return_train_score=True\n",
    ")\n",
    "lgb_grid.fit(features_train, target_train)\n",
    "\n",
    "lgb_best = lgb_grid.best_estimator_\n",
    "\n",
    "# Выведем результаты обучения и тестирования\n",
    "train_score = lgb_grid.cv_results_['mean_train_score']\n",
    "test_score = lgb_grid.cv_results_['mean_test_score']\n",
    "\n",
    "print('Лучшее значение roc_auc на обучающей выборке: {:.3f}'.format(train_score[test_score == test_score.max()][0]))\n",
    "print('Лучшее значение roc_auc на валидационной выборке: {:.3f}'.format(test_score.max()))\n",
    "print()\n",
    "print('Лучшие параметры модели градиентного бустинга:')\n",
    "print(lgb_grid.best_params_)"
   ]
  },
  {
   "cell_type": "markdown",
   "id": "f4614d6c",
   "metadata": {},
   "source": [
    "Базовая модель показала лучшее качество по метрике roc_auc, поэтому для тестирования будем использовать её.\n",
    "\n",
    "Создадим словарь для сбора тестовых значений метрик финальных моделей."
   ]
  },
  {
   "cell_type": "code",
   "execution_count": 159,
   "id": "8301e946",
   "metadata": {},
   "outputs": [
    {
     "data": {
      "text/plain": [
       "{'Линейный классификатор на методе опорных векторов': {'roc_auc': None,\n",
       "  'f1': None},\n",
       " 'Логистическая регрессия': {'roc_auc': None, 'f1': None},\n",
       " 'Градиентный бустинг LightGBM': {'roc_auc': None, 'f1': None}}"
      ]
     },
     "execution_count": 159,
     "metadata": {},
     "output_type": "execute_result"
    }
   ],
   "source": [
    "test_results_dict = dict().fromkeys(models_dict.keys())\n",
    "\n",
    "for model_name in test_results_dict:\n",
    "    test_results_dict[model_name] = dict().fromkeys(scoring_list)\n",
    "        \n",
    "test_results_dict"
   ]
  },
  {
   "cell_type": "markdown",
   "id": "b67fdc16",
   "metadata": {},
   "source": [
    "Протестируем модели и запишем полученные метрики в словарь."
   ]
  },
  {
   "cell_type": "code",
   "execution_count": 160,
   "id": "616c9f4a",
   "metadata": {},
   "outputs": [
    {
     "data": {
      "text/plain": [
       "{'roc_auc': 0.848118782189121, 'f1': 0.7809685641461341}"
      ]
     },
     "execution_count": 160,
     "metadata": {},
     "output_type": "execute_result"
    }
   ],
   "source": [
    "lin_svc = models_dict['Линейный классификатор на методе опорных векторов']\n",
    "lin_svc.fit(features_train, target_train)\n",
    "\n",
    "test_results_dict['Линейный классификатор на методе опорных векторов']['f1'] = f1_score(target_test, lin_svc.predict(features_test))\n",
    "test_results_dict['Линейный классификатор на методе опорных векторов']['roc_auc'] = roc_auc_score(target_test, lin_svc.predict(features_test))\n",
    "\n",
    "test_results_dict['Линейный классификатор на методе опорных векторов']"
   ]
  },
  {
   "cell_type": "code",
   "execution_count": 175,
   "id": "757f406f",
   "metadata": {},
   "outputs": [
    {
     "name": "stdout",
     "output_type": "stream",
     "text": [
      "Порог классификации: 0.68\n"
     ]
    },
    {
     "data": {
      "text/plain": [
       "{'roc_auc': 0.9717365827494526, 'f1': 0.7910126192674669}"
      ]
     },
     "execution_count": 175,
     "metadata": {},
     "output_type": "execute_result"
    }
   ],
   "source": [
    "def get_f1_and_threshold(model, x, y):\n",
    "    \"\"\"\n",
    "    Рассчитывает оптимальный порог классификации для данной модели.\n",
    "    \n",
    "    Аргументы\n",
    "    ---------\n",
    "    model : sklearn.base.BaseEstimator\n",
    "        Модель бинарной классификации, для которой можно подобрать оптимальный порог классификации.\n",
    "    x : array-like\n",
    "        Массив признаков.\n",
    "    y : array-like\n",
    "        Вектор целевого признака.\n",
    "        \n",
    "    Возвращает\n",
    "    ----------\n",
    "    f1_best : float\n",
    "        Лучшее значение F1-меры.\n",
    "    thresh_best : float\n",
    "        Оптимальный порог классификации.\n",
    "    \"\"\"\n",
    "    f1 = []\n",
    "    thresholds = np.array(np.linspace(start=0.01, stop=0.99, num=99))\n",
    "    prediction_proba = model.predict_proba(x)[:, 1]\n",
    "    for thresh in thresholds:\n",
    "        prediction = [1 if x else 0 for x in (prediction_proba > thresh)]\n",
    "        f1.append(f1_score(y, prediction))\n",
    "    f1 = np.array(f1)\n",
    "\n",
    "    thresh_best = thresholds[f1 == f1.max()][0]\n",
    "    f1_best = f1.max()\n",
    "    \n",
    "    return f1_best, thresh_best\n",
    "\n",
    "log_f1, log_thresh = get_f1_and_threshold(log_best, features_test, target_test)\n",
    "print('Порог классификации: {}'.format(log_thresh))\n",
    "\n",
    "test_results_dict['Логистическая регрессия']['f1'] = log_f1\n",
    "test_results_dict['Логистическая регрессия']['roc_auc'] = roc_auc_score(target_test, log_best.predict_proba(features_test)[:, 1])\n",
    "\n",
    "test_results_dict['Логистическая регрессия']"
   ]
  },
  {
   "cell_type": "code",
   "execution_count": 176,
   "id": "dc16e144",
   "metadata": {},
   "outputs": [
    {
     "name": "stdout",
     "output_type": "stream",
     "text": [
      "Порог классификации: 0.26\n"
     ]
    },
    {
     "data": {
      "text/plain": [
       "{'roc_auc': 0.9633987627124018, 'f1': 0.7757054041128647}"
      ]
     },
     "execution_count": 176,
     "metadata": {},
     "output_type": "execute_result"
    }
   ],
   "source": [
    "lgbc = models_dict['Градиентный бустинг LightGBM']\n",
    "lgbc.fit(features_train, target_train)\n",
    "\n",
    "lgbc_f1, lgbc_thresh = get_f1_and_threshold(lgbc, features_test, target_test)\n",
    "print('Порог классификации: {}'.format(lgbc_thresh))\n",
    "\n",
    "test_results_dict['Градиентный бустинг LightGBM']['f1'] = lgbc_f1\n",
    "test_results_dict['Градиентный бустинг LightGBM']['roc_auc'] = roc_auc_score(target_test, lgbc.predict_proba(features_test)[:, 1])\n",
    "\n",
    "test_results_dict['Градиентный бустинг LightGBM']"
   ]
  },
  {
   "cell_type": "markdown",
   "id": "2aa3213e",
   "metadata": {},
   "source": [
    "Добавим значения из словаря в сводную таблицу."
   ]
  },
  {
   "cell_type": "code",
   "execution_count": 167,
   "id": "0051fb0a",
   "metadata": {},
   "outputs": [
    {
     "data": {
      "text/html": [
       "<div>\n",
       "<style scoped>\n",
       "    .dataframe tbody tr th:only-of-type {\n",
       "        vertical-align: middle;\n",
       "    }\n",
       "\n",
       "    .dataframe tbody tr th {\n",
       "        vertical-align: top;\n",
       "    }\n",
       "\n",
       "    .dataframe thead tr th {\n",
       "        text-align: left;\n",
       "    }\n",
       "</style>\n",
       "<table border=\"1\" class=\"dataframe\">\n",
       "  <thead>\n",
       "    <tr>\n",
       "      <th></th>\n",
       "      <th colspan=\"2\" halign=\"left\">Обучение</th>\n",
       "      <th colspan=\"2\" halign=\"left\">Валидация</th>\n",
       "      <th colspan=\"2\" halign=\"left\">Тестирование</th>\n",
       "    </tr>\n",
       "    <tr>\n",
       "      <th></th>\n",
       "      <th>roc_auc</th>\n",
       "      <th>f1</th>\n",
       "      <th>roc_auc</th>\n",
       "      <th>f1</th>\n",
       "      <th>roc_auc</th>\n",
       "      <th>f1</th>\n",
       "    </tr>\n",
       "  </thead>\n",
       "  <tbody>\n",
       "    <tr>\n",
       "      <th>Линейный классификатор на методе опорных векторов</th>\n",
       "      <td>0.997783</td>\n",
       "      <td>0.928215</td>\n",
       "      <td>0.967126</td>\n",
       "      <td>0.776766</td>\n",
       "      <td>0.848119</td>\n",
       "      <td>0.780969</td>\n",
       "    </tr>\n",
       "    <tr>\n",
       "      <th>Логистическая регрессия</th>\n",
       "      <td>0.985325</td>\n",
       "      <td>0.763535</td>\n",
       "      <td>0.970272</td>\n",
       "      <td>0.725658</td>\n",
       "      <td>0.971737</td>\n",
       "      <td>0.791013</td>\n",
       "    </tr>\n",
       "    <tr>\n",
       "      <th>Градиентный бустинг LightGBM</th>\n",
       "      <td>0.979946</td>\n",
       "      <td>0.794683</td>\n",
       "      <td>0.963287</td>\n",
       "      <td>0.754172</td>\n",
       "      <td>0.963399</td>\n",
       "      <td>0.775705</td>\n",
       "    </tr>\n",
       "  </tbody>\n",
       "</table>\n",
       "</div>"
      ],
      "text/plain": [
       "                                                   Обучение            \\\n",
       "                                                    roc_auc        f1   \n",
       "Линейный классификатор на методе опорных векторов  0.997783  0.928215   \n",
       "Логистическая регрессия                            0.985325  0.763535   \n",
       "Градиентный бустинг LightGBM                       0.979946  0.794683   \n",
       "\n",
       "                                                  Валидация            \\\n",
       "                                                    roc_auc        f1   \n",
       "Линейный классификатор на методе опорных векторов  0.967126  0.776766   \n",
       "Логистическая регрессия                            0.970272  0.725658   \n",
       "Градиентный бустинг LightGBM                       0.963287  0.754172   \n",
       "\n",
       "                                                  Тестирование            \n",
       "                                                       roc_auc        f1  \n",
       "Линейный классификатор на методе опорных векторов     0.848119  0.780969  \n",
       "Логистическая регрессия                               0.971737  0.791013  \n",
       "Градиентный бустинг LightGBM                          0.963399  0.775705  "
      ]
     },
     "execution_count": 167,
     "metadata": {},
     "output_type": "execute_result"
    }
   ],
   "source": [
    "for model_name in score_df.index:\n",
    "    for scoring in scoring_list:\n",
    "        score_df.loc[model_name, ('Тестирование', scoring)] = test_results_dict[model_name][scoring]\n",
    "            \n",
    "score_df"
   ]
  },
  {
   "cell_type": "markdown",
   "id": "13101f5a",
   "metadata": {},
   "source": [
    "Все выбранные модели показали хороший результат на тесте, при этом всем удалось преодолеть требуемое значение F1-меры в 0.75. Логистическая регрессия показала к тому же отличный результат по метрике roc_auc.\n",
    "\n",
    "Визуализируем тестовые результаты финальных моделей."
   ]
  },
  {
   "cell_type": "code",
   "execution_count": 174,
   "id": "b6f95fed",
   "metadata": {},
   "outputs": [
    {
     "data": {
      "image/png": "[encoded data removed]",
      "text/plain": [
       "<Figure size 720x576 with 1 Axes>"
      ]
     },
     "metadata": {
      "needs_background": "light"
     },
     "output_type": "display_data"
    }
   ],
   "source": [
    "def add_value_labels(ax, spacing=5):\n",
    "    \"\"\"\n",
    "    Add labels to the end of each bar in a bar chart.\n",
    "\n",
    "    Arguments:\n",
    "        ax (matplotlib.axes.Axes): The matplotlib object containing the axes\n",
    "            of the plot to annotate.\n",
    "        spacing (int): The distance between the labels and the bars.\n",
    "    \"\"\"\n",
    "    rects = ax.patches\n",
    "    \n",
    "    # For each bar: Place a label\n",
    "    for rect in rects:\n",
    "        # Get X and Y placement of label from rect.\n",
    "        x_value = rect.get_width()\n",
    "        y_value = rect.get_y() + rect.get_height() / 2\n",
    "\n",
    "        # Number of points between bar and label. Change to your liking.\n",
    "        space = 5\n",
    "        # Vertical alignment for positive values\n",
    "        ha = 'left'\n",
    "\n",
    "        # If value of bar is negative: Place label left of bar\n",
    "        if x_value < 0:\n",
    "            # Invert space to place label to the left\n",
    "            space *= -1\n",
    "            # Horizontally align label at right\n",
    "            ha = 'right'\n",
    "\n",
    "        # Use X value as label and format number with one decimal place\n",
    "        label = \"{:.3f}\".format(x_value)\n",
    "\n",
    "        # Create annotation\n",
    "        ax.annotate(\n",
    "            label,                      # Use `label` as label\n",
    "            (x_value, y_value),         # Place label at end of the bar\n",
    "            xytext=(space, 0),          # Horizontally shift label by `space`\n",
    "            textcoords=\"offset points\", # Interpret `xytext` as offset in points\n",
    "            va='center',                # Vertically center label\n",
    "            ha=ha                       # Horizontally align label differently for\n",
    "        )                               # positive and negative values.\n",
    "\n",
    "# Построим горизонтальную столбчатую диаграмму\n",
    "ax = score_df['Тестирование', 'f1'].sort_values().plot(\n",
    "    kind='barh',\n",
    "    xlim=(0, score_df['Тестирование', 'f1'].max() + 0.1),\n",
    "    title='F1-мера для финальных моделей',\n",
    "    figsize=(10, 8),\n",
    "    legend=False\n",
    ")\n",
    "\n",
    "# Не прошедшие по качеству модели отметим красным цветом, остальные - зелёным\n",
    "not_passed = score_df['Тестирование', 'f1'] < REQUIRED_F1\n",
    "[\n",
    "    ax.get_children()[i].set_color('r')\n",
    "    if b\n",
    "    else ax.get_children()[i].set_color('g')\n",
    "    for i, b in enumerate(not_passed)\n",
    "]\n",
    "\n",
    "ax.set_xlabel('F1-мера')\n",
    "ax.set_ylabel('Модель')\n",
    "add_value_labels(ax)\n",
    "\n",
    "# Нарисуем порог по качеству\n",
    "plt.axvline(REQUIRED_F1, color='red');"
   ]
  },
  {
   "cell_type": "markdown",
   "id": "3e6cf123",
   "metadata": {},
   "source": [
    "### Вывод\n",
    "\n",
    "* Лемматизированные комментарии векторизованы для машинного обучения.\n",
    "* Данные разделены на обучающее и тестовое подмножества в соотношении 4:1; пропорция классов целевого признака сохранена.\n",
    "* Выбраны модель на основе метода опорных векторов, модели логистической регресии и градиентного бустинга из библиотеки LightGBM.\n",
    "* Модели были обучены с настройками по умолчанию. Измерено качество с помощью кросс-валидации:\n",
    "```\n",
    "                                                       Обучение\t            Валидация\n",
    "                                                       roc_auc\t f1\t      roc_auc\t f1\n",
    "Линейный классификатор на методе опорных векторов\t0.997783\t0.928215\t0.967126\t0.776766\n",
    "Логистическая регрессия\t                          0.985325\t0.763535\t0.970272\t0.725658\n",
    "Градиентный бустинг LightGBM\t                     0.979946\t0.794683\t0.963287\t0.754172\n",
    "```\n",
    "\n",
    "* Проведён подбор гиперпараметров с помощью случайного поиска по сетке.\n",
    "* Анализ качества моделей с подобранными гиперпараметрами показал, что только логистическая регрессия показала результат лучше, чем базовая модель.\n",
    "* Результаты теста финальных моделей:\n",
    "```\n",
    "                                                       Тестирование\n",
    "                                                       roc_auc\t f1\n",
    "Линейный классификатор на методе опорных векторов\t0.848119\t0.780969\n",
    "Логистическая регрессия\t                          0.971737\t0.791013\n",
    "Градиентный бустинг LightGBM\t                     0.963399\t0.775705\n",
    "```\n",
    "* Таким образом, лучший результат показала модель логистической регрессии. Все модели успешно преодолели заданный порог F1-меры = 0.75."
   ]
  },
  {
   "cell_type": "markdown",
   "id": "a2b3dcf0",
   "metadata": {},
   "source": [
    "## Выводы"
   ]
  },
  {
   "cell_type": "markdown",
   "id": "017e3744",
   "metadata": {},
   "source": [
    "* Результаты теста финальных моделей:\n",
    "```\n",
    "                                                       Тестирование\n",
    "                                                       roc_auc\t f1\n",
    "Линейный классификатор на методе опорных векторов\t0.848119\t0.780969\n",
    "Логистическая регрессия\t                          0.971737\t0.791013\n",
    "Градиентный бустинг LightGBM\t                     0.963399\t0.775705\n",
    "```\n",
    "* Лучший результат показала модель логистической регрессии, F1 = 0.791."
   ]
  },
  {
   "cell_type": "markdown",
   "id": "61d4f0a0",
   "metadata": {},
   "source": [
    "## Чек-лист проверки"
   ]
  },
  {
   "cell_type": "markdown",
   "id": "385c0dd1",
   "metadata": {},
   "source": [
    "- [x]  Jupyter Notebook открыт\n",
    "- [x]  Весь код выполняется без ошибок\n",
    "- [x]  Ячейки с кодом расположены в порядке исполнения\n",
    "- [x]  Данные загружены и подготовлены\n",
    "- [x]  Модели обучены\n",
    "- [x]  Значение метрики *F1* не меньше 0.75\n",
    "- [x]  Выводы написаны"
   ]
  }
 ],
 "metadata": {
  "kernelspec": {
   "display_name": "Python 3",
   "language": "python",
   "name": "python3"
  },
  "language_info": {
   "codemirror_mode": {
    "name": "ipython",
    "version": 3
   },
   "file_extension": ".py",
   "mimetype": "text/x-python",
   "name": "python",
   "nbconvert_exporter": "python",
   "pygments_lexer": "ipython3",
   "version": "3.8.8"
  }
 },
 "nbformat": 4,
 "nbformat_minor": 5
}
