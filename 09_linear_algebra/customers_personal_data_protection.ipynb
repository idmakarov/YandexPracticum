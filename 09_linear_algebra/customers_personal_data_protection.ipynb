{
 "cells": [
  {
   "cell_type": "markdown",
   "id": "b49e2b8c",
   "metadata": {},
   "source": [
    "# Защита персональных данных клиентов\n",
    "\n",
    "## Описание проекта\n",
    "\n",
    "Вам нужно защитить данные клиентов страховой компании «Хоть потоп». Разработайте такой метод преобразования данных, чтобы по ним было сложно восстановить персональную информацию. Обоснуйте корректность его работы.\n",
    "\n",
    "Нужно защитить данные, чтобы при преобразовании качество моделей машинного обучения не ухудшилось. Подбирать наилучшую модель не требуется.\n",
    "\n",
    "<h1>Содержание<span class=\"tocSkip\"></span></h1>\n",
    "<div class=\"toc\"><ul class=\"toc-item\"><li><span><a href=\"#Загрузка-данных\" data-toc-modified-id=\"Загрузка-данных-1\"><span class=\"toc-item-num\">1&nbsp;&nbsp;</span>Загрузка данных</a></span></li><li><span><a href=\"#Умножение-матриц\" data-toc-modified-id=\"Умножение-матриц-2\"><span class=\"toc-item-num\">2&nbsp;&nbsp;</span>Умножение матриц</a></span></li><li><span><a href=\"#Алгоритм-преобразования\" data-toc-modified-id=\"Алгоритм-преобразования-3\"><span class=\"toc-item-num\">3&nbsp;&nbsp;</span>Алгоритм преобразования</a></span></li><li><span><a href=\"#Проверка-алгоритма\" data-toc-modified-id=\"Проверка-алгоритма-4\"><span class=\"toc-item-num\">4&nbsp;&nbsp;</span>Проверка алгоритма</a></span></li><li><span><a href=\"#Чек-лист-проверки\" data-toc-modified-id=\"Чек-лист-проверки-5\"><span class=\"toc-item-num\">5&nbsp;&nbsp;</span>Чек-лист проверки</a></span></li></ul></div>"
   ]
  },
  {
   "cell_type": "markdown",
   "id": "11c5e0fc",
   "metadata": {},
   "source": [
    "## Загрузка данных\n",
    "\n",
    "Импортируем необходимые библиотеки."
   ]
  },
  {
   "cell_type": "code",
   "execution_count": 1,
   "id": "3eb703de",
   "metadata": {},
   "outputs": [],
   "source": [
    "import warnings\n",
    "warnings.filterwarnings('ignore')\n",
    "\n",
    "import numpy as np\n",
    "import pandas as pd\n",
    "\n",
    "from sklearn.linear_model import LinearRegression\n",
    "from sklearn.metrics import r2_score"
   ]
  },
  {
   "cell_type": "markdown",
   "id": "e331edc4",
   "metadata": {},
   "source": [
    "Загрузим исходный датасет и выведем первые пять строк для проверки корректности загрузки."
   ]
  },
  {
   "cell_type": "code",
   "execution_count": 3,
   "id": "622e5304",
   "metadata": {},
   "outputs": [
    {
     "data": {
      "text/html": [
       "<div>\n",
       "<style scoped>\n",
       "    .dataframe tbody tr th:only-of-type {\n",
       "        vertical-align: middle;\n",
       "    }\n",
       "\n",
       "    .dataframe tbody tr th {\n",
       "        vertical-align: top;\n",
       "    }\n",
       "\n",
       "    .dataframe thead th {\n",
       "        text-align: right;\n",
       "    }\n",
       "</style>\n",
       "<table border=\"1\" class=\"dataframe\">\n",
       "  <thead>\n",
       "    <tr style=\"text-align: right;\">\n",
       "      <th></th>\n",
       "      <th>Пол</th>\n",
       "      <th>Возраст</th>\n",
       "      <th>Зарплата</th>\n",
       "      <th>Члены семьи</th>\n",
       "      <th>Страховые выплаты</th>\n",
       "    </tr>\n",
       "  </thead>\n",
       "  <tbody>\n",
       "    <tr>\n",
       "      <th>0</th>\n",
       "      <td>1</td>\n",
       "      <td>41.0</td>\n",
       "      <td>49600.0</td>\n",
       "      <td>1</td>\n",
       "      <td>0</td>\n",
       "    </tr>\n",
       "    <tr>\n",
       "      <th>1</th>\n",
       "      <td>0</td>\n",
       "      <td>46.0</td>\n",
       "      <td>38000.0</td>\n",
       "      <td>1</td>\n",
       "      <td>1</td>\n",
       "    </tr>\n",
       "    <tr>\n",
       "      <th>2</th>\n",
       "      <td>0</td>\n",
       "      <td>29.0</td>\n",
       "      <td>21000.0</td>\n",
       "      <td>0</td>\n",
       "      <td>0</td>\n",
       "    </tr>\n",
       "    <tr>\n",
       "      <th>3</th>\n",
       "      <td>0</td>\n",
       "      <td>21.0</td>\n",
       "      <td>41700.0</td>\n",
       "      <td>2</td>\n",
       "      <td>0</td>\n",
       "    </tr>\n",
       "    <tr>\n",
       "      <th>4</th>\n",
       "      <td>1</td>\n",
       "      <td>28.0</td>\n",
       "      <td>26100.0</td>\n",
       "      <td>0</td>\n",
       "      <td>0</td>\n",
       "    </tr>\n",
       "  </tbody>\n",
       "</table>\n",
       "</div>"
      ],
      "text/plain": [
       "   Пол  Возраст  Зарплата  Члены семьи  Страховые выплаты\n",
       "0    1     41.0   49600.0            1                  0\n",
       "1    0     46.0   38000.0            1                  1\n",
       "2    0     29.0   21000.0            0                  0\n",
       "3    0     21.0   41700.0            2                  0\n",
       "4    1     28.0   26100.0            0                  0"
      ]
     },
     "execution_count": 3,
     "metadata": {},
     "output_type": "execute_result"
    }
   ],
   "source": [
    "insurance_df = pd.read_csv('insurance.csv', sep=None, engine='python')\n",
    "insurance_df.head()"
   ]
  },
  {
   "cell_type": "markdown",
   "id": "b771d51f",
   "metadata": {},
   "source": [
    "Выведем общую информацию о датасете, чтобы проверить наличие пропущенных данных."
   ]
  },
  {
   "cell_type": "code",
   "execution_count": 4,
   "id": "6e30bd91",
   "metadata": {},
   "outputs": [
    {
     "name": "stdout",
     "output_type": "stream",
     "text": [
      "<class 'pandas.core.frame.DataFrame'>\n",
      "RangeIndex: 5000 entries, 0 to 4999\n",
      "Data columns (total 5 columns):\n",
      " #   Column             Non-Null Count  Dtype  \n",
      "---  ------             --------------  -----  \n",
      " 0   Пол                5000 non-null   int64  \n",
      " 1   Возраст            5000 non-null   float64\n",
      " 2   Зарплата           5000 non-null   float64\n",
      " 3   Члены семьи        5000 non-null   int64  \n",
      " 4   Страховые выплаты  5000 non-null   int64  \n",
      "dtypes: float64(2), int64(3)\n",
      "memory usage: 195.4 KB\n"
     ]
    }
   ],
   "source": [
    "insurance_df.info()"
   ]
  },
  {
   "cell_type": "markdown",
   "id": "8f43f494",
   "metadata": {},
   "source": [
    "Пропусков нет. Можно переходить к следующему пункту."
   ]
  },
  {
   "cell_type": "markdown",
   "id": "f674e8d8",
   "metadata": {},
   "source": [
    "## Умножение матриц"
   ]
  },
  {
   "cell_type": "markdown",
   "id": "30820113",
   "metadata": {},
   "source": [
    "Обозначения:\n",
    "\n",
    "- $X$ — матрица признаков (нулевой столбец состоит из единиц) размера $m * n$\n",
    "\n",
    "- $y$ — вектор целевого признака размера $m$\n",
    "\n",
    "- $P$ — матрица, на которую умножаются признаки\n",
    "\n",
    "- $w$ — вектор весов линейной регрессии (нулевой элемент равен сдвигу)"
   ]
  },
  {
   "cell_type": "markdown",
   "id": "0db88ccf",
   "metadata": {},
   "source": [
    "Предсказания:\n",
    "\n",
    "$$\n",
    "a = Xw\n",
    "$$\n",
    "\n",
    "Задача обучения:\n",
    "\n",
    "$$\n",
    "w = \\arg\\min_w MSE(Xw, y)\n",
    "$$\n",
    "\n",
    "Формула обучения:\n",
    "\n",
    "$$\n",
    "w = (X^T X)^{-1} X^T y\n",
    "$$"
   ]
  },
  {
   "cell_type": "markdown",
   "id": "aa350a6f",
   "metadata": {},
   "source": [
    "**Ответ:** качество модели линейной регрессии не изменится.\n",
    "\n",
    "**Обоснование:**\n",
    "\n",
    "1. Пусть новая матрица признаков получена умножением на обратимую матрицу $P$ справа, и каждый элемент новой матрицы будет представлять собой линейную комбинацию признаков:\n",
    "\n",
    "$$\n",
    "X^* = X P\n",
    "$$\n",
    "\n",
    "2. Тогда новые значения весов линейной регрессии:\n",
    "\n",
    "$$\n",
    "w^* = ((X^*)^T X^*)^{-1} (X^*)^T y = ((X P)^T X P)^{-1} (X P)^T y\n",
    "$$\n",
    "\n",
    "3. Используем свойство $(A B)^T = B^T A^T$\n",
    "\n",
    "$$\n",
    "w^* = (P^T X^T X P)^{-1} P^T X^T y\n",
    "$$\n",
    "\n",
    "4. Так как матрицы $P$ и $X^T X$ невырожденные и квадратные, то $X^T X P$ - тоже невырожденная и обратимая матрица, а значит, мы можем воспользоваться свойством $(A B)^{-1} = B^{-1} A^{-1}$ и сочетательным свойством произведения матриц\n",
    "\n",
    "$$\n",
    "w^* = (X^T X P)^{-1} (P^T)^{-1} P^T X^T y = (X^T X P)^{-1} E X^T y = (X^T X P)^{-1} X^T y\n",
    "$$\n",
    "\n",
    "5. Ещё раз воспользуемся свойством обратной матрицы произведения матриц\n",
    "\n",
    "$$\n",
    "w^* = P^{-1} (X^T X)^{-1} X^T y\n",
    "$$\n",
    "\n",
    "6. Таким образом\n",
    "\n",
    "$$\n",
    "w^* = P^{-1} w\n",
    "$$\n",
    "\n",
    "7. Теперь покажем, что качество модели не изменится. Прогнозные значения линейной регрессии после изменения признаков:\n",
    "\n",
    "$$\n",
    "a^* = X P w^* = X P P^{-1} w = X w = a\n",
    "$$\n",
    "\n",
    "А значит $MSE(a, y) = MSE(a^*, y)$, как и любые другие оценки качества модели. При этом, зная матрицу $P$, можно найти исходные значения признаков, домножив $X^*$ справа на $P^{-1}$.\n",
    "\n",
    "В рассмотренном варианте мы домножали матрицу признаков на матрицу $P$ справа, рассмотрим случай домножения слева.\n",
    "\n",
    "1. Пусть новая матрица признаков:\n",
    "\n",
    "$$\n",
    "X^* = P X\n",
    "$$\n",
    "\n",
    "2. Тогда новые значения весов линейной регрессии:\n",
    "\n",
    "$$\n",
    "w^* = ((P X)^T P X)^{-1} (P X)^T y\n",
    "$$\n",
    "\n",
    "3. Используем свойство $(A B)^T = B^T A^T$\n",
    "\n",
    "$$\n",
    "w^* = (X^T P^T P X)^{-1} X^T P^T y\n",
    "$$\n",
    "\n",
    "Видно, что здесь уже не получится раскрыть обратную матрицу произведения, как это мы проделали в первом варианте решения. Однако, так как $X$ - прямоугольная матрица, то возможно её сингулярное разложение $X = U \\Sigma V^T$ в поле вещественных чисел, где $\\Sigma_{m,n}$ - матрица размера {\\displaystyle m\\times n}m\\times n с неотрицательными элементами, у которой элементы, лежащие на главной диагонали — это сингулярные числа (а все элементы, не лежащие на главной диагонали, являются нулевыми), а $U_{m,m}$ и $V_{n,n}$ - это две унитарные матрицы, состоящие из левых и правых сингулярных векторов соответственно, причём для случая вещественных чисел ещё и ортогональные. Тогда выражение выше преобразуется в следующее:\n",
    "\n",
    "$$\n",
    "w^* = ((U \\Sigma V^T)^T P^T P U \\Sigma V^T)^{-1} (U \\Sigma V^T)^T P^T y\n",
    "$$\n",
    "\n",
    "4. Раскроем траспонирование согласно известному свойству:\n",
    "\n",
    "$$\n",
    "w^* = (V \\Sigma^T U^T P^T P U \\Sigma V^T)^{-1} V \\Sigma^T U^T P^T y\n",
    "$$\n",
    "\n",
    "5. Пусть $P = U^T$, тогда выражение упрощается ввиду $U U^T = U U^{-1} = E$:\n",
    "\n",
    "$$\n",
    "w^* = (V \\Sigma^T \\Sigma V^T)^{-1} V \\Sigma^T y\n",
    "$$\n",
    "\n",
    "6. Теперь раскроем скобки согласно свойству обратной матрицы произведения:\n",
    "\n",
    "$$\n",
    "w^* = (V^T)^{-1} (\\Sigma^T \\Sigma)^{-1} V^{-1} V \\Sigma^T y = \n",
    "V (\\Sigma^T \\Sigma)^{-1} \\Sigma^T y\n",
    "$$\n",
    "\n",
    "7. Раскроем веса линейной регрессии без изменения признаков:\n",
    "\n",
    "$$\n",
    "w = (V \\Sigma^T U^T U \\Sigma V^T)^{-1} V \\Sigma^T U^T y = \n",
    "V (\\Sigma^T \\Sigma)^{-1} \\Sigma^T U^T y\n",
    "$$\n",
    "\n",
    "8. Тогда предсказания модели до и после изменения признаков:\n",
    "\n",
    "$$\n",
    "a = U \\Sigma V^T V (\\Sigma^T \\Sigma)^{-1} \\Sigma^T U^T y = U \\Sigma (\\Sigma^T \\Sigma)^{-1} \\Sigma^T U^T y\n",
    "$$\n",
    "\n",
    "$$\n",
    "a^* = U^T U \\Sigma V^T V (\\Sigma^T \\Sigma)^{-1} \\Sigma^T U^T y = \\Sigma (\\Sigma^T \\Sigma)^{-1} \\Sigma^T y\n",
    "$$\n",
    "\n",
    "Как видно, предсказания различаются в данном частном случае, а значит, и в общем случае ошибки в одних и тех же точках будут разные и качество скорее всего будет другим."
   ]
  },
  {
   "cell_type": "markdown",
   "id": "854f0e13",
   "metadata": {},
   "source": [
    "## Алгоритм преобразования"
   ]
  },
  {
   "cell_type": "markdown",
   "id": "bb496c69",
   "metadata": {},
   "source": [
    "**Алгоритм**\n",
    "\n",
    "1. Добавить к признакам единичный вектор.\n",
    "2. Создать матрицу случайных чисел размера, который требуется для корректного перемножения.\n",
    "3. Проверить, что определитель данной матрицы не равен нулю (и матрица является обратимой). Если равен нулю, то повторить пункт 2.\n",
    "4. Перемножить исходную матрицу признаков и матрицу шифрования."
   ]
  },
  {
   "cell_type": "markdown",
   "id": "c8b20068",
   "metadata": {},
   "source": [
    "**Обоснование**\n",
    "\n",
    "При шифровании перемножением справа качество не изменится в силу доказательства выше. В случае с перемножением слева нужно проверить на практике, что скорее всего качество ухудшится."
   ]
  },
  {
   "cell_type": "markdown",
   "id": "b16bf815",
   "metadata": {},
   "source": [
    "## Проверка алгоритма\n",
    "\n",
    "Напишем функцию-шифратор согласно изложенному алгоритму."
   ]
  },
  {
   "cell_type": "code",
   "execution_count": 5,
   "id": "59407c61",
   "metadata": {},
   "outputs": [],
   "source": [
    "def encrypt(features, multiply='right'):\n",
    "    \"\"\"\n",
    "    Функция зашифровывает исходные значения признаков перемножением с матрицей случайных чисел.  \n",
    "    Параметр 'multiply' позволяет выбирать умножение слева или справа ('right', 'left').\n",
    "    \n",
    "    Возвращает зашифрованные признаки.\n",
    "    \n",
    "    \"\"\"\n",
    "    rows = features.shape[0]\n",
    "    cols = features.shape[1]\n",
    "    \n",
    "    B = np.ones((rows, 1))\n",
    "    if multiply == 'right':\n",
    "        len_P = cols + 1\n",
    "    elif multiply == 'left':\n",
    "        len_P = rows\n",
    "    else:\n",
    "        print('Ошибка: параметр \"multiply\" получил неизвестное значение!')\n",
    "        return None\n",
    "    \n",
    "    P = np.random.randn(len_P, len_P)\n",
    "    det_P = np.linalg.det(P)\n",
    "    \n",
    "    while abs(det_P) < 10**(-6):\n",
    "        P = np.random.randn(len_P, len_P)\n",
    "        det_P = np.linalg.det(P)\n",
    "    \n",
    "    features_array = np.array(features)\n",
    "    features_array = np.concatenate((features_array, B), axis=1)\n",
    "    \n",
    "    if multiply == 'right':\n",
    "        new_features = features_array.dot(P)\n",
    "    elif multiply == 'left':\n",
    "        new_features = P.dot(features_array)\n",
    "    \n",
    "    return new_features"
   ]
  },
  {
   "cell_type": "markdown",
   "id": "1eb46a51",
   "metadata": {},
   "source": [
    "Разобьём исходный датасет на признаки-регрессоры и целевой признак. Зашифруем двумя способами исходные признаки и добавим к исходным единичный вектор."
   ]
  },
  {
   "cell_type": "code",
   "execution_count": 6,
   "id": "2e2f82d2",
   "metadata": {},
   "outputs": [
    {
     "data": {
      "text/plain": [
       "((5000, 5), (5000, 5), (5000, 5), (5000,))"
      ]
     },
     "execution_count": 6,
     "metadata": {},
     "output_type": "execute_result"
    }
   ],
   "source": [
    "B = np.ones((insurance_df.shape[0], 1))\n",
    "features = np.array(insurance_df.drop(columns=['Страховые выплаты']))\n",
    "\n",
    "features_encrypted_right = encrypt(features)\n",
    "features_encrypted_left = encrypt(features, multiply='left')\n",
    "features = np.concatenate((features, B), axis=1)\n",
    "\n",
    "target = insurance_df['Страховые выплаты']\n",
    "\n",
    "features.shape, features_encrypted_right.shape, features_encrypted_left.shape, target.shape"
   ]
  },
  {
   "cell_type": "markdown",
   "id": "64ae2f91",
   "metadata": {},
   "source": [
    "Обучим линейную регрессию на всех объектах датасета и посчитаем коэффициент детерминации для каждого случая."
   ]
  },
  {
   "cell_type": "code",
   "execution_count": 7,
   "id": "4a4c70b3",
   "metadata": {},
   "outputs": [],
   "source": [
    "features_dict = {\n",
    "    'Исходные признаки': features,\n",
    "    'Зашифрованные признаки, умножение справа': features_encrypted_right,\n",
    "    'Зашифрованные признаки, умножение слева': features_encrypted_left\n",
    "}\n",
    "\n",
    "r2_list = []\n",
    "\n",
    "for desc, feat in features_dict.items():\n",
    "    lr = LinearRegression(fit_intercept=False, normalize=True)\n",
    "    lr.fit(feat, target)\n",
    "    predictions = lr.predict(feat)\n",
    "    r2 = r2_score(target, predictions)\n",
    "    r2_list.append(r2)"
   ]
  },
  {
   "cell_type": "markdown",
   "id": "5bd6f184",
   "metadata": {},
   "source": [
    "Выведем полученные значения коэффициента детерминации."
   ]
  },
  {
   "cell_type": "code",
   "execution_count": 8,
   "id": "6f1c64bf",
   "metadata": {},
   "outputs": [
    {
     "name": "stdout",
     "output_type": "stream",
     "text": [
      "Исходные признаки, R2 = 0.424946\n",
      "Зашифрованные признаки, умножение справа, R2 = 0.424946\n",
      "Зашифрованные признаки, умножение слева, R2 = -0.100936\n"
     ]
    }
   ],
   "source": [
    "for desc, r2 in zip(list(features_dict.keys()), r2_list):\n",
    "    print('{}, R2 = {:.6f}'.format(desc, r2))"
   ]
  },
  {
   "cell_type": "markdown",
   "id": "0ff35de0",
   "metadata": {},
   "source": [
    "Качество при шифровании умножением справа не изменилось. При шифровании слева качество заметно ухудшилось, что подтвердило гипотезу и показало неприменимость данного варианта.\n",
    "\n",
    "# Вывод\n",
    "\n",
    "Для шифрования данных клиентов можно использовать умножение матрицы исходных признаков на матрицу случайных чисел справа, при этом качество линейной модели не изменится, что подтверждено теоретическим доказательством и практической проверкой."
   ]
  },
  {
   "cell_type": "markdown",
   "id": "0eaa21c5",
   "metadata": {},
   "source": [
    "## Чек-лист проверки"
   ]
  },
  {
   "cell_type": "markdown",
   "id": "c3097988",
   "metadata": {},
   "source": [
    "Поставьте 'x' в выполненных пунктах. Далее нажмите Shift+Enter."
   ]
  },
  {
   "cell_type": "markdown",
   "id": "a0177ef6",
   "metadata": {},
   "source": [
    "- [x]  Jupyter Notebook открыт\n",
    "- [x]  Весь код выполняется без ошибок\n",
    "- [x]  Ячейки с кодом расположены в порядке исполнения\n",
    "- [x]  Выполнен шаг 1: данные загружены\n",
    "- [x]  Выполнен шаг 2: получен ответ на вопрос об умножении матриц\n",
    "    - [x]  Указан правильный вариант ответа\n",
    "    - [x]  Вариант обоснован\n",
    "- [x]  Выполнен шаг 3: предложен алгоритм преобразования\n",
    "    - [x]  Алгоритм описан\n",
    "    - [x]  Алгоритм обоснован\n",
    "- [x]  Выполнен шаг 4: алгоритм проверен\n",
    "    - [x]  Алгоритм реализован\n",
    "    - [x]  Проведено сравнение качества моделей до и после преобразования"
   ]
  }
 ],
 "metadata": {
  "kernelspec": {
   "display_name": "Python 3",
   "language": "python",
   "name": "python3"
  },
  "language_info": {
   "codemirror_mode": {
    "name": "ipython",
    "version": 3
   },
   "file_extension": ".py",
   "mimetype": "text/x-python",
   "name": "python",
   "nbconvert_exporter": "python",
   "pygments_lexer": "ipython3",
   "version": "3.8.8"
  }
 },
 "nbformat": 4,
 "nbformat_minor": 5
}
