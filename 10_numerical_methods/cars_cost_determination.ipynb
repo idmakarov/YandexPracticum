{
 "cells": [
  {
   "cell_type": "markdown",
   "id": "8f5cfce2",
   "metadata": {},
   "source": [
    "# Определение стоимости автомобилей"
   ]
  },
  {
   "cell_type": "markdown",
   "id": "ddca14c9",
   "metadata": {},
   "source": [
    "Сервис по продаже автомобилей с пробегом «Не бит, не крашен» разрабатывает приложение для привлечения новых клиентов. В нём можно быстро узнать рыночную стоимость своего автомобиля. В вашем распоряжении исторические данные: технические характеристики, комплектации и цены автомобилей. Вам нужно построить модель для определения стоимости. \n",
    "\n",
    "Заказчику важны:\n",
    "\n",
    "- качество предсказания;\n",
    "- скорость предсказания;\n",
    "- время обучения.\n",
    "\n",
    "# Описание данных\n",
    "\n",
    "Признаки\n",
    "* **DateCrawled** — дата скачивания анкеты из базы\n",
    "* **VehicleType** — тип автомобильного кузова\n",
    "* **RegistrationYear** — год регистрации автомобиля\n",
    "* **Gearbox** — тип коробки передач\n",
    "* **Power** — мощность (л. с.)\n",
    "* **Model** — модель автомобиля\n",
    "* **Kilometer** — пробег (км)\n",
    "* **RegistrationMonth** — месяц регистрации автомобиля\n",
    "* **FuelType** — тип топлива\n",
    "* **Brand** — марка автомобиля\n",
    "* **NotRepaired** — была машина в ремонте или нет\n",
    "* **DateCreated** — дата создания анкеты\n",
    "* **NumberOfPictures** — количество фотографий автомобиля\n",
    "* **PostalCode** — почтовый индекс владельца анкеты (пользователя)\n",
    "* **LastSeen** — дата последней активности пользователя\n",
    "\n",
    "Целевой признак\n",
    "* **Price** — цена (евро)"
   ]
  },
  {
   "cell_type": "markdown",
   "id": "a043d4d6",
   "metadata": {
    "toc": true
   },
   "source": [
    "<h1>Содержание<span class=\"tocSkip\"></span></h1>\n",
    "<div class=\"toc\"><ul class=\"toc-item\"><li><span><a href=\"#Загрузка-данных\" data-toc-modified-id=\"Загрузка-данных-1\"><span class=\"toc-item-num\">1&nbsp;&nbsp;</span>Загрузка данных</a></span><ul class=\"toc-item\"><li><span><a href=\"#Вывод\" data-toc-modified-id=\"Вывод-1.1\"><span class=\"toc-item-num\">1.1&nbsp;&nbsp;</span>Вывод</a></span></li></ul></li><li><span><a href=\"#Обработка-пропусков\" data-toc-modified-id=\"Обработка-пропусков-2\"><span class=\"toc-item-num\">2&nbsp;&nbsp;</span>Обработка пропусков</a></span><ul class=\"toc-item\"><li><span><a href=\"#Вывод\" data-toc-modified-id=\"Вывод-2.1\"><span class=\"toc-item-num\">2.1&nbsp;&nbsp;</span>Вывод</a></span></li></ul></li><li><span><a href=\"#Обработка-аномальных-значений\" data-toc-modified-id=\"Обработка-аномальных-значений-3\"><span class=\"toc-item-num\">3&nbsp;&nbsp;</span>Обработка аномальных значений</a></span><ul class=\"toc-item\"><li><span><a href=\"#Вывод\" data-toc-modified-id=\"Вывод-3.1\"><span class=\"toc-item-num\">3.1&nbsp;&nbsp;</span>Вывод</a></span></li></ul></li><li><span><a href=\"#Отбор-признаков\" data-toc-modified-id=\"Отбор-признаков-4\"><span class=\"toc-item-num\">4&nbsp;&nbsp;</span>Отбор признаков</a></span><ul class=\"toc-item\"><li><span><a href=\"#Вывод\" data-toc-modified-id=\"Вывод-4.1\"><span class=\"toc-item-num\">4.1&nbsp;&nbsp;</span>Вывод</a></span></li></ul></li><li><span><a href=\"#Обучение-моделей\" data-toc-modified-id=\"Обучение-моделей-5\"><span class=\"toc-item-num\">5&nbsp;&nbsp;</span>Обучение моделей</a></span><ul class=\"toc-item\"><li><span><a href=\"#Вывод\" data-toc-modified-id=\"Вывод-5.1\"><span class=\"toc-item-num\">5.1&nbsp;&nbsp;</span>Вывод</a></span></li></ul></li><li><span><a href=\"#Анализ-моделей\" data-toc-modified-id=\"Анализ-моделей-6\"><span class=\"toc-item-num\">6&nbsp;&nbsp;</span>Анализ моделей</a></span><ul class=\"toc-item\"><li><span><a href=\"#Вывод\" data-toc-modified-id=\"Вывод-6.1\"><span class=\"toc-item-num\">6.1&nbsp;&nbsp;</span>Вывод</a></span></li></ul></li><li><span><a href=\"#-Комментарий-ревьюера\" data-toc-modified-id=\"-Комментарий-ревьюера-7\"><span class=\"toc-item-num\">7&nbsp;&nbsp;</span> Комментарий ревьюера</a></span></li><li><span><a href=\"#Чек-лист-проверки\" data-toc-modified-id=\"Чек-лист-проверки-8\"><span class=\"toc-item-num\">8&nbsp;&nbsp;</span>Чек-лист проверки</a></span></li></ul></div>"
   ]
  },
  {
   "cell_type": "markdown",
   "id": "a24f828a",
   "metadata": {},
   "source": [
    "## Загрузка данных\n",
    "\n",
    "Импортируем необходимые библиотеки."
   ]
  },
  {
   "cell_type": "code",
   "execution_count": 1,
   "id": "9fc32e21",
   "metadata": {},
   "outputs": [],
   "source": [
    "import warnings\n",
    "warnings.filterwarnings('ignore')\n",
    "\n",
    "import catboost as cbt\n",
    "import lightgbm as lgb\n",
    "%matplotlib inline\n",
    "import matplotlib.pyplot as plt\n",
    "import numpy as np\n",
    "import pandas as pd\n",
    "import seaborn as sns\n",
    "\n",
    "from scipy.stats import chi2_contingency, f_oneway\n",
    "from sklearn.base import BaseEstimator, TransformerMixin\n",
    "from sklearn.compose import ColumnTransformer\n",
    "from sklearn.dummy import DummyRegressor\n",
    "from sklearn.feature_selection import RFECV\n",
    "from sklearn.linear_model import LinearRegression\n",
    "from sklearn.metrics import mean_squared_error\n",
    "from sklearn.model_selection import cross_val_score, KFold, RandomizedSearchCV, train_test_split\n",
    "from sklearn.pipeline import Pipeline\n",
    "from sklearn.preprocessing import OneHotEncoder, OrdinalEncoder, StandardScaler"
   ]
  },
  {
   "cell_type": "markdown",
   "id": "0748962c",
   "metadata": {},
   "source": [
    "Инициализируем глобальные константы."
   ]
  },
  {
   "cell_type": "code",
   "execution_count": 2,
   "id": "a94e7c6f",
   "metadata": {},
   "outputs": [],
   "source": [
    "RANDOM_STATE = 17\n",
    "\n",
    "NEG_RMSE = 'neg_root_mean_squared_error'\n",
    "RMSE = 'root_mean_squared_error'"
   ]
  },
  {
   "cell_type": "markdown",
   "id": "76243c93",
   "metadata": {},
   "source": [
    "Загрузим данные и выведем первые пять строк."
   ]
  },
  {
   "cell_type": "code",
   "execution_count": 3,
   "id": "cc83a78a",
   "metadata": {},
   "outputs": [
    {
     "data": {
      "text/html": [
       "<div>\n",
       "<style scoped>\n",
       "    .dataframe tbody tr th:only-of-type {\n",
       "        vertical-align: middle;\n",
       "    }\n",
       "\n",
       "    .dataframe tbody tr th {\n",
       "        vertical-align: top;\n",
       "    }\n",
       "\n",
       "    .dataframe thead th {\n",
       "        text-align: right;\n",
       "    }\n",
       "</style>\n",
       "<table border=\"1\" class=\"dataframe\">\n",
       "  <thead>\n",
       "    <tr style=\"text-align: right;\">\n",
       "      <th></th>\n",
       "      <th>DateCrawled</th>\n",
       "      <th>Price</th>\n",
       "      <th>VehicleType</th>\n",
       "      <th>RegistrationYear</th>\n",
       "      <th>Gearbox</th>\n",
       "      <th>Power</th>\n",
       "      <th>Model</th>\n",
       "      <th>Kilometer</th>\n",
       "      <th>RegistrationMonth</th>\n",
       "      <th>FuelType</th>\n",
       "      <th>Brand</th>\n",
       "      <th>NotRepaired</th>\n",
       "      <th>DateCreated</th>\n",
       "      <th>NumberOfPictures</th>\n",
       "      <th>PostalCode</th>\n",
       "      <th>LastSeen</th>\n",
       "    </tr>\n",
       "  </thead>\n",
       "  <tbody>\n",
       "    <tr>\n",
       "      <th>0</th>\n",
       "      <td>2016-03-24 11:52:17</td>\n",
       "      <td>480</td>\n",
       "      <td>NaN</td>\n",
       "      <td>1993</td>\n",
       "      <td>manual</td>\n",
       "      <td>0</td>\n",
       "      <td>golf</td>\n",
       "      <td>150000</td>\n",
       "      <td>0</td>\n",
       "      <td>petrol</td>\n",
       "      <td>volkswagen</td>\n",
       "      <td>NaN</td>\n",
       "      <td>2016-03-24 00:00:00</td>\n",
       "      <td>0</td>\n",
       "      <td>70435</td>\n",
       "      <td>2016-04-07 03:16:57</td>\n",
       "    </tr>\n",
       "    <tr>\n",
       "      <th>1</th>\n",
       "      <td>2016-03-24 10:58:45</td>\n",
       "      <td>18300</td>\n",
       "      <td>coupe</td>\n",
       "      <td>2011</td>\n",
       "      <td>manual</td>\n",
       "      <td>190</td>\n",
       "      <td>NaN</td>\n",
       "      <td>125000</td>\n",
       "      <td>5</td>\n",
       "      <td>gasoline</td>\n",
       "      <td>audi</td>\n",
       "      <td>yes</td>\n",
       "      <td>2016-03-24 00:00:00</td>\n",
       "      <td>0</td>\n",
       "      <td>66954</td>\n",
       "      <td>2016-04-07 01:46:50</td>\n",
       "    </tr>\n",
       "    <tr>\n",
       "      <th>2</th>\n",
       "      <td>2016-03-14 12:52:21</td>\n",
       "      <td>9800</td>\n",
       "      <td>suv</td>\n",
       "      <td>2004</td>\n",
       "      <td>auto</td>\n",
       "      <td>163</td>\n",
       "      <td>grand</td>\n",
       "      <td>125000</td>\n",
       "      <td>8</td>\n",
       "      <td>gasoline</td>\n",
       "      <td>jeep</td>\n",
       "      <td>NaN</td>\n",
       "      <td>2016-03-14 00:00:00</td>\n",
       "      <td>0</td>\n",
       "      <td>90480</td>\n",
       "      <td>2016-04-05 12:47:46</td>\n",
       "    </tr>\n",
       "    <tr>\n",
       "      <th>3</th>\n",
       "      <td>2016-03-17 16:54:04</td>\n",
       "      <td>1500</td>\n",
       "      <td>small</td>\n",
       "      <td>2001</td>\n",
       "      <td>manual</td>\n",
       "      <td>75</td>\n",
       "      <td>golf</td>\n",
       "      <td>150000</td>\n",
       "      <td>6</td>\n",
       "      <td>petrol</td>\n",
       "      <td>volkswagen</td>\n",
       "      <td>no</td>\n",
       "      <td>2016-03-17 00:00:00</td>\n",
       "      <td>0</td>\n",
       "      <td>91074</td>\n",
       "      <td>2016-03-17 17:40:17</td>\n",
       "    </tr>\n",
       "    <tr>\n",
       "      <th>4</th>\n",
       "      <td>2016-03-31 17:25:20</td>\n",
       "      <td>3600</td>\n",
       "      <td>small</td>\n",
       "      <td>2008</td>\n",
       "      <td>manual</td>\n",
       "      <td>69</td>\n",
       "      <td>fabia</td>\n",
       "      <td>90000</td>\n",
       "      <td>7</td>\n",
       "      <td>gasoline</td>\n",
       "      <td>skoda</td>\n",
       "      <td>no</td>\n",
       "      <td>2016-03-31 00:00:00</td>\n",
       "      <td>0</td>\n",
       "      <td>60437</td>\n",
       "      <td>2016-04-06 10:17:21</td>\n",
       "    </tr>\n",
       "  </tbody>\n",
       "</table>\n",
       "</div>"
      ],
      "text/plain": [
       "           DateCrawled  Price VehicleType  RegistrationYear Gearbox  Power  \\\n",
       "0  2016-03-24 11:52:17    480         NaN              1993  manual      0   \n",
       "1  2016-03-24 10:58:45  18300       coupe              2011  manual    190   \n",
       "2  2016-03-14 12:52:21   9800         suv              2004    auto    163   \n",
       "3  2016-03-17 16:54:04   1500       small              2001  manual     75   \n",
       "4  2016-03-31 17:25:20   3600       small              2008  manual     69   \n",
       "\n",
       "   Model  Kilometer  RegistrationMonth  FuelType       Brand NotRepaired  \\\n",
       "0   golf     150000                  0    petrol  volkswagen         NaN   \n",
       "1    NaN     125000                  5  gasoline        audi         yes   \n",
       "2  grand     125000                  8  gasoline        jeep         NaN   \n",
       "3   golf     150000                  6    petrol  volkswagen          no   \n",
       "4  fabia      90000                  7  gasoline       skoda          no   \n",
       "\n",
       "           DateCreated  NumberOfPictures  PostalCode             LastSeen  \n",
       "0  2016-03-24 00:00:00                 0       70435  2016-04-07 03:16:57  \n",
       "1  2016-03-24 00:00:00                 0       66954  2016-04-07 01:46:50  \n",
       "2  2016-03-14 00:00:00                 0       90480  2016-04-05 12:47:46  \n",
       "3  2016-03-17 00:00:00                 0       91074  2016-03-17 17:40:17  \n",
       "4  2016-03-31 00:00:00                 0       60437  2016-04-06 10:17:21  "
      ]
     },
     "execution_count": 3,
     "metadata": {},
     "output_type": "execute_result"
    }
   ],
   "source": [
    "autos_df = pd.read_csv('autos.csv', sep=None, engine='python')\n",
    "autos_df.head()"
   ]
  },
  {
   "cell_type": "markdown",
   "id": "f4156643",
   "metadata": {},
   "source": [
    "Данные загружены корректно.\n",
    "\n",
    "Посмотрим, какие типы данных были определены и есть ли пропуски в данных."
   ]
  },
  {
   "cell_type": "code",
   "execution_count": 4,
   "id": "bb8543e2",
   "metadata": {},
   "outputs": [
    {
     "name": "stdout",
     "output_type": "stream",
     "text": [
      "<class 'pandas.core.frame.DataFrame'>\n",
      "RangeIndex: 354369 entries, 0 to 354368\n",
      "Data columns (total 16 columns):\n",
      " #   Column             Non-Null Count   Dtype \n",
      "---  ------             --------------   ----- \n",
      " 0   DateCrawled        354369 non-null  object\n",
      " 1   Price              354369 non-null  int64 \n",
      " 2   VehicleType        316879 non-null  object\n",
      " 3   RegistrationYear   354369 non-null  int64 \n",
      " 4   Gearbox            334536 non-null  object\n",
      " 5   Power              354369 non-null  int64 \n",
      " 6   Model              334664 non-null  object\n",
      " 7   Kilometer          354369 non-null  int64 \n",
      " 8   RegistrationMonth  354369 non-null  int64 \n",
      " 9   FuelType           321474 non-null  object\n",
      " 10  Brand              354369 non-null  object\n",
      " 11  NotRepaired        283215 non-null  object\n",
      " 12  DateCreated        354369 non-null  object\n",
      " 13  NumberOfPictures   354369 non-null  int64 \n",
      " 14  PostalCode         354369 non-null  int64 \n",
      " 15  LastSeen           354369 non-null  object\n",
      "dtypes: int64(7), object(9)\n",
      "memory usage: 217.0 MB\n"
     ]
    }
   ],
   "source": [
    "autos_df.info(memory_usage='deep')"
   ]
  },
  {
   "cell_type": "markdown",
   "id": "12ba359c",
   "metadata": {},
   "source": [
    "Данные представляют собой таблицу из 354368 строк и 16 столбцов-признаков.  \n",
    "Датам и категориальным признакам присвоены типы 'object', оставшиеся 7 имеют целочисленный тип.  \n",
    "Заметно, что часть данных пропущена.\n",
    "\n",
    "Проанализируем пропуски."
   ]
  },
  {
   "cell_type": "code",
   "execution_count": 5,
   "id": "9d91aab3",
   "metadata": {},
   "outputs": [
    {
     "name": "stdout",
     "output_type": "stream",
     "text": [
      "      Столбец          Пропусков, %   Всего пропусков\n",
      "VehicleType               10.579          37490     \n",
      "Gearbox                   5.597           19833     \n",
      "Model                     5.561           19705     \n",
      "FuelType                  9.283           32895     \n",
      "NotRepaired               20.079          71154     \n",
      "\n"
     ]
    },
    {
     "data": {
      "image/png": "[encoded data removed]",
      "text/plain": [
       "<Figure size 720x720 with 2 Axes>"
      ]
     },
     "metadata": {
      "needs_background": "light"
     },
     "output_type": "display_data"
    }
   ],
   "source": [
    "def visualize_df_nulls(df: pd.DataFrame):\n",
    "    \"\"\"\n",
    "    Функция отображает процент пропусков и их число, а также визуализирует их.\n",
    "    \n",
    "    Аргументы\n",
    "    ---------\n",
    "    df : pd.DataFrame\n",
    "        Датафрейм, по которому выводится информация о пропусках.\n",
    "        \n",
    "    Возвращает\n",
    "    ----------\n",
    "    None\n",
    "    \n",
    "    \"\"\"\n",
    "    colours = ['#000099', '#ffff00']\n",
    "    plt.figure(figsize=(10, 10))\n",
    "    sns.heatmap(df.isnull(), cmap=sns.color_palette(colours))\n",
    "    try:\n",
    "        ttl = df.name + ' nulls'\n",
    "    except:\n",
    "        ttl = 'Пропуски в данных'\n",
    "\n",
    "    plt.title(ttl)\n",
    "    print('{:^20}{:^18}{:^14}'.format('Столбец', 'Пропусков, %', 'Всего пропусков'))\n",
    "    for col in df.columns:\n",
    "        missed_data_share = df[col].isnull().mean() * 100\n",
    "        missed_data_count = df[col].isnull().sum()\n",
    "        if missed_data_count > 0:\n",
    "            print('{:<20}{:^18.3f}{:^14}'.format(col, missed_data_share, missed_data_count))\n",
    "\n",
    "\n",
    "visualize_df_nulls(autos_df)\n",
    "print()"
   ]
  },
  {
   "cell_type": "markdown",
   "id": "28423286",
   "metadata": {},
   "source": [
    "Данные пропущены в следующих признаках:\n",
    "* VehicleType - 10.6%\n",
    "* Gearbox - 5.6%\n",
    "* Model - 5.6%\n",
    "* FuelType - 9.3%\n",
    "* NotRepaired - 20.1%\n",
    "\n",
    "Пропусков достаточно много и целесообразнее попытаться их заменить, чем просто удалить.\n",
    "\n",
    "Выведем статистическую информацию о данных."
   ]
  },
  {
   "cell_type": "code",
   "execution_count": 6,
   "id": "6e220d4f",
   "metadata": {},
   "outputs": [
    {
     "name": "stdout",
     "output_type": "stream",
     "text": [
      "DateCrawled\n",
      "['2016-03-24 11:52:17' '2016-03-24 10:58:45' '2016-03-14 12:52:21' ...\n",
      " '2016-03-21 09:50:58' '2016-03-14 17:48:27' '2016-03-19 18:57:12']\n",
      "2016-03-24 14:49:47    7\n",
      "2016-03-19 21:49:56    6\n",
      "2016-03-26 22:57:31    6\n",
      "2016-03-16 17:43:49    5\n",
      "2016-03-21 14:50:20    5\n",
      "                      ..\n",
      "2016-03-20 09:46:29    1\n",
      "2016-03-26 21:54:00    1\n",
      "2016-03-14 14:55:12    1\n",
      "2016-03-10 19:52:23    1\n",
      "2016-04-04 22:42:10    1\n",
      "Name: DateCrawled, Length: 271174, dtype: int64\n",
      "\n",
      "Price\n",
      "count    354369.000000\n",
      "mean       4416.656776\n",
      "std        4514.158514\n",
      "min           0.000000\n",
      "25%        1050.000000\n",
      "50%        2700.000000\n",
      "75%        6400.000000\n",
      "max       20000.000000\n",
      "Name: Price, dtype: float64\n"
     ]
    },
    {
     "data": {
      "image/png": "[encoded data removed]",
      "text/plain": [
       "<Figure size 1152x288 with 1 Axes>"
      ]
     },
     "metadata": {
      "needs_background": "light"
     },
     "output_type": "display_data"
    },
    {
     "name": "stdout",
     "output_type": "stream",
     "text": [
      "VehicleType\n",
      "[nan 'coupe' 'suv' 'small' 'sedan' 'convertible' 'bus' 'wagon' 'other']\n",
      "sedan          91457\n",
      "small          79831\n",
      "wagon          65166\n",
      "bus            28775\n",
      "convertible    20203\n",
      "coupe          16163\n",
      "suv            11996\n",
      "other           3288\n",
      "Name: VehicleType, dtype: int64\n",
      "\n",
      "RegistrationYear\n",
      "count    354369.000000\n",
      "mean       2004.234448\n",
      "std          90.227958\n",
      "min        1000.000000\n",
      "25%        1999.000000\n",
      "50%        2003.000000\n",
      "75%        2008.000000\n",
      "max        9999.000000\n",
      "Name: RegistrationYear, dtype: float64\n"
     ]
    },
    {
     "data": {
      "image/png": "[encoded data removed]",
      "text/plain": [
       "<Figure size 1152x288 with 1 Axes>"
      ]
     },
     "metadata": {
      "needs_background": "light"
     },
     "output_type": "display_data"
    },
    {
     "name": "stdout",
     "output_type": "stream",
     "text": [
      "Gearbox\n",
      "['manual' 'auto' nan]\n",
      "manual    268251\n",
      "auto       66285\n",
      "Name: Gearbox, dtype: int64\n",
      "\n",
      "Power\n",
      "count    354369.000000\n",
      "mean        110.094337\n",
      "std         189.850405\n",
      "min           0.000000\n",
      "25%          69.000000\n",
      "50%         105.000000\n",
      "75%         143.000000\n",
      "max       20000.000000\n",
      "Name: Power, dtype: float64\n"
     ]
    },
    {
     "data": {
      "image/png": "[encoded data removed]",
      "text/plain": [
       "<Figure size 1152x288 with 1 Axes>"
      ]
     },
     "metadata": {
      "needs_background": "light"
     },
     "output_type": "display_data"
    },
    {
     "name": "stdout",
     "output_type": "stream",
     "text": [
      "Model\n",
      "['golf' nan 'grand' 'fabia' '3er' '2_reihe' 'other' 'c_max' '3_reihe'\n",
      " 'passat' 'navara' 'ka' 'polo' 'twingo' 'a_klasse' 'scirocco' '5er'\n",
      " 'meriva' 'arosa' 'c4' 'civic' 'transporter' 'punto' 'e_klasse' 'clio'\n",
      " 'kadett' 'kangoo' 'corsa' 'one' 'fortwo' '1er' 'b_klasse' 'signum'\n",
      " 'astra' 'a8' 'jetta' 'fiesta' 'c_klasse' 'micra' 'vito' 'sprinter' '156'\n",
      " 'escort' 'forester' 'xc_reihe' 'scenic' 'a4' 'a1' 'insignia' 'combo'\n",
      " 'focus' 'tt' 'a6' 'jazz' 'omega' 'slk' '7er' '80' '147' '100' 'z_reihe'\n",
      " 'sportage' 'sorento' 'v40' 'ibiza' 'mustang' 'eos' 'touran' 'getz' 'a3'\n",
      " 'almera' 'megane' 'lupo' 'r19' 'zafira' 'caddy' 'mondeo' 'cordoba' 'colt'\n",
      " 'impreza' 'vectra' 'berlingo' 'tiguan' 'i_reihe' 'espace' 'sharan'\n",
      " '6_reihe' 'panda' 'up' 'seicento' 'ceed' '5_reihe' 'yeti' 'octavia' 'mii'\n",
      " 'rx_reihe' '6er' 'modus' 'fox' 'matiz' 'beetle' 'c1' 'rio' 'touareg'\n",
      " 'logan' 'spider' 'cuore' 's_max' 'a2' 'galaxy' 'c3' 'viano' 's_klasse'\n",
      " '1_reihe' 'avensis' 'roomster' 'sl' 'kaefer' 'santa' 'cooper' 'leon'\n",
      " '4_reihe' 'a5' '500' 'laguna' 'ptcruiser' 'clk' 'primera' 'x_reihe'\n",
      " 'exeo' '159' 'transit' 'juke' 'qashqai' 'carisma' 'accord' 'corolla'\n",
      " 'lanos' 'phaeton' 'verso' 'swift' 'rav' 'picanto' 'boxster' 'kalos'\n",
      " 'superb' 'stilo' 'alhambra' 'mx_reihe' 'roadster' 'ypsilon' 'cayenne'\n",
      " 'galant' 'justy' '90' 'sirion' 'crossfire' 'agila' 'duster' 'cr_reihe'\n",
      " 'v50' 'c_reihe' 'v_klasse' 'm_klasse' 'yaris' 'c5' 'aygo' 'cc' 'carnival'\n",
      " 'fusion' '911' 'bora' 'forfour' 'm_reihe' 'cl' 'tigra' '300c' 'spark'\n",
      " 'v70' 'kuga' 'x_type' 'ducato' 's_type' 'x_trail' 'toledo' 'altea'\n",
      " 'voyager' 'calibra' 'bravo' 'antara' 'tucson' 'citigo' 'jimny' 'wrangler'\n",
      " 'lybra' 'q7' 'lancer' 'captiva' 'c2' 'discovery' 'freelander' 'sandero'\n",
      " 'note' '900' 'cherokee' 'clubman' 'samara' 'defender' '601' 'cx_reihe'\n",
      " 'legacy' 'pajero' 'auris' 'niva' 's60' 'nubira' 'vivaro' 'g_klasse'\n",
      " 'lodgy' '850' 'range_rover' 'q3' 'serie_2' 'glk' 'charade' 'croma'\n",
      " 'outlander' 'doblo' 'musa' 'move' '9000' 'v60' '145' 'aveo' '200' 'b_max'\n",
      " 'range_rover_sport' 'terios' 'rangerover' 'q5' 'range_rover_evoque'\n",
      " 'materia' 'delta' 'gl' 'kalina' 'amarok' 'elefantino' 'i3' 'kappa'\n",
      " 'serie_3' 'serie_1']\n",
      "golf                  29232\n",
      "other                 24421\n",
      "3er                   19761\n",
      "polo                  13066\n",
      "corsa                 12570\n",
      "                      ...  \n",
      "serie_2                   8\n",
      "serie_3                   4\n",
      "rangerover                4\n",
      "range_rover_evoque        2\n",
      "serie_1                   2\n",
      "Name: Model, Length: 250, dtype: int64\n",
      "\n",
      "Kilometer\n",
      "count    354369.000000\n",
      "mean     128211.172535\n",
      "std       37905.341530\n",
      "min        5000.000000\n",
      "25%      125000.000000\n",
      "50%      150000.000000\n",
      "75%      150000.000000\n",
      "max      150000.000000\n",
      "Name: Kilometer, dtype: float64\n"
     ]
    },
    {
     "data": {
      "image/png": "[encoded data removed]",
      "text/plain": [
       "<Figure size 1152x288 with 1 Axes>"
      ]
     },
     "metadata": {
      "needs_background": "light"
     },
     "output_type": "display_data"
    },
    {
     "name": "stdout",
     "output_type": "stream",
     "text": [
      "RegistrationMonth\n",
      "count    354369.000000\n",
      "mean          5.714645\n",
      "std           3.726421\n",
      "min           0.000000\n",
      "25%           3.000000\n",
      "50%           6.000000\n",
      "75%           9.000000\n",
      "max          12.000000\n",
      "Name: RegistrationMonth, dtype: float64\n"
     ]
    },
    {
     "data": {
      "image/png": "[encoded data removed]",
      "text/plain": [
       "<Figure size 1152x288 with 1 Axes>"
      ]
     },
     "metadata": {
      "needs_background": "light"
     },
     "output_type": "display_data"
    },
    {
     "name": "stdout",
     "output_type": "stream",
     "text": [
      "FuelType\n",
      "['petrol' 'gasoline' nan 'lpg' 'other' 'hybrid' 'cng' 'electric']\n",
      "petrol      216352\n",
      "gasoline     98720\n",
      "lpg           5310\n",
      "cng            565\n",
      "hybrid         233\n",
      "other          204\n",
      "electric        90\n",
      "Name: FuelType, dtype: int64\n",
      "\n",
      "Brand\n",
      "['volkswagen' 'audi' 'jeep' 'skoda' 'bmw' 'peugeot' 'ford' 'mazda'\n",
      " 'nissan' 'renault' 'mercedes_benz' 'opel' 'seat' 'citroen' 'honda' 'fiat'\n",
      " 'mini' 'smart' 'hyundai' 'sonstige_autos' 'alfa_romeo' 'subaru' 'volvo'\n",
      " 'mitsubishi' 'kia' 'suzuki' 'lancia' 'toyota' 'chevrolet' 'dacia'\n",
      " 'daihatsu' 'trabant' 'saab' 'chrysler' 'jaguar' 'daewoo' 'porsche'\n",
      " 'rover' 'land_rover' 'lada']\n",
      "volkswagen        77013\n",
      "opel              39931\n",
      "bmw               36914\n",
      "mercedes_benz     32046\n",
      "audi              29456\n",
      "ford              25179\n",
      "renault           17927\n",
      "peugeot           10998\n",
      "fiat               9643\n",
      "seat               6907\n",
      "mazda              5615\n",
      "skoda              5500\n",
      "smart              5246\n",
      "citroen            5148\n",
      "nissan             4941\n",
      "toyota             4606\n",
      "hyundai            3587\n",
      "sonstige_autos     3374\n",
      "volvo              3210\n",
      "mini               3202\n",
      "mitsubishi         3022\n",
      "honda              2817\n",
      "kia                2465\n",
      "suzuki             2323\n",
      "alfa_romeo         2314\n",
      "chevrolet          1754\n",
      "chrysler           1439\n",
      "dacia               900\n",
      "daihatsu            806\n",
      "subaru              762\n",
      "porsche             758\n",
      "jeep                677\n",
      "trabant             589\n",
      "land_rover          545\n",
      "daewoo              542\n",
      "saab                526\n",
      "jaguar              505\n",
      "rover               486\n",
      "lancia              471\n",
      "lada                225\n",
      "Name: Brand, dtype: int64\n",
      "\n",
      "NotRepaired\n",
      "[nan 'yes' 'no']\n",
      "no     247161\n",
      "yes     36054\n",
      "Name: NotRepaired, dtype: int64\n",
      "\n",
      "DateCreated\n",
      "['2016-03-24 00:00:00' '2016-03-14 00:00:00' '2016-03-17 00:00:00'\n",
      " '2016-03-31 00:00:00' '2016-04-04 00:00:00' '2016-04-01 00:00:00'\n",
      " '2016-03-21 00:00:00' '2016-03-26 00:00:00' '2016-04-07 00:00:00'\n",
      " '2016-03-15 00:00:00' '2016-03-11 00:00:00' '2016-03-20 00:00:00'\n",
      " '2016-03-23 00:00:00' '2016-03-27 00:00:00' '2016-03-12 00:00:00'\n",
      " '2016-03-13 00:00:00' '2016-03-18 00:00:00' '2016-03-10 00:00:00'\n",
      " '2016-03-07 00:00:00' '2016-03-09 00:00:00' '2016-03-08 00:00:00'\n",
      " '2016-04-03 00:00:00' '2016-03-29 00:00:00' '2016-03-25 00:00:00'\n",
      " '2016-03-28 00:00:00' '2016-03-30 00:00:00' '2016-03-22 00:00:00'\n",
      " '2016-02-09 00:00:00' '2016-03-05 00:00:00' '2016-04-02 00:00:00'\n",
      " '2016-03-16 00:00:00' '2016-03-19 00:00:00' '2016-04-05 00:00:00'\n",
      " '2016-03-06 00:00:00' '2016-02-12 00:00:00' '2016-03-03 00:00:00'\n",
      " '2016-03-01 00:00:00' '2016-03-04 00:00:00' '2016-04-06 00:00:00'\n",
      " '2016-02-15 00:00:00' '2016-02-24 00:00:00' '2016-02-27 00:00:00'\n",
      " '2015-03-20 00:00:00' '2016-02-28 00:00:00' '2016-02-17 00:00:00'\n",
      " '2016-01-27 00:00:00' '2016-02-20 00:00:00' '2016-02-29 00:00:00'\n",
      " '2016-02-10 00:00:00' '2016-02-23 00:00:00' '2016-02-21 00:00:00'\n",
      " '2015-11-02 00:00:00' '2016-02-19 00:00:00' '2016-02-26 00:00:00'\n",
      " '2016-02-11 00:00:00' '2016-01-10 00:00:00' '2016-02-06 00:00:00'\n",
      " '2016-02-18 00:00:00' '2016-01-29 00:00:00' '2016-03-02 00:00:00'\n",
      " '2015-12-06 00:00:00' '2016-01-24 00:00:00' '2016-01-30 00:00:00'\n",
      " '2016-02-02 00:00:00' '2016-02-16 00:00:00' '2016-02-13 00:00:00'\n",
      " '2016-02-05 00:00:00' '2016-02-22 00:00:00' '2015-11-17 00:00:00'\n",
      " '2014-03-10 00:00:00' '2016-02-07 00:00:00' '2016-01-23 00:00:00'\n",
      " '2016-02-25 00:00:00' '2016-02-14 00:00:00' '2016-01-02 00:00:00'\n",
      " '2015-09-04 00:00:00' '2015-11-12 00:00:00' '2015-12-27 00:00:00'\n",
      " '2015-11-24 00:00:00' '2016-01-20 00:00:00' '2016-02-03 00:00:00'\n",
      " '2015-12-05 00:00:00' '2015-08-07 00:00:00' '2016-01-28 00:00:00'\n",
      " '2016-01-31 00:00:00' '2016-02-08 00:00:00' '2016-01-07 00:00:00'\n",
      " '2016-01-22 00:00:00' '2016-01-18 00:00:00' '2016-01-08 00:00:00'\n",
      " '2015-11-23 00:00:00' '2016-01-13 00:00:00' '2016-01-17 00:00:00'\n",
      " '2016-01-15 00:00:00' '2015-11-08 00:00:00' '2016-01-26 00:00:00'\n",
      " '2016-02-04 00:00:00' '2016-01-25 00:00:00' '2016-01-16 00:00:00'\n",
      " '2015-08-10 00:00:00' '2016-01-03 00:00:00' '2016-01-19 00:00:00'\n",
      " '2015-12-30 00:00:00' '2016-02-01 00:00:00' '2015-12-17 00:00:00'\n",
      " '2015-11-10 00:00:00' '2016-01-06 00:00:00' '2015-09-09 00:00:00'\n",
      " '2015-06-18 00:00:00']\n",
      "2016-04-03 00:00:00    13719\n",
      "2016-04-04 00:00:00    13317\n",
      "2016-03-20 00:00:00    12918\n",
      "2016-03-12 00:00:00    12840\n",
      "2016-03-21 00:00:00    12691\n",
      "                       ...  \n",
      "2015-11-12 00:00:00        1\n",
      "2015-03-20 00:00:00        1\n",
      "2015-09-09 00:00:00        1\n",
      "2016-01-15 00:00:00        1\n",
      "2015-11-17 00:00:00        1\n",
      "Name: DateCreated, Length: 109, dtype: int64\n",
      "\n",
      "NumberOfPictures\n",
      "count    354369.0\n",
      "mean          0.0\n",
      "std           0.0\n",
      "min           0.0\n",
      "25%           0.0\n",
      "50%           0.0\n",
      "75%           0.0\n",
      "max           0.0\n",
      "Name: NumberOfPictures, dtype: float64\n",
      "PostalCode\n",
      "count    354369.000000\n",
      "mean      50508.689087\n",
      "std       25783.096248\n",
      "min        1067.000000\n",
      "25%       30165.000000\n",
      "50%       49413.000000\n",
      "75%       71083.000000\n",
      "max       99998.000000\n",
      "Name: PostalCode, dtype: float64\n"
     ]
    },
    {
     "data": {
      "image/png": "[encoded data removed]",
      "text/plain": [
       "<Figure size 1152x288 with 1 Axes>"
      ]
     },
     "metadata": {
      "needs_background": "light"
     },
     "output_type": "display_data"
    },
    {
     "name": "stdout",
     "output_type": "stream",
     "text": [
      "LastSeen\n",
      "['2016-04-07 03:16:57' '2016-04-07 01:46:50' '2016-04-05 12:47:46' ...\n",
      " '2016-03-19 20:44:43' '2016-03-29 10:17:23' '2016-03-21 10:42:49']\n",
      "2016-04-06 13:45:54    17\n",
      "2016-04-07 09:44:27    16\n",
      "2016-04-07 09:45:10    16\n",
      "2016-04-07 13:17:48    16\n",
      "2016-04-06 09:46:00    16\n",
      "                       ..\n",
      "2016-03-24 13:45:11     1\n",
      "2016-04-03 00:45:14     1\n",
      "2016-03-17 19:49:50     1\n",
      "2016-03-17 17:46:55     1\n",
      "2016-03-19 18:47:47     1\n",
      "Name: LastSeen, Length: 179150, dtype: int64\n",
      "\n"
     ]
    }
   ],
   "source": [
    "def info(data: pd.DataFrame):\n",
    "    \"\"\"\n",
    "    Функция пробегает по признакам датафрейма и, если тип у признака object,\n",
    "    выводит уникальные значения и их количество, в противном случае \n",
    "    оценивается распределение.\n",
    "    \n",
    "    Аргументы\n",
    "    ---------\n",
    "    data : pd.DataFrame\n",
    "        Датафрейм, по которому выводится информация.\n",
    "        \n",
    "    Возвращает\n",
    "    ----------\n",
    "    None\n",
    "    \n",
    "    \"\"\"\n",
    "    for column in data.columns:\n",
    "        if data[column].dtype == 'object':\n",
    "            print(column)\n",
    "            print(data[column].unique())\n",
    "            print(data[column].value_counts())\n",
    "            print()\n",
    "        else:\n",
    "            print(column)\n",
    "            print(data[column].describe())\n",
    "            # Если число уникальных значений в столбце между 1 и длиной столбца, то вывести распределение признака\n",
    "            if len(data[column].unique()) > 1 and len(data[column].unique()) != len(data[column]):\n",
    "                plt.figure(figsize=(16, 4))\n",
    "                sns.boxplot(data=data[column], orient='h')\n",
    "                plt.xlabel('Значения')\n",
    "                plt.ylabel(column)\n",
    "                plt.title('Распределение ' + column)\n",
    "                plt.show()\n",
    "                \n",
    "info(autos_df)"
   ]
  },
  {
   "cell_type": "markdown",
   "id": "a87bb7e3",
   "metadata": {},
   "source": [
    "По распределениям количественных признаков заметны некоторые особенности:\n",
    "* в столбце **'Price'** есть нулевые значения, т.е. автомобили отдаются даром;\n",
    "* в столбце **'RegistrationYear'** есть нереальные значения лет регистрации: как в сторону прошлого, так и в сторону будущего;\n",
    "* в столбце **'Power'** есть нереальные значения мощности автомобиля (например, больше 2500), а очень малые значения, в т.ч. нулевые (возможно, автомобиль продаётся без двигателя на запчасти);\n",
    "* в столбце **'RegistrationMonth'** 13 значений месяца регистрации, хотя в реальности всего 12 месяцев, при этом значения распределены равномерно, так как 25% хвосты по длине совпадают с 25%-50% и с 50%-75% распределения;\n",
    "* признак **'NumberOfPictures'** неинформативен, так как все значения равны нулю.\n",
    "\n",
    "### Вывод\n",
    "\n",
    "* Данные представляют собой таблицу из 354368 строк и 16 столбцов-признаков.\n",
    "* Датам и категориальным признакам присвоены типы 'object', оставшиеся 7 признаков имеют целочисленный тип.\n",
    "* Данные пропущены в следующих признаках:\n",
    "    * VehicleType - 10.6%\n",
    "    * Gearbox - 5.6%\n",
    "    * Model - 5.6%\n",
    "    * FuelType - 9.3%\n",
    "    * NotRepaired - 20.1%\n",
    "* Пропусков достаточно много и поэтому целесообразнее попытаться их заменить, чем просто удалить.\n",
    "* Статистический анализ данных показал, что:\n",
    "    * в столбце **'Price'** есть нулевые значения, т.е. автомобили отдаются даром;\n",
    "    * в столбце **'RegistrationYear'** есть нереальные значения лет регистрации: как в сторону прошлого, так и в сторону будущего;\n",
    "    * в столбце **'Power'** есть нереальные значения мощности автомобиля (например, больше 2500), а очень малые значения, в т.ч. нулевые (возможно, автомобиль продаётся без двигателя на запчасти);\n",
    "    * в столбце **'RegistrationMonth'** 13 значений месяца регистрации, хотя в реальности всего 12 месяцев, при этом значения распределены равномерно, так как 25% хвосты по длине совпадают с 25%-50% и с 50%-75% распределения;\n",
    "    * признак **'NumberOfPictures'** неинформативен, так как все значения равны нулю."
   ]
  },
  {
   "cell_type": "markdown",
   "id": "59e6866f",
   "metadata": {},
   "source": [
    "## Обработка пропусков"
   ]
  },
  {
   "cell_type": "markdown",
   "id": "a8920262",
   "metadata": {},
   "source": [
    "Пропуски будем заменять в соотвествии со следующей стратегией:\n",
    "* **Model**: Nan => 'unknown'\n",
    "* **VehicleType**: Nan => мода для тех же автомобилей ('Brand' и 'Model')\n",
    "* **GearBox**: Nan => мода для тех же автомобилей ('Brand' и 'Model')\n",
    "* **FuelType**: Nan => мода для тех же автомобилей ('Brand' и 'Model')\n",
    "* **NotRepaired**: Nan => 'unknown'"
   ]
  },
  {
   "cell_type": "markdown",
   "id": "8e14b547",
   "metadata": {},
   "source": [
    "Заполним пропуски в столбце **'Model'** и проверим корректность процедуры."
   ]
  },
  {
   "cell_type": "code",
   "execution_count": 7,
   "id": "029be97f",
   "metadata": {},
   "outputs": [
    {
     "data": {
      "text/plain": [
       "0"
      ]
     },
     "execution_count": 7,
     "metadata": {},
     "output_type": "execute_result"
    }
   ],
   "source": [
    "autos_df['Model'].fillna('unknown', inplace=True)\n",
    "autos_df['Model'].isnull().sum()"
   ]
  },
  {
   "cell_type": "markdown",
   "id": "9a167cf3",
   "metadata": {},
   "source": [
    "Напишем функцию для замены пропусков на необходимую статистику, вычисленную внутри некоторой группы (среза датафрейма)."
   ]
  },
  {
   "cell_type": "code",
   "execution_count": 8,
   "id": "9ddb0133",
   "metadata": {},
   "outputs": [],
   "source": [
    "def fillna_using_filter(df: pd.DataFrame, col_to_fill: str, cols_to_filter: list, fill_with: str):\n",
    "    \"\"\"\n",
    "    Заполняет пропуски в столбце датафрейма значениями, полученными на основе отфильтрованных с помощью столбцов-фильтров:\n",
    "    для каждого пропуска ищутся строки датафрейма, в которых содержатся значения, равные тем, что находятся в той же строке\n",
    "    в столбцах-фильтрах, и считается некоторый параметр (например, среднее) по отфильтрованному целевому столбцу.\n",
    "    \n",
    "    Аргументы\n",
    "    ---------\n",
    "    df : pd.DataFrame\n",
    "        Исходный датафрейм.\n",
    "    col_to_fill : str\n",
    "        Имя столбца, в котором необходимо заполнить пропуски.\n",
    "    cols_to_filter : list\n",
    "        Список имён столбцов, значения которых используются для фильтрации данных.\n",
    "    fill_with : {'mean', 'median', 'mode'}\n",
    "        Название статистики, рассчитываемой по целевому столбцу.\n",
    "        \n",
    "    Возвращает\n",
    "    ----------\n",
    "    None\n",
    "    \n",
    "    \"\"\"\n",
    "    def get_selected_statistic(series: pd.Series):\n",
    "        \"\"\"\n",
    "        По названию метода получает значение соответствующей статистики (среднего, медианы или моды)\n",
    "        для последовательности pd.Series.\n",
    "        \n",
    "        Аргументы\n",
    "        ---------\n",
    "        series : pd.Series\n",
    "            Столбец датафрейма, для которого считается статистика.\n",
    "        \n",
    "        Возвращает\n",
    "        ----------\n",
    "        Значение статистики.\n",
    "        \n",
    "        \"\"\"\n",
    "        func_dict = {\n",
    "            'mean': series.mean,\n",
    "            'median': series.median,\n",
    "            'mode': series.mode\n",
    "        }\n",
    "        \n",
    "        try:\n",
    "            value = func_dict[fill_with]()\n",
    "            if type(value) == pd.Series:\n",
    "                value = value.values[0]\n",
    "                \n",
    "            return value\n",
    "        except KeyError:\n",
    "            print('Ошибка: неверное значение аргумента fill_with')\n",
    "            return np.nan\n",
    "    \n",
    "    try:\n",
    "        indices = df[df[col_to_fill].isnull()].index\n",
    "    except KeyError:\n",
    "        print('Ошибка: в датафрейме нет столбца с именем \"{}\"'.format(col_to_fill))\n",
    "        return\n",
    "    \n",
    "    new_values = []\n",
    "    stop = len(indices)\n",
    "    \n",
    "    print('Прогресс: 0%', end='\\r')\n",
    "    for j, index in enumerate(indices):\n",
    "        try:\n",
    "            query_list = [\n",
    "                col + '==' + str(df.loc[index, col])\n",
    "                if df[col].dtype != 'O'\n",
    "                else col + '==\"' + df.loc[index, col] + '\"'\n",
    "                for col in cols_to_filter\n",
    "            ]\n",
    "        except KeyError as e:\n",
    "            if 'None of' in e.args[0]:\n",
    "                print(e.args[0])\n",
    "                return\n",
    "            else:\n",
    "                print('Ошибка: в датафрейме нет столбца с именем \"{}\"'.format(e.args[0]))\n",
    "                return\n",
    "\n",
    "        query_text = ' and '.join(query_list)\n",
    "\n",
    "        new_value = get_selected_statistic(df.query(query_text)[col_to_fill])\n",
    "        new_values.append(new_value)\n",
    "            \n",
    "        print('Прогресс: {:.2%}'.format((j + 1) / stop), end='\\r')\n",
    "            \n",
    "    if not indices.empty:\n",
    "        df.loc[indices, col_to_fill] = new_values\n",
    "    print('В столбце \"{}\" осталось {} пропущенных значений.'.format(col_to_fill, df[col_to_fill].isnull().sum()))"
   ]
  },
  {
   "cell_type": "markdown",
   "id": "bb767996",
   "metadata": {},
   "source": [
    "Заполним пропуски в столбце **'VehicleType'** и выведем изменения по каждой категории."
   ]
  },
  {
   "cell_type": "code",
   "execution_count": 9,
   "id": "e569b31a",
   "metadata": {},
   "outputs": [
    {
     "name": "stdout",
     "output_type": "stream",
     "text": [
      "В столбце \"VehicleType\" осталось 0 пропущенных значений.\n",
      "Wall time: 21min 21s\n"
     ]
    }
   ],
   "source": [
    "%%time\n",
    "old_value_counts = autos_df['VehicleType'].value_counts()\n",
    "fillna_using_filter(df=autos_df, col_to_fill='VehicleType', cols_to_filter=['Model', 'Brand'], fill_with='mode')"
   ]
  },
  {
   "cell_type": "code",
   "execution_count": 178,
   "id": "2933e375",
   "metadata": {},
   "outputs": [
    {
     "data": {
      "text/plain": [
       "sedan          15721\n",
       "small          12738\n",
       "wagon           3642\n",
       "bus             3759\n",
       "convertible      272\n",
       "coupe            649\n",
       "suv              684\n",
       "other             25\n",
       "Name: VehicleType, dtype: int64"
      ]
     },
     "execution_count": 178,
     "metadata": {},
     "output_type": "execute_result"
    }
   ],
   "source": [
    "autos_df['VehicleType'].value_counts() - old_value_counts"
   ]
  },
  {
   "cell_type": "markdown",
   "id": "481d84e6",
   "metadata": {},
   "source": [
    "Заполним пропуски в столбце **'Gearbox'** и выведем изменения по каждой категории."
   ]
  },
  {
   "cell_type": "code",
   "execution_count": 11,
   "id": "c430559f",
   "metadata": {},
   "outputs": [
    {
     "name": "stdout",
     "output_type": "stream",
     "text": [
      "В столбце \"Gearbox\" осталось 0 пропущенных значений.\n",
      "Wall time: 11min 23s\n"
     ]
    }
   ],
   "source": [
    "%%time\n",
    "old_value_counts = autos_df['Gearbox'].value_counts()\n",
    "fillna_using_filter(df=autos_df, col_to_fill='Gearbox', cols_to_filter=['Model', 'Brand'], fill_with='mode')"
   ]
  },
  {
   "cell_type": "code",
   "execution_count": 181,
   "id": "4682a795",
   "metadata": {},
   "outputs": [
    {
     "data": {
      "text/plain": [
       "manual    17800\n",
       "auto       2033\n",
       "Name: Gearbox, dtype: int64"
      ]
     },
     "execution_count": 181,
     "metadata": {},
     "output_type": "execute_result"
    }
   ],
   "source": [
    "autos_df['Gearbox'].value_counts() - old_value_counts"
   ]
  },
  {
   "cell_type": "markdown",
   "id": "ff9cb7d7",
   "metadata": {},
   "source": [
    "Заполним пропуски в столбце **'FuelType'** и выведем изменения по каждой категории."
   ]
  },
  {
   "cell_type": "code",
   "execution_count": 13,
   "id": "f7ecc28b",
   "metadata": {},
   "outputs": [
    {
     "name": "stdout",
     "output_type": "stream",
     "text": [
      "В столбце \"FuelType\" осталось 0 пропущенных значений.\n",
      "Wall time: 18min 37s\n"
     ]
    }
   ],
   "source": [
    "%%time\n",
    "old_value_counts = autos_df['FuelType'].value_counts()\n",
    "fillna_using_filter(df=autos_df, col_to_fill='FuelType', cols_to_filter=['Model', 'Brand'], fill_with='mode')"
   ]
  },
  {
   "cell_type": "code",
   "execution_count": 184,
   "id": "e7bf8055",
   "metadata": {},
   "outputs": [
    {
     "data": {
      "text/plain": [
       "petrol      27992\n",
       "gasoline     4903\n",
       "lpg             0\n",
       "cng             0\n",
       "hybrid          0\n",
       "other           0\n",
       "electric        0\n",
       "Name: FuelType, dtype: int64"
      ]
     },
     "execution_count": 184,
     "metadata": {},
     "output_type": "execute_result"
    }
   ],
   "source": [
    "autos_df['FuelType'].value_counts() - old_value_counts"
   ]
  },
  {
   "cell_type": "markdown",
   "id": "9ef726ec",
   "metadata": {},
   "source": [
    "Заполним пропуски в столбце **'NotRepaired'** и проверим корректность процедуры."
   ]
  },
  {
   "cell_type": "code",
   "execution_count": 15,
   "id": "ea252978",
   "metadata": {},
   "outputs": [
    {
     "data": {
      "text/plain": [
       "0"
      ]
     },
     "execution_count": 15,
     "metadata": {},
     "output_type": "execute_result"
    }
   ],
   "source": [
    "autos_df['NotRepaired'].fillna('unknown', inplace=True)\n",
    "autos_df['NotRepaired'].isnull().sum()"
   ]
  },
  {
   "cell_type": "markdown",
   "id": "b7177cd9",
   "metadata": {},
   "source": [
    "Проверим, что в новом датарейме нет дубликатов."
   ]
  },
  {
   "cell_type": "code",
   "execution_count": 194,
   "id": "033e5b9b",
   "metadata": {},
   "outputs": [
    {
     "data": {
      "text/html": [
       "<div>\n",
       "<style scoped>\n",
       "    .dataframe tbody tr th:only-of-type {\n",
       "        vertical-align: middle;\n",
       "    }\n",
       "\n",
       "    .dataframe tbody tr th {\n",
       "        vertical-align: top;\n",
       "    }\n",
       "\n",
       "    .dataframe thead th {\n",
       "        text-align: right;\n",
       "    }\n",
       "</style>\n",
       "<table border=\"1\" class=\"dataframe\">\n",
       "  <thead>\n",
       "    <tr style=\"text-align: right;\">\n",
       "      <th></th>\n",
       "      <th>DateCrawled</th>\n",
       "      <th>Price</th>\n",
       "      <th>VehicleType</th>\n",
       "      <th>RegistrationYear</th>\n",
       "      <th>Gearbox</th>\n",
       "      <th>Power</th>\n",
       "      <th>Model</th>\n",
       "      <th>Kilometer</th>\n",
       "      <th>RegistrationMonth</th>\n",
       "      <th>FuelType</th>\n",
       "      <th>Brand</th>\n",
       "      <th>NotRepaired</th>\n",
       "      <th>DateCreated</th>\n",
       "      <th>NumberOfPictures</th>\n",
       "      <th>PostalCode</th>\n",
       "      <th>LastSeen</th>\n",
       "    </tr>\n",
       "  </thead>\n",
       "  <tbody>\n",
       "    <tr>\n",
       "      <th>171088</th>\n",
       "      <td>2016-03-08 18:42:48</td>\n",
       "      <td>1799</td>\n",
       "      <td>coupe</td>\n",
       "      <td>1999</td>\n",
       "      <td>auto</td>\n",
       "      <td>193</td>\n",
       "      <td>clk</td>\n",
       "      <td>20000</td>\n",
       "      <td>7</td>\n",
       "      <td>petrol</td>\n",
       "      <td>mercedes_benz</td>\n",
       "      <td>no</td>\n",
       "      <td>2016-03-08 00:00:00</td>\n",
       "      <td>0</td>\n",
       "      <td>89518</td>\n",
       "      <td>2016-03-09 09:46:57</td>\n",
       "    </tr>\n",
       "    <tr>\n",
       "      <th>231258</th>\n",
       "      <td>2016-03-28 00:56:10</td>\n",
       "      <td>1000</td>\n",
       "      <td>small</td>\n",
       "      <td>2002</td>\n",
       "      <td>manual</td>\n",
       "      <td>83</td>\n",
       "      <td>other</td>\n",
       "      <td>150000</td>\n",
       "      <td>1</td>\n",
       "      <td>petrol</td>\n",
       "      <td>suzuki</td>\n",
       "      <td>no</td>\n",
       "      <td>2016-03-28 00:00:00</td>\n",
       "      <td>0</td>\n",
       "      <td>66589</td>\n",
       "      <td>2016-03-28 08:46:21</td>\n",
       "    </tr>\n",
       "    <tr>\n",
       "      <th>258109</th>\n",
       "      <td>2016-04-03 09:01:15</td>\n",
       "      <td>4699</td>\n",
       "      <td>coupe</td>\n",
       "      <td>2003</td>\n",
       "      <td>auto</td>\n",
       "      <td>218</td>\n",
       "      <td>clk</td>\n",
       "      <td>125000</td>\n",
       "      <td>6</td>\n",
       "      <td>petrol</td>\n",
       "      <td>mercedes_benz</td>\n",
       "      <td>yes</td>\n",
       "      <td>2016-04-03 00:00:00</td>\n",
       "      <td>0</td>\n",
       "      <td>75196</td>\n",
       "      <td>2016-04-07 09:44:54</td>\n",
       "    </tr>\n",
       "    <tr>\n",
       "      <th>325651</th>\n",
       "      <td>2016-03-18 18:46:15</td>\n",
       "      <td>1999</td>\n",
       "      <td>wagon</td>\n",
       "      <td>2001</td>\n",
       "      <td>manual</td>\n",
       "      <td>131</td>\n",
       "      <td>passat</td>\n",
       "      <td>150000</td>\n",
       "      <td>7</td>\n",
       "      <td>gasoline</td>\n",
       "      <td>volkswagen</td>\n",
       "      <td>no</td>\n",
       "      <td>2016-03-18 00:00:00</td>\n",
       "      <td>0</td>\n",
       "      <td>36391</td>\n",
       "      <td>2016-03-18 18:46:15</td>\n",
       "    </tr>\n",
       "  </tbody>\n",
       "</table>\n",
       "</div>"
      ],
      "text/plain": [
       "                DateCrawled  Price VehicleType  RegistrationYear Gearbox  \\\n",
       "171088  2016-03-08 18:42:48   1799       coupe              1999    auto   \n",
       "231258  2016-03-28 00:56:10   1000       small              2002  manual   \n",
       "258109  2016-04-03 09:01:15   4699       coupe              2003    auto   \n",
       "325651  2016-03-18 18:46:15   1999       wagon              2001  manual   \n",
       "\n",
       "        Power   Model  Kilometer  RegistrationMonth  FuelType          Brand  \\\n",
       "171088    193     clk      20000                  7    petrol  mercedes_benz   \n",
       "231258     83   other     150000                  1    petrol         suzuki   \n",
       "258109    218     clk     125000                  6    petrol  mercedes_benz   \n",
       "325651    131  passat     150000                  7  gasoline     volkswagen   \n",
       "\n",
       "       NotRepaired          DateCreated  NumberOfPictures  PostalCode  \\\n",
       "171088          no  2016-03-08 00:00:00                 0       89518   \n",
       "231258          no  2016-03-28 00:00:00                 0       66589   \n",
       "258109         yes  2016-04-03 00:00:00                 0       75196   \n",
       "325651          no  2016-03-18 00:00:00                 0       36391   \n",
       "\n",
       "                   LastSeen  \n",
       "171088  2016-03-09 09:46:57  \n",
       "231258  2016-03-28 08:46:21  \n",
       "258109  2016-04-07 09:44:54  \n",
       "325651  2016-03-18 18:46:15  "
      ]
     },
     "execution_count": 194,
     "metadata": {},
     "output_type": "execute_result"
    }
   ],
   "source": [
    "autos_df[autos_df.duplicated()]"
   ]
  },
  {
   "cell_type": "markdown",
   "id": "b826dc03",
   "metadata": {},
   "source": [
    "Тут какие-то странные дела происходят. Но в общем - дубликатов нет."
   ]
  },
  {
   "cell_type": "code",
   "execution_count": 11,
   "id": "09e1b815",
   "metadata": {},
   "outputs": [],
   "source": [
    "# Для ускорения работы на данном шаге выгрузил датафрейм без пропусков.\n",
    "# autos_df.to_csv('autos_filled_na.csv', index=False)\n",
    "# autos_df = pd.read_csv('autos_filled_na.csv', sep=None, engine='python')"
   ]
  },
  {
   "cell_type": "markdown",
   "id": "bb3c5be2",
   "metadata": {},
   "source": [
    "### Вывод\n",
    "\n",
    "* Пропуски были обработаны в соотвествии со стратегией:\n",
    "    * **Model**: Nan => 'unknown'\n",
    "    * **VehicleType**: Nan => мода для тех же автомобилей ('Brand' и 'Model')\n",
    "    * **GearBox**: Nan => мода для тех же автомобилей ('Brand' и 'Model')\n",
    "    * **FuelType**: Nan => мода для тех же автомобилей ('Brand' и 'Model')\n",
    "    * **NotRepaired**: Nan => 'unknown'\n",
    "* Дубликатов после замены не найдено."
   ]
  },
  {
   "cell_type": "markdown",
   "id": "9632b9f2",
   "metadata": {},
   "source": [
    "## Обработка аномальных значений"
   ]
  },
  {
   "cell_type": "markdown",
   "id": "aca50008",
   "metadata": {},
   "source": [
    "Посмотрим, в какое время были выгружены анкеты. Для простоты рассмотрим год."
   ]
  },
  {
   "cell_type": "code",
   "execution_count": 17,
   "id": "4800b7e0",
   "metadata": {},
   "outputs": [
    {
     "data": {
      "text/plain": [
       "array([2016], dtype=int64)"
      ]
     },
     "execution_count": 17,
     "metadata": {},
     "output_type": "execute_result"
    }
   ],
   "source": [
    "pd.to_datetime(autos_df['DateCrawled'], format='%Y-%m-%d %H:%M:%S').dt.year.unique()"
   ]
  },
  {
   "cell_type": "markdown",
   "id": "8dfed49b",
   "metadata": {},
   "source": [
    "Все анкеты были выгружены в 2016 году, при этом теоретически они могли быть выгружены в один день, так что наиболее вероятно, что между ценой и датой выгрузки нет никакой связи, а наличие статистической связи введёт только в заблуждение.\n",
    "\n",
    "Рассмотрим теперь год регистрации автомобиля. Как уже было отмечено ранее, в данном признаке есть аномальные значения."
   ]
  },
  {
   "cell_type": "code",
   "execution_count": 18,
   "id": "52250783",
   "metadata": {},
   "outputs": [
    {
     "data": {
      "text/plain": [
       "array([1000, 1001, 1039, 1111, 1200, 1234, 1253, 1255, 1300, 1400, 1500,\n",
       "       1600, 1602, 1688, 1800, 1910, 1915, 1919, 1920, 1923, 1925, 1927,\n",
       "       1928, 1929, 1930, 1931, 1932, 1933, 1934, 1935, 1936, 1937, 1938,\n",
       "       1940, 1941, 1942, 1943, 1944, 1945, 1946, 1947, 1948, 1949, 1950,\n",
       "       1951, 1952, 1953, 1954, 1955, 1956, 1957, 1958, 1959, 1960, 1961,\n",
       "       1962, 1963, 1964, 1965, 1966, 1967, 1968, 1969, 1970, 1971, 1972,\n",
       "       1973, 1974, 1975, 1976, 1977, 1978, 1979, 1980, 1981, 1982, 1983,\n",
       "       1984, 1985, 1986, 1987, 1988, 1989, 1990, 1991, 1992, 1993, 1994,\n",
       "       1995, 1996, 1997, 1998, 1999, 2000, 2001, 2002, 2003, 2004, 2005,\n",
       "       2006, 2007, 2008, 2009, 2010, 2011, 2012, 2013, 2014, 2015, 2016,\n",
       "       2017, 2018, 2019, 2066, 2200, 2222, 2290, 2500, 2800, 2900, 3000,\n",
       "       3200, 3500, 3700, 3800, 4000, 4100, 4500, 4800, 5000, 5300, 5555,\n",
       "       5600, 5900, 5911, 6000, 6500, 7000, 7100, 7500, 7800, 8000, 8200,\n",
       "       8455, 8500, 8888, 9000, 9229, 9450, 9996, 9999], dtype=int64)"
      ]
     },
     "execution_count": 18,
     "metadata": {},
     "output_type": "execute_result"
    }
   ],
   "source": [
    "autos_df['RegistrationYear'].sort_values().unique()"
   ]
  },
  {
   "cell_type": "markdown",
   "id": "99afe946",
   "metadata": {},
   "source": [
    "Первые немецкие номерные знаки (Kfz-Kennzeichen) были выпущены в 1892 году в Берлине, а в 1906 году была введена общегосударственная система номерных знаков, с префиксами (кодами) в начале номера. (Ссылка: <a href=\"https://avto-nomer.ru/newforum/index.php?app=forums&module=forums&controller=topic&id=2743#:~:text=9.%20ДОВОЕННЫЕ%20НОМЕРА%20ГЕРМАНИИ%20СТАНДАРТА,префиксами%20(кодами)%20в%20начале%20номера\">General information about German license plates / Справочная тема по немецким номерам.</a>)  \n",
    "Поэтому года с 1000 по 1800 не могут быть реальными значениями, как и с 2066 по 9999.\n",
    "\n",
    "Посмотрим, какие модели были зарегистрированы в 1910м году."
   ]
  },
  {
   "cell_type": "code",
   "execution_count": 19,
   "id": "2f98c538",
   "metadata": {},
   "outputs": [
    {
     "data": {
      "text/plain": [
       "array(['ka', 'unknown', 'other', 'passat', 'punto', 'caddy', 'agila',\n",
       "       '3er', 'beetle', 'golf', 'corsa', 'a2', 'gl', 'combo', 'calibra',\n",
       "       'kaefer', 'polo', 'colt', '100', 'transporter', 'a4', 'mondeo',\n",
       "       'espace', 'escort', 'omega'], dtype=object)"
      ]
     },
     "execution_count": 19,
     "metadata": {},
     "output_type": "execute_result"
    }
   ],
   "source": [
    "autos_df.query('RegistrationYear == 1910')['Model'].unique()"
   ]
  },
  {
   "cell_type": "markdown",
   "id": "20c35e81",
   "metadata": {},
   "source": [
    "Большая часть данных автомобилей выпущена намного позже, таким образом, в столбце **'RegistrationYear'** есть неверные значения, причём придётся найти даты выпуска всех моделей из исходных данных, чтобы проверить их на соответствие действительности. Найдём 0.5% и 99.5% квантили, если года будут адекватными, примем соответствующие анкеты корректными, а для записей, попавших в хвосты распределения, даты заменим на медиану для соответствующих производителя и модели автомобиля; затем повторим проверку квантилей."
   ]
  },
  {
   "cell_type": "code",
   "execution_count": 7,
   "id": "d4bf586a",
   "metadata": {},
   "outputs": [
    {
     "data": {
      "text/plain": [
       "(1971.0, 2018.0)"
      ]
     },
     "execution_count": 7,
     "metadata": {},
     "output_type": "execute_result"
    }
   ],
   "source": [
    "autos_df['RegistrationYear'].quantile(0.005), autos_df['RegistrationYear'].quantile(0.995)"
   ]
  },
  {
   "cell_type": "code",
   "execution_count": 13,
   "id": "a7eec164",
   "metadata": {},
   "outputs": [
    {
     "name": "stdout",
     "output_type": "stream",
     "text": [
      "В столбце \"RegistrationYear\" осталось 0 пропущенных значений.\n"
     ]
    }
   ],
   "source": [
    "autos_df.loc[(autos_df['RegistrationYear'] < 1970) | (autos_df['RegistrationYear'] > 2019), 'RegistrationYear'] = np.nan\n",
    "fillna_using_filter(df=autos_df, col_to_fill='RegistrationYear', cols_to_filter=['Model', 'Brand'], fill_with='median')"
   ]
  },
  {
   "cell_type": "code",
   "execution_count": 14,
   "id": "984309b0",
   "metadata": {},
   "outputs": [
    {
     "data": {
      "text/plain": [
       "count    354369.000000\n",
       "mean       2003.229525\n",
       "std           6.967877\n",
       "min        1970.000000\n",
       "25%        1999.000000\n",
       "50%        2003.000000\n",
       "75%        2008.000000\n",
       "max        2019.000000\n",
       "Name: RegistrationYear, dtype: float64"
      ]
     },
     "execution_count": 14,
     "metadata": {},
     "output_type": "execute_result"
    }
   ],
   "source": [
    "autos_df['RegistrationYear'].describe()"
   ]
  },
  {
   "cell_type": "markdown",
   "id": "8fc5b84a",
   "metadata": {},
   "source": [
    "Все странные и далёкие от реальности даты успешно заменены, причём квартили остались на своих местах, среднее уменьшилось на 1 год, так как теперь максимальное значение года регистрации равно 2019, а не 9999.\n",
    "\n",
    "Посмотрим распределение мощности автомобилей из анкет меньше 1000 л.с."
   ]
  },
  {
   "cell_type": "code",
   "execution_count": 21,
   "id": "b32d0af4",
   "metadata": {
    "scrolled": false
   },
   "outputs": [
    {
     "data": {
      "text/plain": [
       "<matplotlib.axes._subplots.AxesSubplot at 0x3460870430>"
      ]
     },
     "execution_count": 21,
     "metadata": {},
     "output_type": "execute_result"
    },
    {
     "data": {
      "image/png": "[encoded data removed]",
      "text/plain": [
       "<Figure size 1152x288 with 1 Axes>"
      ]
     },
     "metadata": {
      "needs_background": "light"
     },
     "output_type": "display_data"
    }
   ],
   "source": [
    "plt.figure(figsize=(16, 4))\n",
    "sns.violinplot(autos_df.query('Power < 1000')['Power'])"
   ]
  },
  {
   "cell_type": "markdown",
   "id": "559e0c64",
   "metadata": {},
   "source": [
    "Видны группа околонулевых значений, основная группа серийных автомобилей и длинный хвост примерно от 300 л.с. и выше.  \n",
    "Посмотрим анкеты с автомобилями с нулевой мощностью."
   ]
  },
  {
   "cell_type": "code",
   "execution_count": 22,
   "id": "9886015f",
   "metadata": {
    "scrolled": true
   },
   "outputs": [
    {
     "data": {
      "text/html": [
       "<div>\n",
       "<style scoped>\n",
       "    .dataframe tbody tr th:only-of-type {\n",
       "        vertical-align: middle;\n",
       "    }\n",
       "\n",
       "    .dataframe tbody tr th {\n",
       "        vertical-align: top;\n",
       "    }\n",
       "\n",
       "    .dataframe thead th {\n",
       "        text-align: right;\n",
       "    }\n",
       "</style>\n",
       "<table border=\"1\" class=\"dataframe\">\n",
       "  <thead>\n",
       "    <tr style=\"text-align: right;\">\n",
       "      <th></th>\n",
       "      <th>DateCrawled</th>\n",
       "      <th>Price</th>\n",
       "      <th>VehicleType</th>\n",
       "      <th>RegistrationYear</th>\n",
       "      <th>Gearbox</th>\n",
       "      <th>Power</th>\n",
       "      <th>Model</th>\n",
       "      <th>Kilometer</th>\n",
       "      <th>RegistrationMonth</th>\n",
       "      <th>FuelType</th>\n",
       "      <th>Brand</th>\n",
       "      <th>NotRepaired</th>\n",
       "      <th>DateCreated</th>\n",
       "      <th>NumberOfPictures</th>\n",
       "      <th>PostalCode</th>\n",
       "      <th>LastSeen</th>\n",
       "    </tr>\n",
       "  </thead>\n",
       "  <tbody>\n",
       "    <tr>\n",
       "      <th>0</th>\n",
       "      <td>2016-03-24 11:52:17</td>\n",
       "      <td>480</td>\n",
       "      <td>sedan</td>\n",
       "      <td>1993</td>\n",
       "      <td>manual</td>\n",
       "      <td>0</td>\n",
       "      <td>golf</td>\n",
       "      <td>150000</td>\n",
       "      <td>0</td>\n",
       "      <td>petrol</td>\n",
       "      <td>volkswagen</td>\n",
       "      <td>unknown</td>\n",
       "      <td>2016-03-24 00:00:00</td>\n",
       "      <td>0</td>\n",
       "      <td>70435</td>\n",
       "      <td>2016-04-07 03:16:57</td>\n",
       "    </tr>\n",
       "    <tr>\n",
       "      <th>15</th>\n",
       "      <td>2016-03-11 21:39:15</td>\n",
       "      <td>450</td>\n",
       "      <td>small</td>\n",
       "      <td>1910</td>\n",
       "      <td>manual</td>\n",
       "      <td>0</td>\n",
       "      <td>ka</td>\n",
       "      <td>5000</td>\n",
       "      <td>0</td>\n",
       "      <td>petrol</td>\n",
       "      <td>ford</td>\n",
       "      <td>unknown</td>\n",
       "      <td>2016-03-11 00:00:00</td>\n",
       "      <td>0</td>\n",
       "      <td>24148</td>\n",
       "      <td>2016-03-19 08:46:47</td>\n",
       "    </tr>\n",
       "    <tr>\n",
       "      <th>32</th>\n",
       "      <td>2016-03-15 20:59:01</td>\n",
       "      <td>245</td>\n",
       "      <td>sedan</td>\n",
       "      <td>1994</td>\n",
       "      <td>manual</td>\n",
       "      <td>0</td>\n",
       "      <td>golf</td>\n",
       "      <td>150000</td>\n",
       "      <td>2</td>\n",
       "      <td>petrol</td>\n",
       "      <td>volkswagen</td>\n",
       "      <td>no</td>\n",
       "      <td>2016-03-15 00:00:00</td>\n",
       "      <td>0</td>\n",
       "      <td>44145</td>\n",
       "      <td>2016-03-17 18:17:43</td>\n",
       "    </tr>\n",
       "    <tr>\n",
       "      <th>37</th>\n",
       "      <td>2016-03-28 17:50:15</td>\n",
       "      <td>1500</td>\n",
       "      <td>bus</td>\n",
       "      <td>2016</td>\n",
       "      <td>manual</td>\n",
       "      <td>0</td>\n",
       "      <td>kangoo</td>\n",
       "      <td>150000</td>\n",
       "      <td>1</td>\n",
       "      <td>gasoline</td>\n",
       "      <td>renault</td>\n",
       "      <td>no</td>\n",
       "      <td>2016-03-28 00:00:00</td>\n",
       "      <td>0</td>\n",
       "      <td>46483</td>\n",
       "      <td>2016-03-30 09:18:02</td>\n",
       "    </tr>\n",
       "    <tr>\n",
       "      <th>40</th>\n",
       "      <td>2016-03-26 22:06:17</td>\n",
       "      <td>0</td>\n",
       "      <td>small</td>\n",
       "      <td>1990</td>\n",
       "      <td>manual</td>\n",
       "      <td>0</td>\n",
       "      <td>corsa</td>\n",
       "      <td>150000</td>\n",
       "      <td>1</td>\n",
       "      <td>petrol</td>\n",
       "      <td>opel</td>\n",
       "      <td>unknown</td>\n",
       "      <td>2016-03-26 00:00:00</td>\n",
       "      <td>0</td>\n",
       "      <td>56412</td>\n",
       "      <td>2016-03-27 17:43:34</td>\n",
       "    </tr>\n",
       "    <tr>\n",
       "      <th>...</th>\n",
       "      <td>...</td>\n",
       "      <td>...</td>\n",
       "      <td>...</td>\n",
       "      <td>...</td>\n",
       "      <td>...</td>\n",
       "      <td>...</td>\n",
       "      <td>...</td>\n",
       "      <td>...</td>\n",
       "      <td>...</td>\n",
       "      <td>...</td>\n",
       "      <td>...</td>\n",
       "      <td>...</td>\n",
       "      <td>...</td>\n",
       "      <td>...</td>\n",
       "      <td>...</td>\n",
       "      <td>...</td>\n",
       "    </tr>\n",
       "    <tr>\n",
       "      <th>354338</th>\n",
       "      <td>2016-03-31 19:52:33</td>\n",
       "      <td>180</td>\n",
       "      <td>small</td>\n",
       "      <td>1995</td>\n",
       "      <td>manual</td>\n",
       "      <td>0</td>\n",
       "      <td>unknown</td>\n",
       "      <td>125000</td>\n",
       "      <td>3</td>\n",
       "      <td>petrol</td>\n",
       "      <td>opel</td>\n",
       "      <td>unknown</td>\n",
       "      <td>2016-03-31 00:00:00</td>\n",
       "      <td>0</td>\n",
       "      <td>41470</td>\n",
       "      <td>2016-04-06 14:18:04</td>\n",
       "    </tr>\n",
       "    <tr>\n",
       "      <th>354346</th>\n",
       "      <td>2016-03-07 17:06:35</td>\n",
       "      <td>2600</td>\n",
       "      <td>sedan</td>\n",
       "      <td>2005</td>\n",
       "      <td>auto</td>\n",
       "      <td>0</td>\n",
       "      <td>c_klasse</td>\n",
       "      <td>150000</td>\n",
       "      <td>9</td>\n",
       "      <td>petrol</td>\n",
       "      <td>mercedes_benz</td>\n",
       "      <td>unknown</td>\n",
       "      <td>2016-03-07 00:00:00</td>\n",
       "      <td>0</td>\n",
       "      <td>61169</td>\n",
       "      <td>2016-03-08 21:28:38</td>\n",
       "    </tr>\n",
       "    <tr>\n",
       "      <th>354363</th>\n",
       "      <td>2016-03-27 20:36:20</td>\n",
       "      <td>1150</td>\n",
       "      <td>bus</td>\n",
       "      <td>2000</td>\n",
       "      <td>manual</td>\n",
       "      <td>0</td>\n",
       "      <td>zafira</td>\n",
       "      <td>150000</td>\n",
       "      <td>3</td>\n",
       "      <td>petrol</td>\n",
       "      <td>opel</td>\n",
       "      <td>no</td>\n",
       "      <td>2016-03-27 00:00:00</td>\n",
       "      <td>0</td>\n",
       "      <td>26624</td>\n",
       "      <td>2016-03-29 10:17:23</td>\n",
       "    </tr>\n",
       "    <tr>\n",
       "      <th>354364</th>\n",
       "      <td>2016-03-21 09:50:58</td>\n",
       "      <td>0</td>\n",
       "      <td>sedan</td>\n",
       "      <td>2005</td>\n",
       "      <td>manual</td>\n",
       "      <td>0</td>\n",
       "      <td>colt</td>\n",
       "      <td>150000</td>\n",
       "      <td>7</td>\n",
       "      <td>petrol</td>\n",
       "      <td>mitsubishi</td>\n",
       "      <td>yes</td>\n",
       "      <td>2016-03-21 00:00:00</td>\n",
       "      <td>0</td>\n",
       "      <td>2694</td>\n",
       "      <td>2016-03-21 10:42:49</td>\n",
       "    </tr>\n",
       "    <tr>\n",
       "      <th>354365</th>\n",
       "      <td>2016-03-14 17:48:27</td>\n",
       "      <td>2200</td>\n",
       "      <td>sedan</td>\n",
       "      <td>2005</td>\n",
       "      <td>manual</td>\n",
       "      <td>0</td>\n",
       "      <td>unknown</td>\n",
       "      <td>20000</td>\n",
       "      <td>1</td>\n",
       "      <td>petrol</td>\n",
       "      <td>sonstige_autos</td>\n",
       "      <td>unknown</td>\n",
       "      <td>2016-03-14 00:00:00</td>\n",
       "      <td>0</td>\n",
       "      <td>39576</td>\n",
       "      <td>2016-04-06 00:46:52</td>\n",
       "    </tr>\n",
       "  </tbody>\n",
       "</table>\n",
       "<p>40225 rows × 16 columns</p>\n",
       "</div>"
      ],
      "text/plain": [
       "                DateCrawled  Price VehicleType  RegistrationYear Gearbox  \\\n",
       "0       2016-03-24 11:52:17    480       sedan              1993  manual   \n",
       "15      2016-03-11 21:39:15    450       small              1910  manual   \n",
       "32      2016-03-15 20:59:01    245       sedan              1994  manual   \n",
       "37      2016-03-28 17:50:15   1500         bus              2016  manual   \n",
       "40      2016-03-26 22:06:17      0       small              1990  manual   \n",
       "...                     ...    ...         ...               ...     ...   \n",
       "354338  2016-03-31 19:52:33    180       small              1995  manual   \n",
       "354346  2016-03-07 17:06:35   2600       sedan              2005    auto   \n",
       "354363  2016-03-27 20:36:20   1150         bus              2000  manual   \n",
       "354364  2016-03-21 09:50:58      0       sedan              2005  manual   \n",
       "354365  2016-03-14 17:48:27   2200       sedan              2005  manual   \n",
       "\n",
       "        Power     Model  Kilometer  RegistrationMonth  FuelType  \\\n",
       "0           0      golf     150000                  0    petrol   \n",
       "15          0        ka       5000                  0    petrol   \n",
       "32          0      golf     150000                  2    petrol   \n",
       "37          0    kangoo     150000                  1  gasoline   \n",
       "40          0     corsa     150000                  1    petrol   \n",
       "...       ...       ...        ...                ...       ...   \n",
       "354338      0   unknown     125000                  3    petrol   \n",
       "354346      0  c_klasse     150000                  9    petrol   \n",
       "354363      0    zafira     150000                  3    petrol   \n",
       "354364      0      colt     150000                  7    petrol   \n",
       "354365      0   unknown      20000                  1    petrol   \n",
       "\n",
       "                 Brand NotRepaired          DateCreated  NumberOfPictures  \\\n",
       "0           volkswagen     unknown  2016-03-24 00:00:00                 0   \n",
       "15                ford     unknown  2016-03-11 00:00:00                 0   \n",
       "32          volkswagen          no  2016-03-15 00:00:00                 0   \n",
       "37             renault          no  2016-03-28 00:00:00                 0   \n",
       "40                opel     unknown  2016-03-26 00:00:00                 0   \n",
       "...                ...         ...                  ...               ...   \n",
       "354338            opel     unknown  2016-03-31 00:00:00                 0   \n",
       "354346   mercedes_benz     unknown  2016-03-07 00:00:00                 0   \n",
       "354363            opel          no  2016-03-27 00:00:00                 0   \n",
       "354364      mitsubishi         yes  2016-03-21 00:00:00                 0   \n",
       "354365  sonstige_autos     unknown  2016-03-14 00:00:00                 0   \n",
       "\n",
       "        PostalCode             LastSeen  \n",
       "0            70435  2016-04-07 03:16:57  \n",
       "15           24148  2016-03-19 08:46:47  \n",
       "32           44145  2016-03-17 18:17:43  \n",
       "37           46483  2016-03-30 09:18:02  \n",
       "40           56412  2016-03-27 17:43:34  \n",
       "...            ...                  ...  \n",
       "354338       41470  2016-04-06 14:18:04  \n",
       "354346       61169  2016-03-08 21:28:38  \n",
       "354363       26624  2016-03-29 10:17:23  \n",
       "354364        2694  2016-03-21 10:42:49  \n",
       "354365       39576  2016-04-06 00:46:52  \n",
       "\n",
       "[40225 rows x 16 columns]"
      ]
     },
     "execution_count": 22,
     "metadata": {},
     "output_type": "execute_result"
    }
   ],
   "source": [
    "autos_df.query('Power == 0')"
   ]
  },
  {
   "cell_type": "markdown",
   "id": "cd96e294",
   "metadata": {},
   "source": [
    "Судя по ценам и пробегам, вполне возможно, что данные автомобили продаются на запчасти без двигателя.  \n",
    "Проверим, какое значение мощности отделяет 99% всех автомобилей от оставшегося 1%."
   ]
  },
  {
   "cell_type": "code",
   "execution_count": 23,
   "id": "fc4bf507",
   "metadata": {},
   "outputs": [
    {
     "data": {
      "text/plain": [
       "300.0"
      ]
     },
     "execution_count": 23,
     "metadata": {},
     "output_type": "execute_result"
    }
   ],
   "source": [
    "autos_df['Power'].quantile(0.99)"
   ]
  },
  {
   "cell_type": "markdown",
   "id": "d34e40f8",
   "metadata": {},
   "source": [
    "Заменим значения мощности больше 300 л.с. на медианные для соответствующего производителя и модели автомобиля."
   ]
  },
  {
   "cell_type": "code",
   "execution_count": 15,
   "id": "9ac26bf7",
   "metadata": {},
   "outputs": [
    {
     "name": "stdout",
     "output_type": "stream",
     "text": [
      "В столбце \"Power\" осталось 0 пропущенных значений.\n",
      "Wall time: 1min 32s\n"
     ]
    }
   ],
   "source": [
    "%%time\n",
    "autos_df.loc[autos_df['Power'] > 300, 'Power'] = np.nan\n",
    "fillna_using_filter(df=autos_df, col_to_fill='Power', cols_to_filter=['Model', 'Brand'], fill_with='median')"
   ]
  },
  {
   "cell_type": "markdown",
   "id": "2feb98e1",
   "metadata": {},
   "source": [
    "Рассмотрим дату создания анкеты. Скорее всего, как и в случае с датой выгрузки, этот признак не связан с ценой на автомобиль, например, в один и тот же день может быть выложена анкета со старым автомобилем и новым такой же модели, тогда цена будет разная, а дата одна, и наоборот - в разные даты одна и та же модель."
   ]
  },
  {
   "cell_type": "code",
   "execution_count": 26,
   "id": "9807e084",
   "metadata": {},
   "outputs": [
    {
     "data": {
      "text/plain": [
       "array([2016, 2015, 2014], dtype=int64)"
      ]
     },
     "execution_count": 26,
     "metadata": {},
     "output_type": "execute_result"
    }
   ],
   "source": [
    "pd.to_datetime(autos_df['DateCreated'], format='%Y-%m-%d %H:%M:%S').dt.year.unique()"
   ]
  },
  {
   "cell_type": "markdown",
   "id": "d6e028ea",
   "metadata": {},
   "source": [
    "То же самое, вероятно, и с датой последнего просмотра."
   ]
  },
  {
   "cell_type": "code",
   "execution_count": 27,
   "id": "2fd5fc89",
   "metadata": {},
   "outputs": [
    {
     "data": {
      "text/plain": [
       "array([2016], dtype=int64)"
      ]
     },
     "execution_count": 27,
     "metadata": {},
     "output_type": "execute_result"
    }
   ],
   "source": [
    "pd.to_datetime(autos_df['LastSeen'], format='%Y-%m-%d %H:%M:%S').dt.year.unique()"
   ]
  },
  {
   "cell_type": "markdown",
   "id": "68dc7aa0",
   "metadata": {},
   "source": [
    "Таким образом, мы выяснили, что даты наиболее вероятно никак не влияют на цену автомобиля, а значит, не должны быть включены в признаки для обучения.\n",
    "\n",
    "Теперь осталось проанализировать околонулевые значения цен. Выведем распределения цен меньше 500 евро."
   ]
  },
  {
   "cell_type": "code",
   "execution_count": 28,
   "id": "937bd37b",
   "metadata": {
    "scrolled": true
   },
   "outputs": [
    {
     "data": {
      "text/plain": [
       "<matplotlib.axes._subplots.AxesSubplot at 0x3455ec5a30>"
      ]
     },
     "execution_count": 28,
     "metadata": {},
     "output_type": "execute_result"
    },
    {
     "data": {
      "image/png": "[encoded data removed]",
      "text/plain": [
       "<Figure size 1152x288 with 1 Axes>"
      ]
     },
     "metadata": {
      "needs_background": "light"
     },
     "output_type": "display_data"
    }
   ],
   "source": [
    "plt.figure(figsize=(16, 4))\n",
    "sns.violinplot(autos_df.query('Price < 500')['Price'])"
   ]
  },
  {
   "cell_type": "code",
   "execution_count": 29,
   "id": "b640afc8",
   "metadata": {},
   "outputs": [
    {
     "data": {
      "text/plain": [
       "3.757100649323163"
      ]
     },
     "execution_count": 29,
     "metadata": {},
     "output_type": "execute_result"
    }
   ],
   "source": [
    "autos_df.query('Price < 100')['Price'].count() / len(autos_df) * 100"
   ]
  },
  {
   "cell_type": "markdown",
   "id": "e5aaa64e",
   "metadata": {},
   "source": [
    "Возможно, есть какая-то логика в анкетах с очень низкими ценами на автомобили, тогда все записи в датафрейме на своих местах, тем более таких анкет около 4%."
   ]
  },
  {
   "cell_type": "code",
   "execution_count": 16,
   "id": "78b23727",
   "metadata": {},
   "outputs": [],
   "source": [
    "# Для ускорения работы на данном шаге выгрузил предобработанный датафрейм.\n",
    "# autos_df.to_csv('autos_preprocessed.csv', index=False)\n",
    "# autos_df = pd.read_csv('autos_preprocessed.csv', sep=None, engine='python')"
   ]
  },
  {
   "cell_type": "markdown",
   "id": "4f9337f6",
   "metadata": {},
   "source": [
    "### Вывод\n",
    "\n",
    "* По итогам анализа признаков было принято решение удалить признаки, содержащие даты, как не связанные с ценой либо вводящие в заблуждение.\n",
    "* Аномальные значения мощности больше 300 л.с. заменены на медианные для соответствующего производителя и модели автомобиля.\n",
    "* Аномально низкие значения цены оставлены, так как была предположена реальность таких анкет."
   ]
  },
  {
   "cell_type": "markdown",
   "id": "88fbce4c",
   "metadata": {},
   "source": [
    "## Отбор признаков"
   ]
  },
  {
   "cell_type": "markdown",
   "id": "bdbaed64",
   "metadata": {},
   "source": [
    "Удалим ненужные столбцы из датафрейма и выведем оставшиеся признаки."
   ]
  },
  {
   "cell_type": "code",
   "execution_count": 17,
   "id": "b1487303",
   "metadata": {},
   "outputs": [
    {
     "data": {
      "text/plain": [
       "Index(['Price', 'VehicleType', 'RegistrationYear', 'Gearbox', 'Power', 'Model',\n",
       "       'Kilometer', 'FuelType', 'Brand', 'NotRepaired', 'PostalCode'],\n",
       "      dtype='object')"
      ]
     },
     "execution_count": 17,
     "metadata": {},
     "output_type": "execute_result"
    }
   ],
   "source": [
    "cols_to_drop = ['DateCrawled', 'RegistrationMonth', 'DateCreated', 'NumberOfPictures', 'LastSeen']\n",
    "autos_prepared_df = autos_df.drop(columns=cols_to_drop)\n",
    "autos_prepared_df.columns"
   ]
  },
  {
   "cell_type": "markdown",
   "id": "cc63dc74",
   "metadata": {},
   "source": [
    "Объединим производителя и модель автомобиля в один признак."
   ]
  },
  {
   "cell_type": "code",
   "execution_count": 18,
   "id": "b336514f",
   "metadata": {},
   "outputs": [
    {
     "data": {
      "text/html": [
       "<div>\n",
       "<style scoped>\n",
       "    .dataframe tbody tr th:only-of-type {\n",
       "        vertical-align: middle;\n",
       "    }\n",
       "\n",
       "    .dataframe tbody tr th {\n",
       "        vertical-align: top;\n",
       "    }\n",
       "\n",
       "    .dataframe thead th {\n",
       "        text-align: right;\n",
       "    }\n",
       "</style>\n",
       "<table border=\"1\" class=\"dataframe\">\n",
       "  <thead>\n",
       "    <tr style=\"text-align: right;\">\n",
       "      <th></th>\n",
       "      <th>Price</th>\n",
       "      <th>VehicleType</th>\n",
       "      <th>RegistrationYear</th>\n",
       "      <th>Gearbox</th>\n",
       "      <th>Power</th>\n",
       "      <th>Kilometer</th>\n",
       "      <th>FuelType</th>\n",
       "      <th>NotRepaired</th>\n",
       "      <th>PostalCode</th>\n",
       "      <th>BrandModel</th>\n",
       "    </tr>\n",
       "  </thead>\n",
       "  <tbody>\n",
       "    <tr>\n",
       "      <th>0</th>\n",
       "      <td>480</td>\n",
       "      <td>sedan</td>\n",
       "      <td>1993.0</td>\n",
       "      <td>manual</td>\n",
       "      <td>0.0</td>\n",
       "      <td>150000</td>\n",
       "      <td>petrol</td>\n",
       "      <td>unknown</td>\n",
       "      <td>70435</td>\n",
       "      <td>volkswagen golf</td>\n",
       "    </tr>\n",
       "    <tr>\n",
       "      <th>1</th>\n",
       "      <td>18300</td>\n",
       "      <td>coupe</td>\n",
       "      <td>2011.0</td>\n",
       "      <td>manual</td>\n",
       "      <td>190.0</td>\n",
       "      <td>125000</td>\n",
       "      <td>gasoline</td>\n",
       "      <td>yes</td>\n",
       "      <td>66954</td>\n",
       "      <td>audi unknown</td>\n",
       "    </tr>\n",
       "    <tr>\n",
       "      <th>2</th>\n",
       "      <td>9800</td>\n",
       "      <td>suv</td>\n",
       "      <td>2004.0</td>\n",
       "      <td>auto</td>\n",
       "      <td>163.0</td>\n",
       "      <td>125000</td>\n",
       "      <td>gasoline</td>\n",
       "      <td>unknown</td>\n",
       "      <td>90480</td>\n",
       "      <td>jeep grand</td>\n",
       "    </tr>\n",
       "    <tr>\n",
       "      <th>3</th>\n",
       "      <td>1500</td>\n",
       "      <td>small</td>\n",
       "      <td>2001.0</td>\n",
       "      <td>manual</td>\n",
       "      <td>75.0</td>\n",
       "      <td>150000</td>\n",
       "      <td>petrol</td>\n",
       "      <td>no</td>\n",
       "      <td>91074</td>\n",
       "      <td>volkswagen golf</td>\n",
       "    </tr>\n",
       "    <tr>\n",
       "      <th>4</th>\n",
       "      <td>3600</td>\n",
       "      <td>small</td>\n",
       "      <td>2008.0</td>\n",
       "      <td>manual</td>\n",
       "      <td>69.0</td>\n",
       "      <td>90000</td>\n",
       "      <td>gasoline</td>\n",
       "      <td>no</td>\n",
       "      <td>60437</td>\n",
       "      <td>skoda fabia</td>\n",
       "    </tr>\n",
       "  </tbody>\n",
       "</table>\n",
       "</div>"
      ],
      "text/plain": [
       "   Price VehicleType  RegistrationYear Gearbox  Power  Kilometer  FuelType  \\\n",
       "0    480       sedan            1993.0  manual    0.0     150000    petrol   \n",
       "1  18300       coupe            2011.0  manual  190.0     125000  gasoline   \n",
       "2   9800         suv            2004.0    auto  163.0     125000  gasoline   \n",
       "3   1500       small            2001.0  manual   75.0     150000    petrol   \n",
       "4   3600       small            2008.0  manual   69.0      90000  gasoline   \n",
       "\n",
       "  NotRepaired  PostalCode       BrandModel  \n",
       "0     unknown       70435  volkswagen golf  \n",
       "1         yes       66954     audi unknown  \n",
       "2     unknown       90480       jeep grand  \n",
       "3          no       91074  volkswagen golf  \n",
       "4          no       60437      skoda fabia  "
      ]
     },
     "execution_count": 18,
     "metadata": {},
     "output_type": "execute_result"
    }
   ],
   "source": [
    "autos_prepared_df['BrandModel'] = autos_prepared_df['Brand'] + ' ' + autos_prepared_df['Model']\n",
    "autos_prepared_df.drop(columns=['Brand', 'Model'], inplace=True)\n",
    "autos_prepared_df.head()"
   ]
  },
  {
   "cell_type": "markdown",
   "id": "d4d1d5d6",
   "metadata": {},
   "source": [
    "Запишем в отдельные переменные категориальные и количественные признаки."
   ]
  },
  {
   "cell_type": "code",
   "execution_count": 19,
   "id": "87c25aab",
   "metadata": {},
   "outputs": [
    {
     "data": {
      "text/plain": [
       "['VehicleType', 'Gearbox', 'FuelType', 'NotRepaired', 'BrandModel']"
      ]
     },
     "execution_count": 19,
     "metadata": {},
     "output_type": "execute_result"
    }
   ],
   "source": [
    "categorical_features = autos_prepared_df.dtypes[autos_prepared_df.dtypes == 'object'].index.to_list()\n",
    "categorical_features"
   ]
  },
  {
   "cell_type": "code",
   "execution_count": 20,
   "id": "cfb76b4b",
   "metadata": {},
   "outputs": [
    {
     "data": {
      "text/plain": [
       "['RegistrationYear', 'Power', 'Kilometer', 'PostalCode']"
      ]
     },
     "execution_count": 20,
     "metadata": {},
     "output_type": "execute_result"
    }
   ],
   "source": [
    "numeric_features = autos_prepared_df.dtypes[autos_prepared_df.dtypes != 'object'].drop('Price').index.to_list()\n",
    "numeric_features"
   ]
  },
  {
   "cell_type": "markdown",
   "id": "d8177a89",
   "metadata": {},
   "source": [
    "Приведём тип категориальных признаков к типу *'category'*."
   ]
  },
  {
   "cell_type": "code",
   "execution_count": 21,
   "id": "ce1795d6",
   "metadata": {},
   "outputs": [
    {
     "data": {
      "text/plain": [
       "Price                  int64\n",
       "VehicleType         category\n",
       "RegistrationYear     float64\n",
       "Gearbox             category\n",
       "Power                float64\n",
       "Kilometer              int64\n",
       "FuelType            category\n",
       "NotRepaired         category\n",
       "PostalCode             int64\n",
       "BrandModel          category\n",
       "dtype: object"
      ]
     },
     "execution_count": 21,
     "metadata": {},
     "output_type": "execute_result"
    }
   ],
   "source": [
    "autos_prepared_df[categorical_features] = autos_prepared_df[categorical_features].astype('category')\n",
    "autos_prepared_df.dtypes"
   ]
  },
  {
   "cell_type": "markdown",
   "id": "06dcebe6",
   "metadata": {},
   "source": [
    "Построим матрицу корреляций количественных признаков для выявления мультиколлинеарности и зависимости целевого признака от регрессоров."
   ]
  },
  {
   "cell_type": "code",
   "execution_count": 22,
   "id": "35a6f8d8",
   "metadata": {},
   "outputs": [
    {
     "data": {
      "image/png": "[encoded data removed]",
      "text/plain": [
       "<Figure size 720x720 with 2 Axes>"
      ]
     },
     "metadata": {
      "needs_background": "light"
     },
     "output_type": "display_data"
    }
   ],
   "source": [
    "corr_matrix = autos_prepared_df.corr()\n",
    "\n",
    "plt.figure(figsize=(10, 10))\n",
    "sns.heatmap(corr_matrix, robust=True, square=True, annot=True)\n",
    "\n",
    "plt.title('Корреляционная матрица количественных признаков')\n",
    "plt.show()"
   ]
  },
  {
   "cell_type": "markdown",
   "id": "2d15213b",
   "metadata": {},
   "source": [
    "Линейной зависимости между регрессорами нет; видна очень слабая связь признака 'PostalCode' и целевого признака.\n",
    "\n",
    "Построим матрицу рассеяния для проверки наличия или отсутствия нелинейных связей."
   ]
  },
  {
   "cell_type": "code",
   "execution_count": 23,
   "id": "7402909f",
   "metadata": {},
   "outputs": [
    {
     "data": {
      "image/png": "[encoded data removed]",
      "text/plain": [
       "<Figure size 720x720 with 25 Axes>"
      ]
     },
     "metadata": {
      "needs_background": "light"
     },
     "output_type": "display_data"
    }
   ],
   "source": [
    "pd.plotting.scatter_matrix(\n",
    "    autos_prepared_df,\n",
    "    alpha=0.3,\n",
    "    figsize=(10, 10)\n",
    ")\n",
    "\n",
    "plt.suptitle('Матрица рассеяния количественных признаков', y=0.9);"
   ]
  },
  {
   "cell_type": "markdown",
   "id": "8bf62ba0",
   "metadata": {},
   "source": [
    "Видно, что значения почтового индекса почти равномерно распределены по признаку цены, поэтому можно с большой долей уверенности полагать, что связь между ценой и почтовым индеском очень слабая или отсутствует. С другой стороны, визуально определима зависимость между годом регистрации и ценой, а также мощьностью и ценой.\n",
    "\n",
    "Теперь проверим наличие связей между категориальными признаками. Здесь применим статистику на основе теста $X^2$ - статистику Крамера (V) с коррекцией Бергсмы-Уичера для уменьшения стремления статистики переоценивать силу связи. Она возвращает силу связи между двумя категориальными признаками в диапазоне от 0 до 1, где 0 - зависимость отсутствует, 1 - максимальная зависимость."
   ]
  },
  {
   "cell_type": "code",
   "execution_count": 24,
   "id": "16c2c1d8",
   "metadata": {
    "scrolled": true
   },
   "outputs": [
    {
     "data": {
      "text/plain": [
       "array([[1.        , 0.21027883, 0.1822984 , 0.07269526, 0.64106151],\n",
       "       [0.21027883, 0.99999093, 0.16326627, 0.05865326, 0.54857301],\n",
       "       [0.1822984 , 0.16326627, 1.        , 0.05605903, 0.25919825],\n",
       "       [0.07269526, 0.05865326, 0.05605903, 1.        , 0.16646043],\n",
       "       [0.64106151, 0.54857301, 0.25919825, 0.16646043, 1.        ]])"
      ]
     },
     "execution_count": 24,
     "metadata": {},
     "output_type": "execute_result"
    }
   ],
   "source": [
    "def cramers_v(confusion_matrix):\n",
    "    \"\"\"\n",
    "    Вычисляет статистику Крамера (V) для категориально-категориальной связи.\n",
    "    Использует коррекцию от Бергсмы и Уичера.\n",
    "    Журнал Корейского Статистического Общества 42 (2013): 323-328.\n",
    "    \n",
    "    Аргументы\n",
    "    ---------\n",
    "    confusion_matrix : array_like\n",
    "        Таблица сопряжённости\n",
    "        \n",
    "    Возвращает\n",
    "    ----------\n",
    "    Значение статистики Крамера (V).\n",
    "    \n",
    "    \"\"\"\n",
    "    chi2 = chi2_contingency(confusion_matrix)[0]\n",
    "    n = confusion_matrix.sum()\n",
    "    phi2 = chi2 / n\n",
    "    r, k = confusion_matrix.shape\n",
    "    phi2corr = max(0, phi2 - ((k-1)*(r-1))/(n-1))\n",
    "    rcorr = r - ((r-1)**2)/(n-1)\n",
    "    kcorr = k - ((k-1)**2)/(n-1)\n",
    "    return np.sqrt(phi2corr / min((kcorr-1), (rcorr-1)))\n",
    "\n",
    "\n",
    "corr_coefs = []\n",
    "\n",
    "for col_i in categorical_features:\n",
    "    corr_coefs_i = []\n",
    "    \n",
    "    for col_j in categorical_features:\n",
    "        \n",
    "        confusion_matrix = pd.crosstab(index=autos_prepared_df[col_i], columns=autos_prepared_df[col_j])\n",
    "        corr_coef = cramers_v(confusion_matrix.values)\n",
    "        \n",
    "        corr_coefs_i.append(corr_coef)\n",
    "        \n",
    "    if corr_coefs_i:\n",
    "        corr_coefs.append(corr_coefs_i)\n",
    "    \n",
    "np.array(corr_coefs)"
   ]
  },
  {
   "cell_type": "markdown",
   "id": "910c014f",
   "metadata": {},
   "source": [
    "Построим матрицу корреляций на основе посчитанных значений статистики Крамера (V)."
   ]
  },
  {
   "cell_type": "code",
   "execution_count": 25,
   "id": "53f61554",
   "metadata": {},
   "outputs": [
    {
     "data": {
      "image/png": "[encoded data removed]",
      "text/plain": [
       "<Figure size 720x720 with 2 Axes>"
      ]
     },
     "metadata": {
      "needs_background": "light"
     },
     "output_type": "display_data"
    }
   ],
   "source": [
    "corr_matrix = pd.DataFrame(corr_coefs, index=categorical_features, columns=categorical_features)\n",
    "\n",
    "plt.figure(figsize=(10, 10))\n",
    "sns.heatmap(corr_matrix, robust=True, square=True, annot=True)\n",
    "\n",
    "plt.title('Корреляционная матрица категориальных данных')\n",
    "plt.show()"
   ]
  },
  {
   "cell_type": "markdown",
   "id": "a31cf208",
   "metadata": {},
   "source": [
    "Как видим, максимальная сила связи 0.64 между принаками **'VehicleType'** и **'BrandModel'**, что не является критичным.\n",
    "\n",
    "Далее оценим силу связи между категориальными и количественными признаками с помощью одностороннего анализа дисперсий (**oneway ANOVA**). Возвращаемое значение F-статистики говорит о силе связи, а значимость влияет на принятие или отвержение нулевой гипотезы, которая в данном случае звучит так: \"Выборки во всех группах взяты из популяций с одинаковыми средними значениями\". Если средние значения групп взяты из популяций с одинаковыми средними значениями, то дисперсия между средними значениями групп должна быть ниже дисперсии выборок, следуя центральной предельной теореме. Следовательно, более высокое соотношение означает, что выборки были взяты из популяций с различными средними значениями, что говорит о зависимости между категориальным и количественным признаком."
   ]
  },
  {
   "cell_type": "code",
   "execution_count": 26,
   "id": "d308d018",
   "metadata": {},
   "outputs": [],
   "source": [
    "fvalues = []\n",
    "pvalues = []\n",
    "numeric_features_ext = numeric_features + ['Price']\n",
    "\n",
    "for cat_col in categorical_features:\n",
    "    fvalues_i = []\n",
    "    pvalues_i = []\n",
    "    for num_col in numeric_features_ext:\n",
    "        series_list = [\n",
    "            autos_prepared_df[autos_prepared_df[cat_col] == value][num_col]\n",
    "            for value in autos_prepared_df[cat_col].unique()\n",
    "        ]\n",
    "        \n",
    "        F, pvalue = f_oneway(*series_list)\n",
    "        \n",
    "        fvalues_i.append(F)\n",
    "        pvalues_i.append(pvalue)\n",
    "        \n",
    "    fvalues.append(fvalues_i)\n",
    "    pvalues.append(pvalues_i)\n",
    "    \n",
    "fvalues_df = pd.DataFrame(fvalues, index=categorical_features, columns=numeric_features_ext)\n",
    "pvalues_df = pd.DataFrame(pvalues, index=categorical_features, columns=numeric_features_ext)"
   ]
  },
  {
   "cell_type": "markdown",
   "id": "93225663",
   "metadata": {},
   "source": [
    "Построим тепловые карты с полученными значениями F-статистики и значимости."
   ]
  },
  {
   "cell_type": "code",
   "execution_count": 27,
   "id": "c69ac8f2",
   "metadata": {},
   "outputs": [
    {
     "data": {
      "image/png": "[encoded data removed]",
      "text/plain": [
       "<Figure size 1152x576 with 4 Axes>"
      ]
     },
     "metadata": {
      "needs_background": "light"
     },
     "output_type": "display_data"
    }
   ],
   "source": [
    "plt.figure(figsize=(16, 8))\n",
    "\n",
    "plt.subplot(121, title='F-score одностороннего теста ANOVA')\n",
    "sns.heatmap(fvalues_df, robust=True, square=True, annot=True)\n",
    "plt.xlabel('Количественные признаки')\n",
    "plt.ylabel('Категориальные признаки')\n",
    "\n",
    "plt.subplot(122, title='P-value одностороннего теста ANOVA')\n",
    "sns.heatmap(pvalues_df, robust=True, square=True, annot=True, vmin=0, vmax=1)\n",
    "plt.xlabel('Количественные признаки')\n",
    "plt.ylabel('Категориальные признаки');"
   ]
  },
  {
   "cell_type": "markdown",
   "id": "c7673043",
   "metadata": {},
   "source": [
    "Очень низкая значимость для всех пар говорит о том, что нулевая гипотеза отвергается и зависимость между признаками есть. Наиболее сильная связь между признаками **'Gearbox'** и **'Power'**. Недостаток теста заключается в том, что он не позволяет определить границы очень сильной и очень слабой связей. Поэтому придётся оставить все категориальные признаки.\n",
    "\n",
    "Удалим из датафрейма признак **'PostalCode'** и сформируем множества регрессоров и целевого признака."
   ]
  },
  {
   "cell_type": "code",
   "execution_count": 28,
   "id": "52fb7cde",
   "metadata": {},
   "outputs": [],
   "source": [
    "features = autos_prepared_df.drop(columns=['Price', 'PostalCode'])\n",
    "numeric_features.remove('PostalCode')\n",
    "\n",
    "target = autos_prepared_df['Price']"
   ]
  },
  {
   "cell_type": "markdown",
   "id": "c10dda43",
   "metadata": {},
   "source": [
    "### Вывод\n",
    "\n",
    "* По результатам предыдущего раздела были удалены признаки: 'DateCrawled', 'RegistrationYear', 'RegistrationMonth', 'DateCreated', 'NumberOfPictures', 'LastSeen'.\n",
    "* Признаки производителя и модели автомобиля объединены в один признак.\n",
    "* Проведён корреляционный анализ количественных признаков, категориальных признаков между собой и связь категориальных признаков с количественными. По итогам анализа был удалён признак 'PostalCode'."
   ]
  },
  {
   "cell_type": "markdown",
   "id": "a1ec6134",
   "metadata": {},
   "source": [
    "## Обучение моделей"
   ]
  },
  {
   "cell_type": "markdown",
   "id": "73ad22db",
   "metadata": {},
   "source": [
    "Разделим множества на обучающее и тестовое в соотношении 4:1."
   ]
  },
  {
   "cell_type": "code",
   "execution_count": 43,
   "id": "8db12578",
   "metadata": {},
   "outputs": [
    {
     "data": {
      "text/plain": [
       "((283495, 8), (70874, 8), (283495,), (70874,))"
      ]
     },
     "execution_count": 43,
     "metadata": {},
     "output_type": "execute_result"
    }
   ],
   "source": [
    "features_train, features_test, target_train, target_test = train_test_split(features, target, test_size=0.2,\n",
    "                                                                            shuffle=True, random_state=RANDOM_STATE)\n",
    "features_train.shape, features_test.shape, target_train.shape, target_test.shape"
   ]
  },
  {
   "cell_type": "markdown",
   "id": "d2c37384",
   "metadata": {},
   "source": [
    "Построим бейслайны линейной регрессии и градиентных бустингов из библиотек *LightGBM* и *CatBoost* по следующему алгоритму:\n",
    "* создадим предобработчик, в котором количественные признаки будут стандартизированы, а категориальные закодированы или оставлены в исходном виде;\n",
    "* создадим конвейер с предобработчиком и самой моделью;\n",
    "* число разбиений для кросс-валидации примем равным 5;\n",
    "* проведём перекрёстную проверку и выведем результаты.\n",
    "\n",
    "Так как обучающий датасет обязательно должен быть или датафреймом pandas, или датафреймом pool из фреймворка CatBoost, то придётся создать класс-костыль, который преобразует numpy-массив в датафрейм pandas и может быть применён внутри конвейера."
   ]
  },
  {
   "cell_type": "code",
   "execution_count": 32,
   "id": "4b2e14fc",
   "metadata": {},
   "outputs": [],
   "source": [
    "class make_dataframe(BaseEstimator, TransformerMixin):\n",
    "    \"\"\"\n",
    "    Класс предназначен для трансформации входного массива в датафрейм (Pandas.DataFrame).\n",
    "    Может быть использован в конвейере (Pipeline).\n",
    "    \n",
    "    Атрибуты\n",
    "    --------\n",
    "    column_names : array-like\n",
    "        Названия столбцов датафрейма.\n",
    "    dtypes : array-like\n",
    "        Типы данных в столбцах.\n",
    "        \n",
    "    Методы\n",
    "    ------\n",
    "    fit(X, y=None)\n",
    "        Возвращает экземпляр класса.\n",
    "    transform(X, y=None)\n",
    "        Возвращает преобразованный в датафрейм входной массив.\n",
    "        Для корректного преобразования массив должен быть одно- или двумерным.\n",
    "    fit_transform(X, y=None)\n",
    "        Вызывает метод transform().\n",
    "    \"\"\"\n",
    "    \n",
    "    def __init__(self, column_names, dtypes):\n",
    "        super().__init__()\n",
    "        self.column_names = column_names\n",
    "        self.dtypes = dtypes\n",
    "    \n",
    "    def fit(self, X, y=None):\n",
    "        return self\n",
    "    \n",
    "    def transform(self, X, y=None):\n",
    "        try:\n",
    "            df = pd.DataFrame(data=X, columns=self.column_names)\n",
    "        except Exception as e:\n",
    "            print(e)\n",
    "            return X\n",
    "        \n",
    "        for col, dtype in zip(self.column_names, self.dtypes):\n",
    "            df[col] = df[col].astype(dtype)\n",
    "            \n",
    "        return df\n",
    "    \n",
    "    def fit_transform(self, X, y=None):\n",
    "        return self.transform(X)"
   ]
  },
  {
   "cell_type": "code",
   "execution_count": 78,
   "id": "4d74717e",
   "metadata": {},
   "outputs": [
    {
     "name": "stdout",
     "output_type": "stream",
     "text": [
      "Линейная регрессия, RMSE = 2832.48\n",
      "Градиентный бустинг LightGBM, RMSE = 1950.20\n",
      "Градиентный бустинг CatBoost, RMSE = 1980.78\n"
     ]
    }
   ],
   "source": [
    "categories = [features[col].unique() for col in categorical_features]\n",
    "\n",
    "preprocessor_1 = ColumnTransformer(\n",
    "    transformers=[\n",
    "        ('num', StandardScaler(), numeric_features),\n",
    "        ('cat', OneHotEncoder(categories=categories, drop='first'), categorical_features)\n",
    "    ],\n",
    "    n_jobs=-1\n",
    ")\n",
    "\n",
    "preprocessor_2 = ColumnTransformer(\n",
    "    transformers=[\n",
    "        ('num', StandardScaler(), numeric_features),\n",
    "        ('cat', OrdinalEncoder(categories=categories), categorical_features)\n",
    "    ],\n",
    "    n_jobs=-1\n",
    ")\n",
    "\n",
    "preprocessor_3 = ColumnTransformer(\n",
    "    transformers=[('num', StandardScaler(), numeric_features)],\n",
    "    remainder='passthrough',\n",
    "    n_jobs=-1\n",
    ")\n",
    "\n",
    "cols = numeric_features + categorical_features\n",
    "dtypes_list = features[numeric_features].dtypes.to_list() + features[categorical_features].dtypes.to_list()\n",
    "\n",
    "pipes_dict = {\n",
    "    'Линейная регрессия': Pipeline(\n",
    "        [\n",
    "            ('preprocessor', preprocessor_1),\n",
    "            ('lin_reg', LinearRegression(n_jobs=-1))\n",
    "        ]\n",
    "    ),\n",
    "    'Градиентный бустинг LightGBM': Pipeline(\n",
    "        [\n",
    "            ('preprocessor', preprocessor_1),\n",
    "            ('lgb_reg', lgb.LGBMRegressor(random_state=RANDOM_STATE))\n",
    "        ]\n",
    "    ),\n",
    "    'Градиентный бустинг CatBoost': Pipeline(\n",
    "        [\n",
    "            ('preprocessor', preprocessor_3),\n",
    "            ('make_df', make_dataframe(column_names=cols, dtypes=dtypes_list)),\n",
    "            ('cat_reg', cbt.CatBoostRegressor(n_estimators=100, min_child_samples=20, cat_features=categorical_features,\n",
    "                                              random_state=RANDOM_STATE, verbose=False))\n",
    "        ]\n",
    "    )\n",
    "}\n",
    "\n",
    "kfold = KFold(n_splits=5, shuffle=True, random_state=RANDOM_STATE)\n",
    "\n",
    "cv_scores_list = [\n",
    "    cross_val_score(\n",
    "        estimator=pipe,\n",
    "        X=features_train,\n",
    "        y=target_train,\n",
    "        scoring=NEG_RMSE,\n",
    "        cv=kfold,\n",
    "        n_jobs=-1\n",
    "    )\n",
    "    for pipe in pipes_dict.values()\n",
    "]\n",
    "        \n",
    "rmse_mean_list = [-cv_scores.mean() for cv_scores in cv_scores_list]\n",
    "for desc, rmse in zip(pipes_dict.keys(), rmse_mean_list):\n",
    "    print('{}, RMSE = {:.2f}'.format(desc, rmse))"
   ]
  },
  {
   "cell_type": "markdown",
   "id": "b4be4e24",
   "metadata": {},
   "source": [
    "Примерно на одном уровне качество градиентных бустингов и лучше почти на треть, чем качество линейной регрессии.\n",
    "\n",
    "Подберём гиперпараметры, чтобы улучщить качество моделей, а также измерим время выполнения. Перебирать будем по случайной сетке, что должно уменьшить время подбора гиперпараметров."
   ]
  },
  {
   "cell_type": "code",
   "execution_count": 70,
   "id": "c7a405d4",
   "metadata": {
    "scrolled": true
   },
   "outputs": [
    {
     "name": "stdout",
     "output_type": "stream",
     "text": [
      "Wall time: 7min 31s\n"
     ]
    },
    {
     "data": {
      "text/plain": [
       "RandomizedSearchCV(cv=KFold(n_splits=5, random_state=17, shuffle=True),\n",
       "                   estimator=Pipeline(steps=[('preprocessor',\n",
       "                                              ColumnTransformer(n_jobs=-1,\n",
       "                                                                transformers=[('num',\n",
       "                                                                               StandardScaler(),\n",
       "                                                                               ['RegistrationYear',\n",
       "                                                                                'Power',\n",
       "                                                                                'Kilometer']),\n",
       "                                                                              ('cat',\n",
       "                                                                               OneHotEncoder(categories=[[sedan, coupe, suv, small, convertible, bus, wagon, other]\n",
       "Categories (8, object): [sedan, coupe, suv, small, con...\n",
       "                                                                                'FuelType',\n",
       "                                                                                'NotRepaired',\n",
       "                                                                                'BrandModel'])])),\n",
       "                                             ('lgb_reg',\n",
       "                                              LGBMRegressor(random_state=17))]),\n",
       "                   n_iter=20, n_jobs=-1,\n",
       "                   param_distributions={'lgb_reg__max_depth': range(5, 13, 2),\n",
       "                                        'lgb_reg__min_child_samples': range(20, 100, 20),\n",
       "                                        'lgb_reg__n_estimators': [200],\n",
       "                                        'lgb_reg__num_leaves': range(30, 120, 20)},\n",
       "                   random_state=17, return_train_score=True,\n",
       "                   scoring='neg_root_mean_squared_error')"
      ]
     },
     "execution_count": 70,
     "metadata": {},
     "output_type": "execute_result"
    }
   ],
   "source": [
    "%%time\n",
    "cv_params = {\n",
    "    'lgb_reg__n_estimators': [200],\n",
    "    'lgb_reg__max_depth': range(5, 13, 2),\n",
    "    'lgb_reg__num_leaves': range(30, 120, 20),\n",
    "    'lgb_reg__min_child_samples': range(20, 100, 20)\n",
    "}\n",
    "\n",
    "lgb_cv = RandomizedSearchCV(\n",
    "    estimator=pipes_dict['Градиентный бустинг LightGBM'],\n",
    "    param_distributions=cv_params,\n",
    "    n_iter=20,\n",
    "    scoring=NEG_RMSE,\n",
    "    n_jobs=-1,\n",
    "    cv=kfold,\n",
    "    random_state=RANDOM_STATE,\n",
    "    return_train_score=True\n",
    ")\n",
    "\n",
    "lgb_cv.fit(features_train, target_train)"
   ]
  },
  {
   "cell_type": "markdown",
   "id": "7d7a986f",
   "metadata": {},
   "source": [
    "Выведем лучшие гиперпараметры."
   ]
  },
  {
   "cell_type": "code",
   "execution_count": 71,
   "id": "735e79e0",
   "metadata": {},
   "outputs": [
    {
     "data": {
      "text/plain": [
       "{'lgb_reg__num_leaves': 90,\n",
       " 'lgb_reg__n_estimators': 200,\n",
       " 'lgb_reg__min_child_samples': 20,\n",
       " 'lgb_reg__max_depth': 11}"
      ]
     },
     "execution_count": 71,
     "metadata": {},
     "output_type": "execute_result"
    }
   ],
   "source": [
    "lgb_cv.best_params_"
   ]
  },
  {
   "cell_type": "markdown",
   "id": "e169f4bb",
   "metadata": {},
   "source": [
    "Выведем результат на кросс-валидации."
   ]
  },
  {
   "cell_type": "code",
   "execution_count": 72,
   "id": "1deb67b8",
   "metadata": {},
   "outputs": [
    {
     "data": {
      "text/plain": [
       "1854.0354774182756"
      ]
     },
     "execution_count": 72,
     "metadata": {},
     "output_type": "execute_result"
    }
   ],
   "source": [
    "-lgb_cv.best_score_"
   ]
  },
  {
   "cell_type": "markdown",
   "id": "da59ce86",
   "metadata": {},
   "source": [
    "Как видно, качество модели выросло почти на 5%.  \n",
    "Выведем результаты при соответствующих гиперпараметрах на тренировочной выборке."
   ]
  },
  {
   "cell_type": "code",
   "execution_count": 73,
   "id": "72cfe8df",
   "metadata": {
    "scrolled": true
   },
   "outputs": [
    {
     "data": {
      "text/plain": [
       "1786.9932898851598"
      ]
     },
     "execution_count": 73,
     "metadata": {},
     "output_type": "execute_result"
    }
   ],
   "source": [
    "-lgb_cv.cv_results_['mean_train_score'][lgb_cv.cv_results_['mean_test_score'] == lgb_cv.best_score_][0]"
   ]
  },
  {
   "cell_type": "markdown",
   "id": "b9073c70",
   "metadata": {},
   "source": [
    "Разница с валидацией составляет около -4%, что говорит о небольшом переобучении, но является приемлемым значением.\n",
    "\n",
    "Повторим действия с градиентным бустингом из фреймворка CatBoost. Сетку значений используем ту же, с добавлением политики роста ('Depthwise' и 'Lossguide'), так как политика роста деревьев 'SymmetricTree' не позволяет работать с некоторыми значениями и гиперпараметрами."
   ]
  },
  {
   "cell_type": "code",
   "execution_count": 81,
   "id": "3f662386",
   "metadata": {
    "scrolled": true
   },
   "outputs": [
    {
     "name": "stdout",
     "output_type": "stream",
     "text": [
      "Wall time: 16min 59s\n"
     ]
    },
    {
     "data": {
      "text/plain": [
       "RandomizedSearchCV(cv=KFold(n_splits=5, random_state=17, shuffle=True),\n",
       "                   estimator=Pipeline(steps=[('preprocessor',\n",
       "                                              ColumnTransformer(n_jobs=-1,\n",
       "                                                                remainder='passthrough',\n",
       "                                                                transformers=[('num',\n",
       "                                                                               StandardScaler(),\n",
       "                                                                               ['RegistrationYear',\n",
       "                                                                                'Power',\n",
       "                                                                                'Kilometer'])])),\n",
       "                                             ('make_df',\n",
       "                                              make_dataframe(column_names=['RegistrationYear',\n",
       "                                                                           'Power',\n",
       "                                                                           'Kilometer',\n",
       "                                                                           'VehicleType',\n",
       "                                                                           'Gearbox',\n",
       "                                                                           '...\n",
       "                                              <catboost.core.CatBoostRegressor object at 0x000000A5289A8BB0>)]),\n",
       "                   n_jobs=-1,\n",
       "                   param_distributions={'cat_reg__grow_policy': ['Depthwise',\n",
       "                                                                 'Lossguide'],\n",
       "                                        'cat_reg__max_depth': range(5, 13, 2),\n",
       "                                        'cat_reg__min_child_samples': range(20, 100, 20),\n",
       "                                        'cat_reg__n_estimators': [200],\n",
       "                                        'cat_reg__num_leaves': range(30, 120, 20)},\n",
       "                   random_state=17, return_train_score=True,\n",
       "                   scoring='neg_root_mean_squared_error')"
      ]
     },
     "execution_count": 81,
     "metadata": {},
     "output_type": "execute_result"
    }
   ],
   "source": [
    "%%time\n",
    "cv_params = {\n",
    "    'cat_reg__n_estimators': [200],\n",
    "    'cat_reg__grow_policy': ['Depthwise', 'Lossguide'],\n",
    "    'cat_reg__max_depth': range(5, 13, 2),\n",
    "    'cat_reg__num_leaves': range(30, 120, 20),\n",
    "    'cat_reg__min_child_samples': range(20, 100, 20)\n",
    "}\n",
    "\n",
    "cbt_cv = RandomizedSearchCV(\n",
    "    estimator=pipes_dict['Градиентный бустинг CatBoost'],\n",
    "    param_distributions=cv_params,\n",
    "    n_iter=10,\n",
    "    scoring=NEG_RMSE,\n",
    "    n_jobs=-1,\n",
    "    cv=kfold,\n",
    "    random_state=RANDOM_STATE,\n",
    "    return_train_score=True\n",
    ")\n",
    "\n",
    "cbt_cv.fit(features_train, target_train)"
   ]
  },
  {
   "cell_type": "markdown",
   "id": "f67e8b00",
   "metadata": {},
   "source": [
    "Выведем лучшие гиперпараметры."
   ]
  },
  {
   "cell_type": "code",
   "execution_count": 82,
   "id": "cbc37c46",
   "metadata": {},
   "outputs": [
    {
     "data": {
      "text/plain": [
       "{'cat_reg__num_leaves': 90,\n",
       " 'cat_reg__n_estimators': 200,\n",
       " 'cat_reg__min_child_samples': 60,\n",
       " 'cat_reg__max_depth': 11,\n",
       " 'cat_reg__grow_policy': 'Lossguide'}"
      ]
     },
     "execution_count": 82,
     "metadata": {},
     "output_type": "execute_result"
    }
   ],
   "source": [
    "cbt_cv.best_params_"
   ]
  },
  {
   "cell_type": "markdown",
   "id": "137c9116",
   "metadata": {},
   "source": [
    "Выведем результат на кросс-валидации."
   ]
  },
  {
   "cell_type": "code",
   "execution_count": 83,
   "id": "31799b97",
   "metadata": {},
   "outputs": [
    {
     "data": {
      "text/plain": [
       "1883.691808575474"
      ]
     },
     "execution_count": 83,
     "metadata": {},
     "output_type": "execute_result"
    }
   ],
   "source": [
    "-cbt_cv.best_score_"
   ]
  },
  {
   "cell_type": "markdown",
   "id": "427c3115",
   "metadata": {},
   "source": [
    "Как видно, качество модели выросло почти на 4.9%.  \n",
    "Выведем результаты при соответствующих гиперпараметрах на тренировочной выборке."
   ]
  },
  {
   "cell_type": "code",
   "execution_count": 84,
   "id": "e6824059",
   "metadata": {
    "scrolled": true
   },
   "outputs": [
    {
     "data": {
      "text/plain": [
       "1701.20864418652"
      ]
     },
     "execution_count": 84,
     "metadata": {},
     "output_type": "execute_result"
    }
   ],
   "source": [
    "-cbt_cv.cv_results_['mean_train_score'][cbt_cv.cv_results_['mean_test_score'] == cbt_cv.best_score_][0]"
   ]
  },
  {
   "cell_type": "markdown",
   "id": "45ec4a72",
   "metadata": {},
   "source": [
    "Разница с валидацией составляет около -9.6%, что говорит о небольшом переобучении, но является приемлемым значением."
   ]
  },
  {
   "cell_type": "markdown",
   "id": "6a4a1a09",
   "metadata": {},
   "source": [
    "### Вывод\n",
    "\n",
    "* Выбраны модели линейной регрессии и градиентного бустинга из двух библиотек: CatBoost и LightGBM.\n",
    "* Модели были обучены с настройками по умолчанию. Измерено качество с помощью кросс-валидации:\n",
    "    * Линейная регрессия, RMSE = 2832.48\n",
    "    * Градиентный бустинг LightGBM, RMSE = 1950.20\n",
    "    * Градиентный бустинг CatBoost, RMSE = 1980.78\n",
    "* Проведён подбор гиперпараметров с помощью поиска по случайной сетке.\n",
    "* Лучшие гиперпараметры:\n",
    "    * Градиентный бустинг LightGBM:\n",
    "        * максимальное число листьев: 90,\n",
    "        * число деревьев: 200,\n",
    "        * минимальное число объектов на листе: 20,\n",
    "        * максимальная глубина дерева: 11.\n",
    "     * Градиентный бустинг CatBoost:\n",
    "        * максимальное число листьев: 90,\n",
    "        * число деревьев: 200,\n",
    "        * минимальное число объектов на листе: 60,\n",
    "        * максимальная глубина дерева: 11,\n",
    "        * политика роста дерева: \"лист за листом\".\n",
    "* Качество моделей после настройки:\n",
    "    * градиентный бустинг LightGBM, RMSE = 1854.04 (**-4.9**%)\n",
    "    * градиентный бустинг CatBoost, RMSE = 1883.69 (**-4.9**%)"
   ]
  },
  {
   "cell_type": "markdown",
   "id": "36e0c992",
   "metadata": {},
   "source": [
    "## Анализ моделей"
   ]
  },
  {
   "cell_type": "markdown",
   "id": "8d074c7d",
   "metadata": {},
   "source": [
    "Проанализируем время обучения и прогнозирования моделей."
   ]
  },
  {
   "cell_type": "code",
   "execution_count": 91,
   "id": "d76a2deb",
   "metadata": {},
   "outputs": [
    {
     "data": {
      "text/plain": [
       "('lgb_reg', LGBMRegressor(random_state=17))"
      ]
     },
     "execution_count": 91,
     "metadata": {},
     "output_type": "execute_result"
    }
   ],
   "source": [
    "pipes_dict['Градиентный бустинг LightGBM'].steps[-1]"
   ]
  },
  {
   "cell_type": "code",
   "execution_count": 96,
   "id": "384cb797",
   "metadata": {
    "scrolled": true
   },
   "outputs": [
    {
     "name": "stdout",
     "output_type": "stream",
     "text": [
      "Wall time: 3.72 s\n"
     ]
    },
    {
     "data": {
      "text/plain": [
       "Pipeline(steps=[('preprocessor',\n",
       "                 ColumnTransformer(n_jobs=-1,\n",
       "                                   transformers=[('num', StandardScaler(),\n",
       "                                                  ['RegistrationYear', 'Power',\n",
       "                                                   'Kilometer']),\n",
       "                                                 ('cat',\n",
       "                                                  OneHotEncoder(categories=[[sedan, coupe, suv, small, convertible, bus, wagon, other]\n",
       "Categories (8, object): [sedan, coupe, suv, small, convertible, bus, wagon, other],\n",
       "                                                                            [manual, auto]\n",
       "Categories (2, object): [manual, auto],\n",
       "                                                                            [petr...\n",
       "                                                                            [volkswagen golf, audi unknown, jeep grand, skoda fabia, bmw 3er, ..., lancia kappa, rover freelander, land_rover serie_3, land_rover serie_1, rover defender]\n",
       "Length: 337\n",
       "Categories (337, object): [volkswagen golf, audi unknown, jeep grand, skoda fabia, ..., rover freelander, land_rover serie_3, land_rover serie_1, rover defender]],\n",
       "                                                                drop='first'),\n",
       "                                                  ['VehicleType', 'Gearbox',\n",
       "                                                   'FuelType', 'NotRepaired',\n",
       "                                                   'BrandModel'])])),\n",
       "                ('lgb_reg',\n",
       "                 LGBMRegressor(max_depth=11, n_estimators=200, num_leaves=90,\n",
       "                               random_state=17))])"
      ]
     },
     "execution_count": 96,
     "metadata": {},
     "output_type": "execute_result"
    }
   ],
   "source": [
    "%%time\n",
    "params = {\n",
    "    'lgb_reg__n_estimators': 200,\n",
    "    'lgb_reg__max_depth': 11,\n",
    "    'lgb_reg__num_leaves': 90,\n",
    "    'lgb_reg__min_child_samples': 20\n",
    "}\n",
    "\n",
    "lgb_pipe = pipes_dict['Градиентный бустинг LightGBM'].set_params(**params)\n",
    "\n",
    "lgb_pipe.fit(features_train, target_train)"
   ]
  },
  {
   "cell_type": "code",
   "execution_count": 97,
   "id": "8bbf68b8",
   "metadata": {
    "scrolled": true
   },
   "outputs": [
    {
     "name": "stdout",
     "output_type": "stream",
     "text": [
      "Градиентный бустинг LightGBM, RMSE = 1831.716\n",
      "Wall time: 971 ms\n"
     ]
    }
   ],
   "source": [
    "%%time\n",
    "predictions = lgb_pipe.predict(features_test)\n",
    "lgb_rmse = mean_squared_error(target_test, predictions, squared=False)\n",
    "print('Градиентный бустинг LightGBM, RMSE = {:.3f}'.format(lgb_rmse))"
   ]
  },
  {
   "cell_type": "code",
   "execution_count": 101,
   "id": "b3c65362",
   "metadata": {
    "scrolled": true
   },
   "outputs": [
    {
     "name": "stdout",
     "output_type": "stream",
     "text": [
      "Wall time: 1min 1s\n"
     ]
    },
    {
     "data": {
      "text/plain": [
       "Pipeline(steps=[('preprocessor',\n",
       "                 ColumnTransformer(n_jobs=-1, remainder='passthrough',\n",
       "                                   transformers=[('num', StandardScaler(),\n",
       "                                                  ['RegistrationYear', 'Power',\n",
       "                                                   'Kilometer'])])),\n",
       "                ('make_df',\n",
       "                 make_dataframe(column_names=['RegistrationYear', 'Power',\n",
       "                                              'Kilometer', 'VehicleType',\n",
       "                                              'Gearbox', 'FuelType',\n",
       "                                              'NotRepaired', 'BrandModel'],\n",
       "                                dtypes=[dtype('float64'), dtype('float64')...\n",
       "                                        CategoricalDtype(categories=['alfa_romeo 145', 'alfa_romeo 147', 'alfa_romeo 156',\n",
       "                  'alfa_romeo 159', 'alfa_romeo other', 'alfa_romeo spider',\n",
       "                  'alfa_romeo unknown', 'audi 100', 'audi 200', 'audi 80',\n",
       "                  ...\n",
       "                  'volvo 850', 'volvo c_reihe', 'volvo other', 'volvo s60',\n",
       "                  'volvo unknown', 'volvo v40', 'volvo v50', 'volvo v60',\n",
       "                  'volvo v70', 'volvo xc_reihe'],\n",
       "                 ordered=False)])),\n",
       "                ('cat_reg',\n",
       "                 <catboost.core.CatBoostRegressor object at 0x000000A5289A8BB0>)])"
      ]
     },
     "execution_count": 101,
     "metadata": {},
     "output_type": "execute_result"
    }
   ],
   "source": [
    "%%time\n",
    "params = {\n",
    "    'cat_reg__n_estimators': 200,\n",
    "    'cat_reg__max_depth': 11,\n",
    "    'cat_reg__num_leaves': 90,\n",
    "    'cat_reg__min_child_samples': 60,\n",
    "    'cat_reg__grow_policy': 'Lossguide'\n",
    "}\n",
    "\n",
    "cat_pipe = pipes_dict['Градиентный бустинг CatBoost'].set_params(**params)\n",
    "\n",
    "cat_pipe.fit(features_train, target_train)"
   ]
  },
  {
   "cell_type": "code",
   "execution_count": 103,
   "id": "ac1d4579",
   "metadata": {},
   "outputs": [
    {
     "name": "stdout",
     "output_type": "stream",
     "text": [
      "Градиентный бустинг CatBoost, RMSE = 1856.389\n",
      "Wall time: 586 ms\n"
     ]
    }
   ],
   "source": [
    "%%time\n",
    "predictions = cat_pipe.predict(features_test)\n",
    "cat_rmse = mean_squared_error(target_test, predictions, squared=False)\n",
    "print('Градиентный бустинг CatBoost, RMSE = {:.3f}'.format(cat_rmse))"
   ]
  },
  {
   "cell_type": "code",
   "execution_count": 104,
   "id": "ed391945",
   "metadata": {
    "scrolled": true
   },
   "outputs": [
    {
     "name": "stdout",
     "output_type": "stream",
     "text": [
      "Wall time: 7.62 s\n"
     ]
    },
    {
     "data": {
      "text/plain": [
       "Pipeline(steps=[('preprocessor',\n",
       "                 ColumnTransformer(n_jobs=-1,\n",
       "                                   transformers=[('num', StandardScaler(),\n",
       "                                                  ['RegistrationYear', 'Power',\n",
       "                                                   'Kilometer']),\n",
       "                                                 ('cat',\n",
       "                                                  OneHotEncoder(categories=[[sedan, coupe, suv, small, convertible, bus, wagon, other]\n",
       "Categories (8, object): [sedan, coupe, suv, small, convertible, bus, wagon, other],\n",
       "                                                                            [manual, auto]\n",
       "Categories (2, object): [manual, auto],\n",
       "                                                                            [petr...\n",
       "                                                                            [volkswagen golf, audi unknown, jeep grand, skoda fabia, bmw 3er, ..., lancia kappa, rover freelander, land_rover serie_3, land_rover serie_1, rover defender]\n",
       "Length: 337\n",
       "Categories (337, object): [volkswagen golf, audi unknown, jeep grand, skoda fabia, ..., rover freelander, land_rover serie_3, land_rover serie_1, rover defender]],\n",
       "                                                                drop='first'),\n",
       "                                                  ['VehicleType', 'Gearbox',\n",
       "                                                   'FuelType', 'NotRepaired',\n",
       "                                                   'BrandModel'])])),\n",
       "                ('lin_reg', LinearRegression(n_jobs=-1))])"
      ]
     },
     "execution_count": 104,
     "metadata": {},
     "output_type": "execute_result"
    }
   ],
   "source": [
    "%%time\n",
    "lin_pipe = pipes_dict['Линейная регрессия']\n",
    "\n",
    "lin_pipe.fit(features_train, target_train)"
   ]
  },
  {
   "cell_type": "code",
   "execution_count": 105,
   "id": "2031c790",
   "metadata": {},
   "outputs": [
    {
     "name": "stdout",
     "output_type": "stream",
     "text": [
      "Линейная регрессия, RMSE = 2829.405\n",
      "Wall time: 1.17 s\n"
     ]
    }
   ],
   "source": [
    "%%time\n",
    "predictions = lin_pipe.predict(features_test)\n",
    "lin_rmse = mean_squared_error(target_test, predictions, squared=False)\n",
    "print('Линейная регрессия, RMSE = {:.3f}'.format(lin_rmse))"
   ]
  },
  {
   "cell_type": "markdown",
   "id": "9a0b45c1",
   "metadata": {},
   "source": [
    "Таким образом, быстрее всех из выбранных моделей обучается бустинг LightGBM, прогнозирует - бустинг CatBoost (однако \"горячее\" кодирование серьёзно влияет на время процессов). CatBoostRegressor обучается больше минуты, но почти в два раза быстрее LightGBM строит прогноз. Прогноз модели строят за время порядка 1 секунды.\n",
    "\n",
    "Проверим дополнительно полученные модели на адекватность: обучим фиктивную модель регрессии по двум стратегиям (среднее и медиана)."
   ]
  },
  {
   "cell_type": "code",
   "execution_count": 106,
   "id": "54981798",
   "metadata": {},
   "outputs": [],
   "source": [
    "strategy = ['mean', 'median']\n",
    "dum_pipes = [Pipeline([('preprocessor', preprocessor_1), ('dum_reg', DummyRegressor(strategy=s))]) for s in strategy]\n",
    "\n",
    "[dum_pipe.fit(features_train, target_train) for dum_pipe in dum_pipes]\n",
    "\n",
    "predictions_list = [dum_pipe.predict(features_test) for dum_pipe in dum_pipes]\n",
    "dum_rmse_list = [mean_squared_error(target_test, predictions, squared=False) for predictions in predictions_list]"
   ]
  },
  {
   "cell_type": "markdown",
   "id": "e57bedf5",
   "metadata": {},
   "source": [
    "Построим график, чтобы понять наверняка: адекватны ли модели или нет."
   ]
  },
  {
   "cell_type": "code",
   "execution_count": 111,
   "id": "68487661",
   "metadata": {
    "scrolled": false
   },
   "outputs": [
    {
     "data": {
      "image/png": "[encoded data removed]",
      "text/plain": [
       "<Figure size 864x576 with 1 Axes>"
      ]
     },
     "metadata": {
      "needs_background": "light"
     },
     "output_type": "display_data"
    }
   ],
   "source": [
    "rmse_array = np.array([lin_rmse, lgb_rmse, cat_rmse])\n",
    "best_rmse = rmse_array.min()\n",
    "diff_array = (rmse_array - best_rmse) / best_rmse * 100\n",
    "\n",
    "score_df = pd.DataFrame(\n",
    "    {'model': [desc for desc in pipes_dict],\n",
    "     'rmse': rmse_array,\n",
    "     'difference': diff_array\n",
    "    }\n",
    ")\n",
    "\n",
    "plt.figure(figsize=(12, 8))\n",
    "g = sns.barplot(x='model', y='rmse', data=score_df)\n",
    "plt.axhline(y=dum_rmse_list[0], color='y', linestyle='-', label='Фиктивный прогноз по среднему')\n",
    "plt.axhline(y=dum_rmse_list[1], color='r', linestyle='-', label='Фиктивный прогноз по медиане')\n",
    "\n",
    "for index, row in score_df.iterrows():\n",
    "    g.text(x=index, y=row.rmse * 1.05, s=round(row.rmse, 2), color='black', ha='center')\n",
    "    if row.difference > 0:\n",
    "        clr='red'\n",
    "        prefix = '+'\n",
    "    else:\n",
    "        clr='black'\n",
    "        prefix = ''\n",
    "    g.text(x=index+0.2, y=row.rmse * 1.05, s='(' + prefix + str(round(row.difference, 1)) + '%)', color=clr, ha='center')\n",
    "\n",
    "plt.legend(loc=(0.65, 0.75))\n",
    "plt.title('Результаты тестирования моделей и проверка на адекватность')\n",
    "plt.xlabel('Модель')\n",
    "plt.ylabel('RMSE');"
   ]
  },
  {
   "cell_type": "markdown",
   "id": "f719453b",
   "metadata": {},
   "source": [
    "Видно, что все модели показали адекватный результат, лучший результат у модели градиентного бустинга из библиотеки LightGBM."
   ]
  },
  {
   "cell_type": "markdown",
   "id": "782ccb2e",
   "metadata": {},
   "source": [
    "### Вывод\n",
    "\n",
    "* Результаты измерения времени обучения моделей:\n",
    "    * линейная регрессия - 7.62 с\n",
    "    * градиентный бустинг LightGBM - 3.72 с\n",
    "    * градиентный бустинг CatBoost - 1 мин 1 с\n",
    "* Результаты измерения времени вычисления прогноза моделей:\n",
    "    * линейная регрессия - 1.17 с\n",
    "    * градиентный бустинг LightGBM - 971 мс\n",
    "    * градиентный бустинг CatBoost - 586 мс\n",
    "* Наиболее быстрая модель - линейная регрессия, но она не самая точная.\n",
    "* Результаты тестирования моделей:\n",
    "    * линейная регрессия, RMSE = 2829.4\n",
    "    * градиентный бустинг LightGBM, RMSE = 1831.72\n",
    "    * градиентный бустинг CatBoost, RMSE = 1856.39\n",
    "* Все модели успешно прошли проверку на адекватность."
   ]
  },
  {
   "cell_type": "markdown",
   "id": "3fadb934",
   "metadata": {},
   "source": [
    "## Чек-лист проверки"
   ]
  },
  {
   "cell_type": "markdown",
   "id": "630942c2",
   "metadata": {},
   "source": [
    "Поставьте 'x' в выполненных пунктах. Далее нажмите Shift+Enter."
   ]
  },
  {
   "cell_type": "markdown",
   "id": "4331edd4",
   "metadata": {},
   "source": [
    "- [x]  Jupyter Notebook открыт\n",
    "- [x]  Весь код выполняется без ошибок\n",
    "- [x]  Ячейки с кодом расположены в порядке исполнения\n",
    "- [x]  Выполнена загрузка и подготовка данных\n",
    "- [x]  Выполнено обучение моделей\n",
    "- [x]  Есть анализ скорости работы и качества моделей"
   ]
  }
 ],
 "metadata": {
  "kernelspec": {
   "display_name": "Python 3",
   "language": "python",
   "name": "python3"
  },
  "language_info": {
   "codemirror_mode": {
    "name": "ipython",
    "version": 3
   },
   "file_extension": ".py",
   "mimetype": "text/x-python",
   "name": "python",
   "nbconvert_exporter": "python",
   "pygments_lexer": "ipython3",
   "version": "3.8.8"
  }
 },
 "nbformat": 4,
 "nbformat_minor": 5
}
