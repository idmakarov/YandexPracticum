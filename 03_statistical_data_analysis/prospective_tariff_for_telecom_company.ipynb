{
 "cells": [
  {
   "cell_type": "markdown",
   "id": "7d8674b8",
   "metadata": {},
   "source": [
    "## Определение перспективного тарифа для телеком компании\n",
    "\n",
    "### Описание проекта\n",
    "Вы аналитик компании «Мегалайн» — федерального оператора сотовой связи. Клиентам предлагают два тарифных плана: «Смарт» и «Ультра». Чтобы скорректировать рекламный бюджет, коммерческий департамент хочет понять, какой тариф приносит больше денег.\n",
    "Вам предстоит сделать предварительный анализ тарифов на небольшой выборке клиентов. В вашем распоряжении данные 500 пользователей «Мегалайна»: кто они, откуда, каким тарифом пользуются, сколько звонков и сообщений каждый отправил за 2018 год. Нужно проанализировать поведение клиентов и сделать вывод — какой тариф лучше.\n",
    "\n",
    "<a id=\"data_description\"></a>\n",
    "### Описание данных\n",
    "Таблица **users** (информация о пользователях):\n",
    "* user_id — уникальный идентификатор пользователя\n",
    "* first_name — имя пользователя\n",
    "* last_name — фамилия пользователя\n",
    "* age — возраст пользователя (годы)\n",
    "* reg_date — дата подключения тарифа (день, месяц, год)\n",
    "* churn_date — дата прекращения пользования тарифом (если значение пропущено, то тариф ещё действовал на момент выгрузки данных)\n",
    "* city — город проживания пользователя\n",
    "* tariff — название тарифного плана\n",
    "\n",
    "Таблица **calls** (информация о звонках):\n",
    "* id — уникальный номер звонка\n",
    "* call_date — дата звонка\n",
    "* duration — длительность звонка в минутах\n",
    "* user_id — идентификатор пользователя, сделавшего звонок\n",
    "\n",
    "Таблица **messages** (информация о сообщениях):\n",
    "* id — уникальный номер сообщения\n",
    "* message_date — дата сообщения\n",
    "* user_id — идентификатор пользователя, отправившего сообщение\n",
    "\n",
    "Таблица **internet** (информация об интернет-сессиях):\n",
    "* id — уникальный номер сессии\n",
    "* mb_used — объём потраченного за сессию интернет-трафика (в мегабайтах)\n",
    "* session_date — дата интернет-сессии\n",
    "* user_id — идентификатор пользователя\n",
    "\n",
    "Таблица **tariffs** (информация о тарифах):\n",
    "* tariff_name — название тарифа\n",
    "* rub_monthly_fee — ежемесячная абонентская плата в рублях\n",
    "* minutes_included — количество минут разговора в месяц, включённых в абонентскую плату\n",
    "* messages_included — количество сообщений в месяц, включённых в абонентскую плату\n",
    "* mb_per_month_included — объём интернет-трафика, включённого в абонентскую плату (в мегабайтах)\n",
    "* rub_per_minute — стоимость минуты разговора сверх тарифного пакета (например, если в тарифе 100 минут разговора в месяц, то со 101 минуты будет взиматься плата)\n",
    "* rub_per_message — стоимость отправки сообщения сверх тарифного пакета\n",
    "* rub_per_gb — стоимость дополнительного гигабайта интернет-трафика сверх тарифного пакета (1 гигабайт = 1024 мегабайта)\n",
    "\n",
    "### Содержание\n",
    "\n",
    "1. [Загрузка данных](#load_data)\n",
    "2. [Предобработка данных](#data_preprocessing)\n",
    "    * [Замена типов данных](#data_typization)\n",
    "    * [Обработка дубликатов](#duplicates)\n",
    "3. [Формирование сводной таблицы](#pivot_table)\n",
    "4. [Анализ данных](#data_analysis)\n",
    "5. [Проверка гипотез](#hypotesis_testing)\n",
    "6. [Заключение](#conclusion)"
   ]
  },
  {
   "cell_type": "markdown",
   "id": "a7042b28",
   "metadata": {},
   "source": [
    "<a id=\"load_data\"></a>\n",
    "### 1. Загрузка данных."
   ]
  },
  {
   "cell_type": "markdown",
   "id": "23037167",
   "metadata": {},
   "source": [
    "Импортируем необходимые библиотеки и загрузим данные. При чтении csv-файлов будем использовать автоматическое определение разделителя с помощью движка python."
   ]
  },
  {
   "cell_type": "code",
   "execution_count": 1,
   "id": "51cce406",
   "metadata": {},
   "outputs": [],
   "source": [
    "import warnings\n",
    "warnings.filterwarnings('ignore')\n",
    "\n",
    "import matplotlib.pyplot as plt\n",
    "%matplotlib inline\n",
    "\n",
    "import numpy as np\n",
    "import pandas as pd\n",
    "import seaborn as sns\n",
    "\n",
    "from IPython.display import display\n",
    "from scipy import stats as st\n",
    "\n",
    "\n",
    "calls_df = pd.read_csv('datasets/calls.csv', sep=None, engine='python')\n",
    "internet_df = pd.read_csv('datasets/internet.csv', sep=None, engine='python')\n",
    "messages_df = pd.read_csv('datasets/messages.csv', sep=None, engine='python')\n",
    "tariffs_df = pd.read_csv('datasets/tariffs.csv', sep=None, engine='python')\n",
    "users_df = pd.read_csv('datasets/users.csv', sep=None, engine='python', encoding='utf-8')"
   ]
  },
  {
   "cell_type": "markdown",
   "id": "0689f208",
   "metadata": {},
   "source": [
    "Посмотрим на первые записи датафреймов."
   ]
  },
  {
   "cell_type": "code",
   "execution_count": 2,
   "id": "f762b118",
   "metadata": {},
   "outputs": [
    {
     "data": {
      "text/html": [
       "<div>\n",
       "<style scoped>\n",
       "    .dataframe tbody tr th:only-of-type {\n",
       "        vertical-align: middle;\n",
       "    }\n",
       "\n",
       "    .dataframe tbody tr th {\n",
       "        vertical-align: top;\n",
       "    }\n",
       "\n",
       "    .dataframe thead th {\n",
       "        text-align: right;\n",
       "    }\n",
       "</style>\n",
       "<table border=\"1\" class=\"dataframe\">\n",
       "  <thead>\n",
       "    <tr style=\"text-align: right;\">\n",
       "      <th></th>\n",
       "      <th>id</th>\n",
       "      <th>call_date</th>\n",
       "      <th>duration</th>\n",
       "      <th>user_id</th>\n",
       "    </tr>\n",
       "  </thead>\n",
       "  <tbody>\n",
       "    <tr>\n",
       "      <th>0</th>\n",
       "      <td>1000_0</td>\n",
       "      <td>2018-07-25</td>\n",
       "      <td>0.00</td>\n",
       "      <td>1000</td>\n",
       "    </tr>\n",
       "    <tr>\n",
       "      <th>1</th>\n",
       "      <td>1000_1</td>\n",
       "      <td>2018-08-17</td>\n",
       "      <td>0.00</td>\n",
       "      <td>1000</td>\n",
       "    </tr>\n",
       "    <tr>\n",
       "      <th>2</th>\n",
       "      <td>1000_2</td>\n",
       "      <td>2018-06-11</td>\n",
       "      <td>2.85</td>\n",
       "      <td>1000</td>\n",
       "    </tr>\n",
       "    <tr>\n",
       "      <th>3</th>\n",
       "      <td>1000_3</td>\n",
       "      <td>2018-09-21</td>\n",
       "      <td>13.80</td>\n",
       "      <td>1000</td>\n",
       "    </tr>\n",
       "    <tr>\n",
       "      <th>4</th>\n",
       "      <td>1000_4</td>\n",
       "      <td>2018-12-15</td>\n",
       "      <td>5.18</td>\n",
       "      <td>1000</td>\n",
       "    </tr>\n",
       "  </tbody>\n",
       "</table>\n",
       "</div>"
      ],
      "text/plain": [
       "       id   call_date  duration  user_id\n",
       "0  1000_0  2018-07-25      0.00     1000\n",
       "1  1000_1  2018-08-17      0.00     1000\n",
       "2  1000_2  2018-06-11      2.85     1000\n",
       "3  1000_3  2018-09-21     13.80     1000\n",
       "4  1000_4  2018-12-15      5.18     1000"
      ]
     },
     "metadata": {},
     "output_type": "display_data"
    },
    {
     "data": {
      "text/html": [
       "<div>\n",
       "<style scoped>\n",
       "    .dataframe tbody tr th:only-of-type {\n",
       "        vertical-align: middle;\n",
       "    }\n",
       "\n",
       "    .dataframe tbody tr th {\n",
       "        vertical-align: top;\n",
       "    }\n",
       "\n",
       "    .dataframe thead th {\n",
       "        text-align: right;\n",
       "    }\n",
       "</style>\n",
       "<table border=\"1\" class=\"dataframe\">\n",
       "  <thead>\n",
       "    <tr style=\"text-align: right;\">\n",
       "      <th></th>\n",
       "      <th>Unnamed: 0</th>\n",
       "      <th>id</th>\n",
       "      <th>mb_used</th>\n",
       "      <th>session_date</th>\n",
       "      <th>user_id</th>\n",
       "    </tr>\n",
       "  </thead>\n",
       "  <tbody>\n",
       "    <tr>\n",
       "      <th>0</th>\n",
       "      <td>0</td>\n",
       "      <td>1000_0</td>\n",
       "      <td>112.95</td>\n",
       "      <td>2018-11-25</td>\n",
       "      <td>1000</td>\n",
       "    </tr>\n",
       "    <tr>\n",
       "      <th>1</th>\n",
       "      <td>1</td>\n",
       "      <td>1000_1</td>\n",
       "      <td>1052.81</td>\n",
       "      <td>2018-09-07</td>\n",
       "      <td>1000</td>\n",
       "    </tr>\n",
       "    <tr>\n",
       "      <th>2</th>\n",
       "      <td>2</td>\n",
       "      <td>1000_2</td>\n",
       "      <td>1197.26</td>\n",
       "      <td>2018-06-25</td>\n",
       "      <td>1000</td>\n",
       "    </tr>\n",
       "    <tr>\n",
       "      <th>3</th>\n",
       "      <td>3</td>\n",
       "      <td>1000_3</td>\n",
       "      <td>550.27</td>\n",
       "      <td>2018-08-22</td>\n",
       "      <td>1000</td>\n",
       "    </tr>\n",
       "    <tr>\n",
       "      <th>4</th>\n",
       "      <td>4</td>\n",
       "      <td>1000_4</td>\n",
       "      <td>302.56</td>\n",
       "      <td>2018-09-24</td>\n",
       "      <td>1000</td>\n",
       "    </tr>\n",
       "  </tbody>\n",
       "</table>\n",
       "</div>"
      ],
      "text/plain": [
       "   Unnamed: 0      id  mb_used session_date  user_id\n",
       "0           0  1000_0   112.95   2018-11-25     1000\n",
       "1           1  1000_1  1052.81   2018-09-07     1000\n",
       "2           2  1000_2  1197.26   2018-06-25     1000\n",
       "3           3  1000_3   550.27   2018-08-22     1000\n",
       "4           4  1000_4   302.56   2018-09-24     1000"
      ]
     },
     "metadata": {},
     "output_type": "display_data"
    },
    {
     "data": {
      "text/html": [
       "<div>\n",
       "<style scoped>\n",
       "    .dataframe tbody tr th:only-of-type {\n",
       "        vertical-align: middle;\n",
       "    }\n",
       "\n",
       "    .dataframe tbody tr th {\n",
       "        vertical-align: top;\n",
       "    }\n",
       "\n",
       "    .dataframe thead th {\n",
       "        text-align: right;\n",
       "    }\n",
       "</style>\n",
       "<table border=\"1\" class=\"dataframe\">\n",
       "  <thead>\n",
       "    <tr style=\"text-align: right;\">\n",
       "      <th></th>\n",
       "      <th>id</th>\n",
       "      <th>message_date</th>\n",
       "      <th>user_id</th>\n",
       "    </tr>\n",
       "  </thead>\n",
       "  <tbody>\n",
       "    <tr>\n",
       "      <th>0</th>\n",
       "      <td>1000_0</td>\n",
       "      <td>2018-06-27</td>\n",
       "      <td>1000</td>\n",
       "    </tr>\n",
       "    <tr>\n",
       "      <th>1</th>\n",
       "      <td>1000_1</td>\n",
       "      <td>2018-10-08</td>\n",
       "      <td>1000</td>\n",
       "    </tr>\n",
       "    <tr>\n",
       "      <th>2</th>\n",
       "      <td>1000_2</td>\n",
       "      <td>2018-08-04</td>\n",
       "      <td>1000</td>\n",
       "    </tr>\n",
       "    <tr>\n",
       "      <th>3</th>\n",
       "      <td>1000_3</td>\n",
       "      <td>2018-06-16</td>\n",
       "      <td>1000</td>\n",
       "    </tr>\n",
       "    <tr>\n",
       "      <th>4</th>\n",
       "      <td>1000_4</td>\n",
       "      <td>2018-12-05</td>\n",
       "      <td>1000</td>\n",
       "    </tr>\n",
       "  </tbody>\n",
       "</table>\n",
       "</div>"
      ],
      "text/plain": [
       "       id message_date  user_id\n",
       "0  1000_0   2018-06-27     1000\n",
       "1  1000_1   2018-10-08     1000\n",
       "2  1000_2   2018-08-04     1000\n",
       "3  1000_3   2018-06-16     1000\n",
       "4  1000_4   2018-12-05     1000"
      ]
     },
     "metadata": {},
     "output_type": "display_data"
    },
    {
     "data": {
      "text/html": [
       "<div>\n",
       "<style scoped>\n",
       "    .dataframe tbody tr th:only-of-type {\n",
       "        vertical-align: middle;\n",
       "    }\n",
       "\n",
       "    .dataframe tbody tr th {\n",
       "        vertical-align: top;\n",
       "    }\n",
       "\n",
       "    .dataframe thead th {\n",
       "        text-align: right;\n",
       "    }\n",
       "</style>\n",
       "<table border=\"1\" class=\"dataframe\">\n",
       "  <thead>\n",
       "    <tr style=\"text-align: right;\">\n",
       "      <th></th>\n",
       "      <th>messages_included</th>\n",
       "      <th>mb_per_month_included</th>\n",
       "      <th>minutes_included</th>\n",
       "      <th>rub_monthly_fee</th>\n",
       "      <th>rub_per_gb</th>\n",
       "      <th>rub_per_message</th>\n",
       "      <th>rub_per_minute</th>\n",
       "      <th>tariff_name</th>\n",
       "    </tr>\n",
       "  </thead>\n",
       "  <tbody>\n",
       "    <tr>\n",
       "      <th>0</th>\n",
       "      <td>50</td>\n",
       "      <td>15360</td>\n",
       "      <td>500</td>\n",
       "      <td>550</td>\n",
       "      <td>200</td>\n",
       "      <td>3</td>\n",
       "      <td>3</td>\n",
       "      <td>smart</td>\n",
       "    </tr>\n",
       "    <tr>\n",
       "      <th>1</th>\n",
       "      <td>1000</td>\n",
       "      <td>30720</td>\n",
       "      <td>3000</td>\n",
       "      <td>1950</td>\n",
       "      <td>150</td>\n",
       "      <td>1</td>\n",
       "      <td>1</td>\n",
       "      <td>ultra</td>\n",
       "    </tr>\n",
       "  </tbody>\n",
       "</table>\n",
       "</div>"
      ],
      "text/plain": [
       "   messages_included  mb_per_month_included  minutes_included  \\\n",
       "0                 50                  15360               500   \n",
       "1               1000                  30720              3000   \n",
       "\n",
       "   rub_monthly_fee  rub_per_gb  rub_per_message  rub_per_minute tariff_name  \n",
       "0              550         200                3               3       smart  \n",
       "1             1950         150                1               1       ultra  "
      ]
     },
     "metadata": {},
     "output_type": "display_data"
    },
    {
     "data": {
      "text/html": [
       "<div>\n",
       "<style scoped>\n",
       "    .dataframe tbody tr th:only-of-type {\n",
       "        vertical-align: middle;\n",
       "    }\n",
       "\n",
       "    .dataframe tbody tr th {\n",
       "        vertical-align: top;\n",
       "    }\n",
       "\n",
       "    .dataframe thead th {\n",
       "        text-align: right;\n",
       "    }\n",
       "</style>\n",
       "<table border=\"1\" class=\"dataframe\">\n",
       "  <thead>\n",
       "    <tr style=\"text-align: right;\">\n",
       "      <th></th>\n",
       "      <th>user_id</th>\n",
       "      <th>age</th>\n",
       "      <th>churn_date</th>\n",
       "      <th>city</th>\n",
       "      <th>first_name</th>\n",
       "      <th>last_name</th>\n",
       "      <th>reg_date</th>\n",
       "      <th>tariff</th>\n",
       "    </tr>\n",
       "  </thead>\n",
       "  <tbody>\n",
       "    <tr>\n",
       "      <th>0</th>\n",
       "      <td>1000</td>\n",
       "      <td>52</td>\n",
       "      <td>NaN</td>\n",
       "      <td>Краснодар</td>\n",
       "      <td>Рафаил</td>\n",
       "      <td>Верещагин</td>\n",
       "      <td>2018-05-25</td>\n",
       "      <td>ultra</td>\n",
       "    </tr>\n",
       "    <tr>\n",
       "      <th>1</th>\n",
       "      <td>1001</td>\n",
       "      <td>41</td>\n",
       "      <td>NaN</td>\n",
       "      <td>Москва</td>\n",
       "      <td>Иван</td>\n",
       "      <td>Ежов</td>\n",
       "      <td>2018-11-01</td>\n",
       "      <td>smart</td>\n",
       "    </tr>\n",
       "    <tr>\n",
       "      <th>2</th>\n",
       "      <td>1002</td>\n",
       "      <td>59</td>\n",
       "      <td>NaN</td>\n",
       "      <td>Стерлитамак</td>\n",
       "      <td>Евгений</td>\n",
       "      <td>Абрамович</td>\n",
       "      <td>2018-06-17</td>\n",
       "      <td>smart</td>\n",
       "    </tr>\n",
       "    <tr>\n",
       "      <th>3</th>\n",
       "      <td>1003</td>\n",
       "      <td>23</td>\n",
       "      <td>NaN</td>\n",
       "      <td>Москва</td>\n",
       "      <td>Белла</td>\n",
       "      <td>Белякова</td>\n",
       "      <td>2018-08-17</td>\n",
       "      <td>ultra</td>\n",
       "    </tr>\n",
       "    <tr>\n",
       "      <th>4</th>\n",
       "      <td>1004</td>\n",
       "      <td>68</td>\n",
       "      <td>NaN</td>\n",
       "      <td>Новокузнецк</td>\n",
       "      <td>Татьяна</td>\n",
       "      <td>Авдеенко</td>\n",
       "      <td>2018-05-14</td>\n",
       "      <td>ultra</td>\n",
       "    </tr>\n",
       "  </tbody>\n",
       "</table>\n",
       "</div>"
      ],
      "text/plain": [
       "   user_id  age churn_date         city first_name  last_name    reg_date  \\\n",
       "0     1000   52        NaN    Краснодар     Рафаил  Верещагин  2018-05-25   \n",
       "1     1001   41        NaN       Москва       Иван       Ежов  2018-11-01   \n",
       "2     1002   59        NaN  Стерлитамак    Евгений  Абрамович  2018-06-17   \n",
       "3     1003   23        NaN       Москва      Белла   Белякова  2018-08-17   \n",
       "4     1004   68        NaN  Новокузнецк    Татьяна   Авдеенко  2018-05-14   \n",
       "\n",
       "  tariff  \n",
       "0  ultra  \n",
       "1  smart  \n",
       "2  smart  \n",
       "3  ultra  \n",
       "4  ultra  "
      ]
     },
     "metadata": {},
     "output_type": "display_data"
    }
   ],
   "source": [
    "for df in [calls_df, internet_df, messages_df, tariffs_df, users_df]:\n",
    "    display(df.head())"
   ]
  },
  {
   "cell_type": "markdown",
   "id": "379a4144",
   "metadata": {},
   "source": [
    "Данные загружены корректно. Заметен столбец без названия \"Unamed: 0\" в таблице интернет.  \n",
    "Проверим таблицы на отсутствие данных и соответствие типов."
   ]
  },
  {
   "cell_type": "code",
   "execution_count": 3,
   "id": "639e93cf",
   "metadata": {
    "scrolled": false
   },
   "outputs": [
    {
     "name": "stdout",
     "output_type": "stream",
     "text": [
      "<class 'pandas.core.frame.DataFrame'>\n",
      "RangeIndex: 202607 entries, 0 to 202606\n",
      "Data columns (total 4 columns):\n",
      " #   Column     Non-Null Count   Dtype  \n",
      "---  ------     --------------   -----  \n",
      " 0   id         202607 non-null  object \n",
      " 1   call_date  202607 non-null  object \n",
      " 2   duration   202607 non-null  float64\n",
      " 3   user_id    202607 non-null  int64  \n",
      "dtypes: float64(1), int64(1), object(2)\n",
      "memory usage: 28.6 MB\n"
     ]
    },
    {
     "data": {
      "text/plain": [
       "None"
      ]
     },
     "metadata": {},
     "output_type": "display_data"
    },
    {
     "name": "stdout",
     "output_type": "stream",
     "text": [
      "<class 'pandas.core.frame.DataFrame'>\n",
      "RangeIndex: 149396 entries, 0 to 149395\n",
      "Data columns (total 5 columns):\n",
      " #   Column        Non-Null Count   Dtype  \n",
      "---  ------        --------------   -----  \n",
      " 0   Unnamed: 0    149396 non-null  int64  \n",
      " 1   id            149396 non-null  object \n",
      " 2   mb_used       149396 non-null  float64\n",
      " 3   session_date  149396 non-null  object \n",
      " 4   user_id       149396 non-null  int64  \n",
      "dtypes: float64(1), int64(2), object(2)\n",
      "memory usage: 22.2 MB\n"
     ]
    },
    {
     "data": {
      "text/plain": [
       "None"
      ]
     },
     "metadata": {},
     "output_type": "display_data"
    },
    {
     "name": "stdout",
     "output_type": "stream",
     "text": [
      "<class 'pandas.core.frame.DataFrame'>\n",
      "RangeIndex: 123036 entries, 0 to 123035\n",
      "Data columns (total 3 columns):\n",
      " #   Column        Non-Null Count   Dtype \n",
      "---  ------        --------------   ----- \n",
      " 0   id            123036 non-null  object\n",
      " 1   message_date  123036 non-null  object\n",
      " 2   user_id       123036 non-null  int64 \n",
      "dtypes: int64(1), object(2)\n",
      "memory usage: 16.4 MB\n"
     ]
    },
    {
     "data": {
      "text/plain": [
       "None"
      ]
     },
     "metadata": {},
     "output_type": "display_data"
    },
    {
     "name": "stdout",
     "output_type": "stream",
     "text": [
      "<class 'pandas.core.frame.DataFrame'>\n",
      "RangeIndex: 2 entries, 0 to 1\n",
      "Data columns (total 8 columns):\n",
      " #   Column                 Non-Null Count  Dtype \n",
      "---  ------                 --------------  ----- \n",
      " 0   messages_included      2 non-null      int64 \n",
      " 1   mb_per_month_included  2 non-null      int64 \n",
      " 2   minutes_included       2 non-null      int64 \n",
      " 3   rub_monthly_fee        2 non-null      int64 \n",
      " 4   rub_per_gb             2 non-null      int64 \n",
      " 5   rub_per_message        2 non-null      int64 \n",
      " 6   rub_per_minute         2 non-null      int64 \n",
      " 7   tariff_name            2 non-null      object\n",
      "dtypes: int64(7), object(1)\n",
      "memory usage: 364.0 bytes\n"
     ]
    },
    {
     "data": {
      "text/plain": [
       "None"
      ]
     },
     "metadata": {},
     "output_type": "display_data"
    },
    {
     "name": "stdout",
     "output_type": "stream",
     "text": [
      "<class 'pandas.core.frame.DataFrame'>\n",
      "RangeIndex: 500 entries, 0 to 499\n",
      "Data columns (total 8 columns):\n",
      " #   Column      Non-Null Count  Dtype \n",
      "---  ------      --------------  ----- \n",
      " 0   user_id     500 non-null    int64 \n",
      " 1   age         500 non-null    int64 \n",
      " 2   churn_date  38 non-null     object\n",
      " 3   city        500 non-null    object\n",
      " 4   first_name  500 non-null    object\n",
      " 5   last_name   500 non-null    object\n",
      " 6   reg_date    500 non-null    object\n",
      " 7   tariff      500 non-null    object\n",
      "dtypes: int64(2), object(6)\n",
      "memory usage: 229.6 KB\n"
     ]
    },
    {
     "data": {
      "text/plain": [
       "None"
      ]
     },
     "metadata": {},
     "output_type": "display_data"
    }
   ],
   "source": [
    "for df in [calls_df, internet_df, messages_df, tariffs_df, users_df]:\n",
    "    display(df.info(memory_usage='deep'))"
   ]
  },
  {
   "cell_type": "markdown",
   "id": "73f72cd4",
   "metadata": {},
   "source": [
    "Все столбцы с датами необходимо будет привести к типу *datetime64*. Пропущенных данных кроме столбца '*churn_date*' нет, объяснение отсутствия даты прекращения пользования тарифом есть в [описании данных](#data_description).\n",
    "\n",
    "Проанализируем содержимое столбцов более детально: для количественных признаков выведем их статистики и распределение, для категориальных - уникальные значения и их количество."
   ]
  },
  {
   "cell_type": "code",
   "execution_count": 4,
   "id": "a8ff5048",
   "metadata": {
    "scrolled": true
   },
   "outputs": [
    {
     "name": "stdout",
     "output_type": "stream",
     "text": [
      "id\n",
      "1133_180    1\n",
      "1284_500    1\n",
      "1491_159    1\n",
      "1251_61     1\n",
      "1391_228    1\n",
      "           ..\n",
      "1175_7      1\n",
      "1459_10     1\n",
      "1435_23     1\n",
      "1021_924    1\n",
      "1433_372    1\n",
      "Name: id, Length: 202607, dtype: int64\n",
      "\n",
      "call_date\n",
      "2018-12-31    1435\n",
      "2018-12-29    1202\n",
      "2018-12-30    1192\n",
      "2018-12-22    1158\n",
      "2018-12-26    1149\n",
      "              ... \n",
      "2018-01-05      20\n",
      "2018-01-07      18\n",
      "2018-01-02       9\n",
      "2018-01-03       7\n",
      "2018-01-01       5\n",
      "Name: call_date, Length: 365, dtype: int64\n",
      "\n",
      "duration\n",
      "count    202607.000000\n",
      "mean          6.755887\n",
      "std           5.843365\n",
      "min           0.000000\n",
      "25%           1.300000\n",
      "50%           6.000000\n",
      "75%          10.700000\n",
      "max          38.000000\n",
      "Name: duration, dtype: float64\n",
      "user_id\n",
      "count    202607.000000\n",
      "mean       1253.940619\n",
      "std         144.722751\n",
      "min        1000.000000\n",
      "25%        1126.000000\n",
      "50%        1260.000000\n",
      "75%        1379.000000\n",
      "max        1499.000000\n",
      "Name: user_id, dtype: float64\n"
     ]
    },
    {
     "data": {
      "image/png": "[encoded data removed]",
      "text/plain": [
       "<Figure size 720x432 with 1 Axes>"
      ]
     },
     "metadata": {
      "needs_background": "light"
     },
     "output_type": "display_data"
    },
    {
     "data": {
      "image/png": "[encoded data removed]",
      "text/plain": [
       "<Figure size 720x432 with 1 Axes>"
      ]
     },
     "metadata": {
      "needs_background": "light"
     },
     "output_type": "display_data"
    }
   ],
   "source": [
    "def info(data):\n",
    "    \"\"\"\n",
    "    Функция пробегает по признакам датафрейма и если тип у признака object,\n",
    "    то выводит уникальные значения и их количество, в противном случае \n",
    "    оценивается распределение\n",
    "    \n",
    "    \"\"\"\n",
    "    for column in data.columns:\n",
    "        if data[column].dtype == 'object':\n",
    "            print(column)\n",
    "            print(data[column].value_counts())\n",
    "            print()\n",
    "        else:\n",
    "            \n",
    "            print(column)\n",
    "            print(data[column].describe())\n",
    "            plt.figure(figsize=(10, 6))\n",
    "            sns.histplot(data[column])\n",
    "            plt.title('Распределение '+ column);\n",
    "            \n",
    "info(calls_df)"
   ]
  },
  {
   "cell_type": "markdown",
   "id": "ea4c70d8",
   "metadata": {},
   "source": [
    "В таблице **calls** заметно большое число записей со сверхкороткой длительностью звонков (скорее всего все = 0), что похоже на автодозвон, плата за который не должна быть взята."
   ]
  },
  {
   "cell_type": "code",
   "execution_count": 5,
   "id": "a4c099af",
   "metadata": {
    "scrolled": true
   },
   "outputs": [
    {
     "name": "stdout",
     "output_type": "stream",
     "text": [
      "Unnamed: 0\n",
      "count    149396.000000\n",
      "mean      74697.500000\n",
      "std       43127.054745\n",
      "min           0.000000\n",
      "25%       37348.750000\n",
      "50%       74697.500000\n",
      "75%      112046.250000\n",
      "max      149395.000000\n",
      "Name: Unnamed: 0, dtype: float64\n",
      "id\n",
      "1102_217    1\n",
      "1243_251    1\n",
      "1061_140    1\n",
      "1049_33     1\n",
      "1344_69     1\n",
      "           ..\n",
      "1178_303    1\n",
      "1225_83     1\n",
      "1007_260    1\n",
      "1436_318    1\n",
      "1433_372    1\n",
      "Name: id, Length: 149396, dtype: int64\n",
      "\n",
      "mb_used\n",
      "count    149396.000000\n",
      "mean        370.192426\n",
      "std         278.300951\n",
      "min           0.000000\n",
      "25%         138.187500\n",
      "50%         348.015000\n",
      "75%         559.552500\n",
      "max        1724.830000\n",
      "Name: mb_used, dtype: float64\n",
      "session_date\n",
      "2018-12-31    1057\n",
      "2018-12-30     903\n",
      "2018-12-25     859\n",
      "2018-12-26     844\n",
      "2018-12-22     834\n",
      "              ... \n",
      "2018-01-05      14\n",
      "2018-01-04       9\n",
      "2018-01-03       6\n",
      "2018-01-01       3\n",
      "2018-01-02       3\n",
      "Name: session_date, Length: 365, dtype: int64\n",
      "\n",
      "user_id\n",
      "count    149396.000000\n",
      "mean       1252.099842\n",
      "std         144.050823\n",
      "min        1000.000000\n",
      "25%        1130.000000\n",
      "50%        1251.000000\n",
      "75%        1380.000000\n",
      "max        1499.000000\n",
      "Name: user_id, dtype: float64\n"
     ]
    },
    {
     "data": {
      "image/png": "[encoded data removed]",
      "text/plain": [
       "<Figure size 720x432 with 1 Axes>"
      ]
     },
     "metadata": {
      "needs_background": "light"
     },
     "output_type": "display_data"
    },
    {
     "data": {
      "image/png": "[encoded data removed]",
      "text/plain": [
       "<Figure size 720x432 with 1 Axes>"
      ]
     },
     "metadata": {
      "needs_background": "light"
     },
     "output_type": "display_data"
    },
    {
     "data": {
      "image/png": "[encoded data removed]",
      "text/plain": [
       "<Figure size 720x432 with 1 Axes>"
      ]
     },
     "metadata": {
      "needs_background": "light"
     },
     "output_type": "display_data"
    }
   ],
   "source": [
    "info(internet_df)"
   ]
  },
  {
   "cell_type": "markdown",
   "id": "e3950e5b",
   "metadata": {},
   "source": [
    "В таблице **internet** также видно наличие большого числа записей с 0 Мб объёма потраченного интернет-трафика, что вряд ли является неявным пропуском, а скорее имеет такой же характер, как и в случае с длительностью звонков. В целом графики длительности звонков и потраченного интернет-трафика за сессию очень похожи между собой. Данные в столбце '*Unnamed: 0*', похоже, являются копией индексов датафрейма."
   ]
  },
  {
   "cell_type": "code",
   "execution_count": 6,
   "id": "88a6ad7e",
   "metadata": {
    "scrolled": true
   },
   "outputs": [
    {
     "name": "stdout",
     "output_type": "stream",
     "text": [
      "id\n",
      "1347_211    1\n",
      "1073_24     1\n",
      "1091_196    1\n",
      "1314_236    1\n",
      "1338_57     1\n",
      "           ..\n",
      "1356_635    1\n",
      "1250_116    1\n",
      "1056_145    1\n",
      "1102_201    1\n",
      "1433_372    1\n",
      "Name: id, Length: 123036, dtype: int64\n",
      "\n",
      "message_date\n",
      "2018-12-31    859\n",
      "2018-12-30    765\n",
      "2018-12-21    712\n",
      "2018-12-29    702\n",
      "2018-12-26    699\n",
      "             ... \n",
      "2018-01-11     12\n",
      "2018-01-04     10\n",
      "2018-01-05     10\n",
      "2018-01-02     10\n",
      "2018-01-03      4\n",
      "Name: message_date, Length: 364, dtype: int64\n",
      "\n",
      "user_id\n",
      "count    123036.000000\n",
      "mean       1256.989410\n",
      "std         143.523967\n",
      "min        1000.000000\n",
      "25%        1134.000000\n",
      "50%        1271.000000\n",
      "75%        1381.000000\n",
      "max        1499.000000\n",
      "Name: user_id, dtype: float64\n"
     ]
    },
    {
     "data": {
      "image/png": "[encoded data removed]",
      "text/plain": [
       "<Figure size 720x432 with 1 Axes>"
      ]
     },
     "metadata": {
      "needs_background": "light"
     },
     "output_type": "display_data"
    }
   ],
   "source": [
    "info(messages_df)"
   ]
  },
  {
   "cell_type": "markdown",
   "id": "df8940f8",
   "metadata": {},
   "source": [
    "В таблице **messages** всё нормально."
   ]
  },
  {
   "cell_type": "code",
   "execution_count": 7,
   "id": "fdaf0257",
   "metadata": {},
   "outputs": [
    {
     "name": "stdout",
     "output_type": "stream",
     "text": [
      "user_id\n",
      "count     500.000000\n",
      "mean     1249.500000\n",
      "std       144.481833\n",
      "min      1000.000000\n",
      "25%      1124.750000\n",
      "50%      1249.500000\n",
      "75%      1374.250000\n",
      "max      1499.000000\n",
      "Name: user_id, dtype: float64\n",
      "age\n",
      "count    500.00000\n",
      "mean      46.58800\n",
      "std       16.66763\n",
      "min       18.00000\n",
      "25%       32.00000\n",
      "50%       46.00000\n",
      "75%       62.00000\n",
      "max       75.00000\n",
      "Name: age, dtype: float64\n",
      "churn_date\n",
      "2018-10-03    2\n",
      "2018-12-09    2\n",
      "2018-10-14    2\n",
      "2018-12-21    2\n",
      "2018-12-03    2\n",
      "2018-10-05    1\n",
      "2018-11-26    1\n",
      "2018-10-25    1\n",
      "2018-11-07    1\n",
      "2018-12-30    1\n",
      "2018-12-25    1\n",
      "2018-10-04    1\n",
      "2018-12-26    1\n",
      "2018-11-27    1\n",
      "2018-12-20    1\n",
      "2018-09-26    1\n",
      "2018-12-16    1\n",
      "2018-10-28    1\n",
      "2018-12-23    1\n",
      "2018-12-18    1\n",
      "2018-11-13    1\n",
      "2018-11-30    1\n",
      "2018-12-11    1\n",
      "2018-11-22    1\n",
      "2018-12-24    1\n",
      "2018-09-02    1\n",
      "2018-08-17    1\n",
      "2018-11-16    1\n",
      "2018-09-27    1\n",
      "2018-12-14    1\n",
      "2018-08-31    1\n",
      "2018-10-27    1\n",
      "2018-11-21    1\n",
      "Name: churn_date, dtype: int64\n",
      "\n",
      "city\n",
      "Москва             99\n",
      "Санкт-Петербург    39\n",
      "Новосибирск        16\n",
      "Казань             14\n",
      "Омск               14\n",
      "                   ..\n",
      "Иваново             1\n",
      "Химки               1\n",
      "Подольск            1\n",
      "Архангельск         1\n",
      "Нижневартовск       1\n",
      "Name: city, Length: 76, dtype: int64\n",
      "\n",
      "first_name\n",
      "Радим       6\n",
      "Пётр        5\n",
      "Леонид      5\n",
      "Рубен       4\n",
      "Мариетта    4\n",
      "           ..\n",
      "Лукий       1\n",
      "Фаддей      1\n",
      "Анжелика    1\n",
      "Мадина      1\n",
      "Трофим      1\n",
      "Name: first_name, Length: 246, dtype: int64\n",
      "\n",
      "last_name\n",
      "Андреенко    5\n",
      "Березина     3\n",
      "Абашкина     3\n",
      "Анищенко     3\n",
      "Булгаков     3\n",
      "            ..\n",
      "Адаменко     1\n",
      "Кулагина     1\n",
      "Сысоев       1\n",
      "Медведев     1\n",
      "Панов        1\n",
      "Name: last_name, Length: 419, dtype: int64\n",
      "\n",
      "reg_date\n",
      "2018-05-28    8\n",
      "2018-01-04    5\n",
      "2018-04-03    5\n",
      "2018-11-16    5\n",
      "2018-10-05    5\n",
      "             ..\n",
      "2018-10-30    1\n",
      "2018-02-11    1\n",
      "2018-05-03    1\n",
      "2018-12-08    1\n",
      "2018-07-28    1\n",
      "Name: reg_date, Length: 270, dtype: int64\n",
      "\n",
      "tariff\n",
      "smart    351\n",
      "ultra    149\n",
      "Name: tariff, dtype: int64\n",
      "\n"
     ]
    },
    {
     "data": {
      "image/png": "[encoded data removed]",
      "text/plain": [
       "<Figure size 720x432 with 1 Axes>"
      ]
     },
     "metadata": {
      "needs_background": "light"
     },
     "output_type": "display_data"
    },
    {
     "data": {
      "image/png": "[encoded data removed]",
      "text/plain": [
       "<Figure size 720x432 with 1 Axes>"
      ]
     },
     "metadata": {
      "needs_background": "light"
     },
     "output_type": "display_data"
    }
   ],
   "source": [
    "info(users_df)"
   ]
  },
  {
   "cell_type": "markdown",
   "id": "45b0b3c9",
   "metadata": {},
   "source": [
    "В таблице **users** следует проверить города, имена и фамилии на возможные неявные дубликаты."
   ]
  },
  {
   "cell_type": "markdown",
   "id": "ecc0c31f",
   "metadata": {},
   "source": [
    "### Вывод\n",
    "\n",
    "* Исходный набор данных представляет собой пять таблиц:\n",
    "    * **calls**, состоящую из 4 столбцов-признаков и 202607 строк\n",
    "    * **internet**, состоящую из 5 столбцов-признаков и 149396 строк\n",
    "    * **messages**, состоящую из 3 столбцов-признаков и 123036 строк\n",
    "    * **tariffs**, состоящую из 8 столбцов-признаков и 2 строк\n",
    "    * **users**, состоящую из 8 столбцов-признаков и 500 строк\n",
    "* Названия столбцов корректны (написаны одним стилем, латиницей, без пробелов).\n",
    "* В таблице **internet** столбец без названия \"Unamed: 0\".\n",
    "* Все столбцы с датами необходимо будет привести к типу *datetime64*.\n",
    "* Пропущенных данных кроме столбца '*churn_date*' (таблица **users**) нет, объяснение отсутствия даты прекращения пользования тарифом есть в [описании данных](#data_description).\n",
    "* В таблице **users** следует проверить города, имена и фамилии на возможные неявные дубликаты."
   ]
  },
  {
   "cell_type": "markdown",
   "id": "eb38ca4d",
   "metadata": {},
   "source": [
    "<a id=\"data_preprocessing\"></a>\n",
    "### 2. Предобработка данных\n",
    "\n",
    "<a id=\"data_typization\"></a>\n",
    "### Замена типов данных"
   ]
  },
  {
   "cell_type": "markdown",
   "id": "248bca4b",
   "metadata": {},
   "source": [
    "Заменим тип данных в столбцах с датами на datetime64."
   ]
  },
  {
   "cell_type": "code",
   "execution_count": 8,
   "id": "3a312f98",
   "metadata": {},
   "outputs": [
    {
     "name": "stdout",
     "output_type": "stream",
     "text": [
      "Столбец: call_date \tТип данных: datetime64[ns]\n",
      "Столбец: session_date \tТип данных: datetime64[ns]\n",
      "Столбец: message_date \tТип данных: datetime64[ns]\n",
      "Столбец: churn_date \tТип данных: datetime64[ns]\n",
      "Столбец: reg_date \tТип данных: datetime64[ns]\n"
     ]
    }
   ],
   "source": [
    "for df in [calls_df, internet_df, messages_df, tariffs_df, users_df]:\n",
    "    date_cols = [col for col in df.columns if 'date' in col]\n",
    "    for date_col in date_cols:\n",
    "        df[date_col] = pd.to_datetime(df[date_col], format='%Y-%m-%d')\n",
    "        print('Столбец:', date_col, '\\tТип данных:', df[date_col].dtype)"
   ]
  },
  {
   "cell_type": "markdown",
   "id": "b0420cff",
   "metadata": {},
   "source": [
    "<a id=\"duplicates\"></a>\n",
    "### Обработка дубликатов"
   ]
  },
  {
   "cell_type": "markdown",
   "id": "8db8dab0",
   "metadata": {},
   "source": [
    "Удалим столбец '*Unnamed: 0*', так как он дублирует индексы таблицы **internet**."
   ]
  },
  {
   "cell_type": "code",
   "execution_count": 9,
   "id": "0f10ac98",
   "metadata": {},
   "outputs": [
    {
     "data": {
      "text/html": [
       "<div>\n",
       "<style scoped>\n",
       "    .dataframe tbody tr th:only-of-type {\n",
       "        vertical-align: middle;\n",
       "    }\n",
       "\n",
       "    .dataframe tbody tr th {\n",
       "        vertical-align: top;\n",
       "    }\n",
       "\n",
       "    .dataframe thead th {\n",
       "        text-align: right;\n",
       "    }\n",
       "</style>\n",
       "<table border=\"1\" class=\"dataframe\">\n",
       "  <thead>\n",
       "    <tr style=\"text-align: right;\">\n",
       "      <th></th>\n",
       "      <th>id</th>\n",
       "      <th>mb_used</th>\n",
       "      <th>session_date</th>\n",
       "      <th>user_id</th>\n",
       "    </tr>\n",
       "  </thead>\n",
       "  <tbody>\n",
       "    <tr>\n",
       "      <th>0</th>\n",
       "      <td>1000_0</td>\n",
       "      <td>112.95</td>\n",
       "      <td>2018-11-25</td>\n",
       "      <td>1000</td>\n",
       "    </tr>\n",
       "    <tr>\n",
       "      <th>1</th>\n",
       "      <td>1000_1</td>\n",
       "      <td>1052.81</td>\n",
       "      <td>2018-09-07</td>\n",
       "      <td>1000</td>\n",
       "    </tr>\n",
       "    <tr>\n",
       "      <th>2</th>\n",
       "      <td>1000_2</td>\n",
       "      <td>1197.26</td>\n",
       "      <td>2018-06-25</td>\n",
       "      <td>1000</td>\n",
       "    </tr>\n",
       "    <tr>\n",
       "      <th>3</th>\n",
       "      <td>1000_3</td>\n",
       "      <td>550.27</td>\n",
       "      <td>2018-08-22</td>\n",
       "      <td>1000</td>\n",
       "    </tr>\n",
       "    <tr>\n",
       "      <th>4</th>\n",
       "      <td>1000_4</td>\n",
       "      <td>302.56</td>\n",
       "      <td>2018-09-24</td>\n",
       "      <td>1000</td>\n",
       "    </tr>\n",
       "  </tbody>\n",
       "</table>\n",
       "</div>"
      ],
      "text/plain": [
       "       id  mb_used session_date  user_id\n",
       "0  1000_0   112.95   2018-11-25     1000\n",
       "1  1000_1  1052.81   2018-09-07     1000\n",
       "2  1000_2  1197.26   2018-06-25     1000\n",
       "3  1000_3   550.27   2018-08-22     1000\n",
       "4  1000_4   302.56   2018-09-24     1000"
      ]
     },
     "execution_count": 9,
     "metadata": {},
     "output_type": "execute_result"
    }
   ],
   "source": [
    "internet_df.drop(columns='Unnamed: 0', inplace=True)\n",
    "internet_df.head()"
   ]
  },
  {
   "cell_type": "markdown",
   "id": "b20a0b30",
   "metadata": {},
   "source": [
    "Проверим на возможные неявные дубликаты столбцы '*city*', '*first_name*' и '*last_name*' таблицы **users**. В качестве критерия отбора слов, отличающихся на 1 символ, применим расстояние Левенштейна."
   ]
  },
  {
   "cell_type": "code",
   "execution_count": 10,
   "id": "845c36b2",
   "metadata": {},
   "outputs": [
    {
     "name": "stdout",
     "output_type": "stream",
     "text": [
      "Всего неявных дубликатов выявлено: 0\n",
      "\n",
      "Список неявных дубликатов:\n",
      " []\n",
      "Всего неявных дубликатов выявлено: 54\n",
      "\n",
      "Список неявных дубликатов:\n",
      " ['Габриэль', 'Дана', 'Рустем', 'Мадина', 'Исак', 'Милена', 'Владислав', 'Дайна', 'Алина', 'Рустэм', 'Габриель', 'Юлий', 'Александра', 'Валерия', 'Лилия', 'Рем', 'Александр', 'Руслана', 'Алина', 'Лидия', 'Исаак', 'Евгений', 'Руслан', 'Эльга', 'Эльмира', 'Алла', 'Юна', 'Ренат', 'Валерий', 'Ренат', 'Алина', 'Марина', 'Юлий', 'Элла', 'Рустэм', 'Эльвира', 'Эльза', 'Радим', 'Марина', 'Яна', 'Алина', 'Инга', 'Наида', 'Рэм', 'Алёна', 'Ринат', 'Марина', 'Милана', 'Саида', 'Юрий', 'Владислава', 'Инна', 'Евгения', 'Вадим']\n",
      "Всего неявных дубликатов выявлено: 138\n",
      "\n",
      "Список неявных дубликатов:\n",
      " ['Алешин', 'Трофимов', 'Корольков', 'Селезнев', 'Козлов', 'Андропова', 'Алёшкова', 'Крюков', 'Крюков', 'Ильина', 'Костина', 'Жарова', 'Григорьева', 'Сазонова', 'Нестеров', 'Белякова', 'Тимофеев', 'Афинин', 'Карасева', 'Воронина', 'Шарапова', 'Зубков', 'Родионов', 'Аничкина', 'Воронин', 'Корнилова', 'Ильин', 'Калинина', 'Ларина', 'Шевцов', 'Асафьева', 'Астафьева', 'Абоимов', 'Блохин', 'Пономарев', 'Устинов', 'Бородина', 'Алфимова', 'Малинина', 'Фокин', 'Афонин', 'Алешкова', 'Тарасова', 'Золотова', 'Шарапов', 'Пономарев', 'Беляева', 'Семин', 'Родионова', 'Алешина', 'Сазонова', 'Суслова', 'Авросимова', 'Добрынина', 'Сазонов', 'Минаева', 'Зубкова', 'Болдырева', 'Трофимова', 'Соловьёв', 'Одинцова', 'Григорьев', 'Абалкин', 'Агаева', 'Иванова', 'Ахматулин', 'Пономарёв', 'Малинина', 'Сухарев', 'Ерофеева', 'Богданов', 'Игнатьев', 'Аникина', 'Козлова', 'Алешина', 'Абаимов', 'Панфилова', 'Суслов', 'Беляев', 'Афонина', 'Ёрохова', 'Ёркина', 'Костин', 'Болдырев', 'Афонин', 'Устинова', 'Андропова', 'Алешина', 'Верещагина', 'Золотов', 'Ларин', 'Одинцов', 'Корнилов', 'Минаев', 'Селезнева', 'Шевцова', 'Игнатьева', 'Агаева', 'Ёркин', 'Тимофеева', 'Бородин', 'Алешин', 'Абашкин', 'Нестерова', 'Ёрохов', 'Иванов', 'Панфилов', 'Крючков', 'Алфимов', 'Шарова', 'Соловьев', 'Семина', 'Макаров', 'Антропова', 'Антропова', 'Агеева', 'Королькова', 'Карасев', 'Ларина', 'Верещагин', 'Сухарева', 'Ерофеев', 'Макарова', 'Кочетов', 'Беликова', 'Добрынин', 'Демьянов', 'Ахматулина', 'Авросинова', 'Ахматулин', 'Блохина', 'Фокин', 'Тарасов', 'Богданова', 'Фомин', 'Кочетков', 'Демьянова', 'Абашкин']\n"
     ]
    }
   ],
   "source": [
    "import nltk\n",
    "\n",
    "\n",
    "def find_implicit_duplicates(data, edit_distance=1):\n",
    "    data = set(data)\n",
    "    implicit_duplicates = [\n",
    "        [\n",
    "            value2\n",
    "            for value2 in list(data - set([value1]))\n",
    "            if nltk.edit_distance(value1, value2) <= edit_distance and value2 != ''\n",
    "        ]\n",
    "        for value1 in data\n",
    "    ]\n",
    "    \n",
    "    implicit_duplicates = [\n",
    "        item[0]\n",
    "        for item in implicit_duplicates\n",
    "        if len(item) != 0\n",
    "    ]\n",
    "    \n",
    "    print('Всего неявных дубликатов выявлено:', len(implicit_duplicates))\n",
    "    print('\\nСписок неявных дубликатов:\\n', implicit_duplicates)\n",
    "    return implicit_duplicates\n",
    "\n",
    "    \n",
    "city_duplicates = find_implicit_duplicates(users_df['city'])\n",
    "fname_duplicates = find_implicit_duplicates(users_df['first_name'])\n",
    "lname_duplicates = find_implicit_duplicates(users_df['last_name'])"
   ]
  },
  {
   "cell_type": "markdown",
   "id": "2715e89b",
   "metadata": {},
   "source": [
    "Среди городов дубликатов не выявлено; среди имён и фамилий есть много похожих и отличающихся одной буквой, но все они существуют и опечаток, похоже, нет.  \n",
    "Проверим таблицы на явные дубликаты."
   ]
  },
  {
   "cell_type": "code",
   "execution_count": 11,
   "id": "de2979e2",
   "metadata": {},
   "outputs": [
    {
     "name": "stdout",
     "output_type": "stream",
     "text": [
      "Дубликатов в таблице calls: 0\n",
      "Дубликатов в таблице internet: 0\n",
      "Дубликатов в таблице messages: 0\n",
      "Дубликатов в таблице tariffs: 0\n",
      "Дубликатов в таблице users: 0\n"
     ]
    }
   ],
   "source": [
    "df_dict = {\n",
    "    'calls': calls_df,\n",
    "    'internet': internet_df,\n",
    "    'messages': messages_df,\n",
    "    'tariffs': tariffs_df,\n",
    "    'users': users_df\n",
    "}\n",
    "\n",
    "for df_name, df in df_dict.items():\n",
    "    print('Дубликатов в таблице {}: {}'.format(df_name, df.duplicated().sum()))"
   ]
  },
  {
   "cell_type": "markdown",
   "id": "e0044445",
   "metadata": {},
   "source": [
    "Дубликатов нет."
   ]
  },
  {
   "cell_type": "markdown",
   "id": "95215b64",
   "metadata": {},
   "source": [
    "<a id=\"pivot_table\"></a>\n",
    "### Формирование сводной таблицы"
   ]
  },
  {
   "cell_type": "markdown",
   "id": "32a06828",
   "metadata": {},
   "source": [
    "Начнём формирование сводной таблицы, в которой отобразим для каждого пользователя информацию о количестве звонков, потраченных минут, отправленных СМС, израсходованных МБ и тратах за каждый месяц. Начнём с количества звонков и минут. Добавим в таблицу **calls** столбцы с месяцем и округлённым значением минут и посчитаем количество совершённых звонков и минут в каждом месяце."
   ]
  },
  {
   "cell_type": "code",
   "execution_count": 12,
   "id": "f05c5cb4",
   "metadata": {},
   "outputs": [
    {
     "data": {
      "text/html": [
       "<div>\n",
       "<style scoped>\n",
       "    .dataframe tbody tr th:only-of-type {\n",
       "        vertical-align: middle;\n",
       "    }\n",
       "\n",
       "    .dataframe tbody tr th {\n",
       "        vertical-align: top;\n",
       "    }\n",
       "\n",
       "    .dataframe thead tr th {\n",
       "        text-align: left;\n",
       "    }\n",
       "\n",
       "    .dataframe thead tr:last-of-type th {\n",
       "        text-align: right;\n",
       "    }\n",
       "</style>\n",
       "<table border=\"1\" class=\"dataframe\">\n",
       "  <thead>\n",
       "    <tr>\n",
       "      <th></th>\n",
       "      <th></th>\n",
       "      <th>count</th>\n",
       "      <th>sum</th>\n",
       "    </tr>\n",
       "    <tr>\n",
       "      <th></th>\n",
       "      <th></th>\n",
       "      <th>round_duration</th>\n",
       "      <th>round_duration</th>\n",
       "    </tr>\n",
       "    <tr>\n",
       "      <th>user_id</th>\n",
       "      <th>call_month</th>\n",
       "      <th></th>\n",
       "      <th></th>\n",
       "    </tr>\n",
       "  </thead>\n",
       "  <tbody>\n",
       "    <tr>\n",
       "      <th rowspan=\"5\" valign=\"top\">1000</th>\n",
       "      <th>5</th>\n",
       "      <td>22</td>\n",
       "      <td>159.0</td>\n",
       "    </tr>\n",
       "    <tr>\n",
       "      <th>6</th>\n",
       "      <td>43</td>\n",
       "      <td>172.0</td>\n",
       "    </tr>\n",
       "    <tr>\n",
       "      <th>7</th>\n",
       "      <td>47</td>\n",
       "      <td>340.0</td>\n",
       "    </tr>\n",
       "    <tr>\n",
       "      <th>8</th>\n",
       "      <td>52</td>\n",
       "      <td>408.0</td>\n",
       "    </tr>\n",
       "    <tr>\n",
       "      <th>9</th>\n",
       "      <td>58</td>\n",
       "      <td>466.0</td>\n",
       "    </tr>\n",
       "    <tr>\n",
       "      <th>...</th>\n",
       "      <th>...</th>\n",
       "      <td>...</td>\n",
       "      <td>...</td>\n",
       "    </tr>\n",
       "    <tr>\n",
       "      <th>1498</th>\n",
       "      <th>10</th>\n",
       "      <td>41</td>\n",
       "      <td>247.0</td>\n",
       "    </tr>\n",
       "    <tr>\n",
       "      <th rowspan=\"4\" valign=\"top\">1499</th>\n",
       "      <th>9</th>\n",
       "      <td>9</td>\n",
       "      <td>70.0</td>\n",
       "    </tr>\n",
       "    <tr>\n",
       "      <th>10</th>\n",
       "      <td>68</td>\n",
       "      <td>449.0</td>\n",
       "    </tr>\n",
       "    <tr>\n",
       "      <th>11</th>\n",
       "      <td>74</td>\n",
       "      <td>612.0</td>\n",
       "    </tr>\n",
       "    <tr>\n",
       "      <th>12</th>\n",
       "      <td>69</td>\n",
       "      <td>492.0</td>\n",
       "    </tr>\n",
       "  </tbody>\n",
       "</table>\n",
       "<p>3174 rows × 2 columns</p>\n",
       "</div>"
      ],
      "text/plain": [
       "                            count            sum\n",
       "                   round_duration round_duration\n",
       "user_id call_month                              \n",
       "1000    5                      22          159.0\n",
       "        6                      43          172.0\n",
       "        7                      47          340.0\n",
       "        8                      52          408.0\n",
       "        9                      58          466.0\n",
       "...                           ...            ...\n",
       "1498    10                     41          247.0\n",
       "1499    9                       9           70.0\n",
       "        10                     68          449.0\n",
       "        11                     74          612.0\n",
       "        12                     69          492.0\n",
       "\n",
       "[3174 rows x 2 columns]"
      ]
     },
     "execution_count": 12,
     "metadata": {},
     "output_type": "execute_result"
    }
   ],
   "source": [
    "calls_df['call_month'] = calls_df['call_date'].dt.month\n",
    "calls_df['round_duration'] = np.ceil(calls_df['duration'])\n",
    "\n",
    "calls_pivot = calls_df.pivot_table(index=['user_id', 'call_month'], values='round_duration', aggfunc=['count', 'sum'])\n",
    "calls_pivot"
   ]
  },
  {
   "cell_type": "markdown",
   "id": "5b817569",
   "metadata": {},
   "source": [
    "Теперь посчитаем таким же способом число СМС в каждом месяце, используя данные из таблицы **messages**."
   ]
  },
  {
   "cell_type": "code",
   "execution_count": 13,
   "id": "1fa38aab",
   "metadata": {},
   "outputs": [
    {
     "data": {
      "text/html": [
       "<div>\n",
       "<style scoped>\n",
       "    .dataframe tbody tr th:only-of-type {\n",
       "        vertical-align: middle;\n",
       "    }\n",
       "\n",
       "    .dataframe tbody tr th {\n",
       "        vertical-align: top;\n",
       "    }\n",
       "\n",
       "    .dataframe thead th {\n",
       "        text-align: right;\n",
       "    }\n",
       "</style>\n",
       "<table border=\"1\" class=\"dataframe\">\n",
       "  <thead>\n",
       "    <tr style=\"text-align: right;\">\n",
       "      <th></th>\n",
       "      <th></th>\n",
       "      <th>messages_per_month</th>\n",
       "    </tr>\n",
       "    <tr>\n",
       "      <th>user_id</th>\n",
       "      <th>msg_month</th>\n",
       "      <th></th>\n",
       "    </tr>\n",
       "  </thead>\n",
       "  <tbody>\n",
       "    <tr>\n",
       "      <th rowspan=\"5\" valign=\"top\">1000</th>\n",
       "      <th>5</th>\n",
       "      <td>22</td>\n",
       "    </tr>\n",
       "    <tr>\n",
       "      <th>6</th>\n",
       "      <td>60</td>\n",
       "    </tr>\n",
       "    <tr>\n",
       "      <th>7</th>\n",
       "      <td>75</td>\n",
       "    </tr>\n",
       "    <tr>\n",
       "      <th>8</th>\n",
       "      <td>81</td>\n",
       "    </tr>\n",
       "    <tr>\n",
       "      <th>9</th>\n",
       "      <td>57</td>\n",
       "    </tr>\n",
       "    <tr>\n",
       "      <th>...</th>\n",
       "      <th>...</th>\n",
       "      <td>...</td>\n",
       "    </tr>\n",
       "    <tr>\n",
       "      <th>1498</th>\n",
       "      <th>10</th>\n",
       "      <td>42</td>\n",
       "    </tr>\n",
       "    <tr>\n",
       "      <th rowspan=\"4\" valign=\"top\">1499</th>\n",
       "      <th>9</th>\n",
       "      <td>11</td>\n",
       "    </tr>\n",
       "    <tr>\n",
       "      <th>10</th>\n",
       "      <td>48</td>\n",
       "    </tr>\n",
       "    <tr>\n",
       "      <th>11</th>\n",
       "      <td>59</td>\n",
       "    </tr>\n",
       "    <tr>\n",
       "      <th>12</th>\n",
       "      <td>66</td>\n",
       "    </tr>\n",
       "  </tbody>\n",
       "</table>\n",
       "<p>2717 rows × 1 columns</p>\n",
       "</div>"
      ],
      "text/plain": [
       "                   messages_per_month\n",
       "user_id msg_month                    \n",
       "1000    5                          22\n",
       "        6                          60\n",
       "        7                          75\n",
       "        8                          81\n",
       "        9                          57\n",
       "...                               ...\n",
       "1498    10                         42\n",
       "1499    9                          11\n",
       "        10                         48\n",
       "        11                         59\n",
       "        12                         66\n",
       "\n",
       "[2717 rows x 1 columns]"
      ]
     },
     "execution_count": 13,
     "metadata": {},
     "output_type": "execute_result"
    }
   ],
   "source": [
    "messages_df['msg_month'] = messages_df['message_date'].dt.month\n",
    "msg_pivot = messages_df.pivot_table(index=['user_id', 'msg_month'], values='id', aggfunc='count')\n",
    "msg_pivot.columns = ['messages_per_month']\n",
    "msg_pivot"
   ]
  },
  {
   "cell_type": "markdown",
   "id": "9ce0a381",
   "metadata": {},
   "source": [
    "Теперь посчитаем количество МБ, потраченное в каждом месяце, используя данные из таблицы **internet**."
   ]
  },
  {
   "cell_type": "code",
   "execution_count": 14,
   "id": "2712d29c",
   "metadata": {},
   "outputs": [
    {
     "data": {
      "text/html": [
       "<div>\n",
       "<style scoped>\n",
       "    .dataframe tbody tr th:only-of-type {\n",
       "        vertical-align: middle;\n",
       "    }\n",
       "\n",
       "    .dataframe tbody tr th {\n",
       "        vertical-align: top;\n",
       "    }\n",
       "\n",
       "    .dataframe thead th {\n",
       "        text-align: right;\n",
       "    }\n",
       "</style>\n",
       "<table border=\"1\" class=\"dataframe\">\n",
       "  <thead>\n",
       "    <tr style=\"text-align: right;\">\n",
       "      <th></th>\n",
       "      <th></th>\n",
       "      <th>mb_used_per_month</th>\n",
       "    </tr>\n",
       "    <tr>\n",
       "      <th>user_id</th>\n",
       "      <th>session_month</th>\n",
       "      <th></th>\n",
       "    </tr>\n",
       "  </thead>\n",
       "  <tbody>\n",
       "    <tr>\n",
       "      <th rowspan=\"5\" valign=\"top\">1000</th>\n",
       "      <th>5</th>\n",
       "      <td>2256.0</td>\n",
       "    </tr>\n",
       "    <tr>\n",
       "      <th>6</th>\n",
       "      <td>23257.0</td>\n",
       "    </tr>\n",
       "    <tr>\n",
       "      <th>7</th>\n",
       "      <td>14016.0</td>\n",
       "    </tr>\n",
       "    <tr>\n",
       "      <th>8</th>\n",
       "      <td>14070.0</td>\n",
       "    </tr>\n",
       "    <tr>\n",
       "      <th>9</th>\n",
       "      <td>14581.0</td>\n",
       "    </tr>\n",
       "    <tr>\n",
       "      <th>...</th>\n",
       "      <th>...</th>\n",
       "      <td>...</td>\n",
       "    </tr>\n",
       "    <tr>\n",
       "      <th>1498</th>\n",
       "      <th>10</th>\n",
       "      <td>20604.0</td>\n",
       "    </tr>\n",
       "    <tr>\n",
       "      <th rowspan=\"4\" valign=\"top\">1499</th>\n",
       "      <th>9</th>\n",
       "      <td>1848.0</td>\n",
       "    </tr>\n",
       "    <tr>\n",
       "      <th>10</th>\n",
       "      <td>17809.0</td>\n",
       "    </tr>\n",
       "    <tr>\n",
       "      <th>11</th>\n",
       "      <td>17984.0</td>\n",
       "    </tr>\n",
       "    <tr>\n",
       "      <th>12</th>\n",
       "      <td>13077.0</td>\n",
       "    </tr>\n",
       "  </tbody>\n",
       "</table>\n",
       "<p>3203 rows × 1 columns</p>\n",
       "</div>"
      ],
      "text/plain": [
       "                       mb_used_per_month\n",
       "user_id session_month                   \n",
       "1000    5                         2256.0\n",
       "        6                        23257.0\n",
       "        7                        14016.0\n",
       "        8                        14070.0\n",
       "        9                        14581.0\n",
       "...                                  ...\n",
       "1498    10                       20604.0\n",
       "1499    9                         1848.0\n",
       "        10                       17809.0\n",
       "        11                       17984.0\n",
       "        12                       13077.0\n",
       "\n",
       "[3203 rows x 1 columns]"
      ]
     },
     "execution_count": 14,
     "metadata": {},
     "output_type": "execute_result"
    }
   ],
   "source": [
    "internet_df['session_month'] = internet_df['session_date'].dt.month\n",
    "\n",
    "internet_df['mb_used'] = np.ceil(internet_df['mb_used'])\n",
    "\n",
    "internet_pivot = internet_df.pivot_table(index=['user_id', 'session_month'], values='mb_used', aggfunc='sum')\n",
    "internet_pivot.columns = ['mb_used_per_month']\n",
    "internet_pivot"
   ]
  },
  {
   "cell_type": "markdown",
   "id": "648a2e49",
   "metadata": {},
   "source": [
    "Объединим датафреймы методом *join()* по мультииндексу и проверим наличие или отсутствие пропущенных значений."
   ]
  },
  {
   "cell_type": "code",
   "execution_count": 15,
   "id": "44163d01",
   "metadata": {},
   "outputs": [
    {
     "name": "stdout",
     "output_type": "stream",
     "text": [
      "<class 'pandas.core.frame.DataFrame'>\n",
      "MultiIndex: 3214 entries, (1000, 5) to (1476, 4)\n",
      "Data columns (total 4 columns):\n",
      " #   Column                   Non-Null Count  Dtype  \n",
      "---  ------                   --------------  -----  \n",
      " 0   (count, round_duration)  3174 non-null   float64\n",
      " 1   (sum, round_duration)    3174 non-null   float64\n",
      " 2   messages_per_month       2717 non-null   float64\n",
      " 3   mb_used_per_month        3203 non-null   float64\n",
      "dtypes: float64(4)\n",
      "memory usage: 130.4 KB\n"
     ]
    }
   ],
   "source": [
    "pivot_table = (\n",
    "    calls_pivot\n",
    "    .join(msg_pivot, on=['user_id', 'call_month'], how='outer')\n",
    "    .join(internet_pivot, on=['user_id', 'call_month'], how='outer')\n",
    ")\n",
    "pivot_table.info()"
   ]
  },
  {
   "cell_type": "markdown",
   "id": "3bd4bbc9",
   "metadata": {},
   "source": [
    "Заменим пропуски нулями и сбросим мультииндекс."
   ]
  },
  {
   "cell_type": "code",
   "execution_count": 16,
   "id": "c06ea93c",
   "metadata": {},
   "outputs": [
    {
     "data": {
      "text/html": [
       "<div>\n",
       "<style scoped>\n",
       "    .dataframe tbody tr th:only-of-type {\n",
       "        vertical-align: middle;\n",
       "    }\n",
       "\n",
       "    .dataframe tbody tr th {\n",
       "        vertical-align: top;\n",
       "    }\n",
       "\n",
       "    .dataframe thead th {\n",
       "        text-align: right;\n",
       "    }\n",
       "</style>\n",
       "<table border=\"1\" class=\"dataframe\">\n",
       "  <thead>\n",
       "    <tr style=\"text-align: right;\">\n",
       "      <th></th>\n",
       "      <th>user_id</th>\n",
       "      <th>call_month</th>\n",
       "      <th>(count, round_duration)</th>\n",
       "      <th>(sum, round_duration)</th>\n",
       "      <th>messages_per_month</th>\n",
       "      <th>mb_used_per_month</th>\n",
       "    </tr>\n",
       "  </thead>\n",
       "  <tbody>\n",
       "    <tr>\n",
       "      <th>0</th>\n",
       "      <td>1000</td>\n",
       "      <td>5</td>\n",
       "      <td>22.0</td>\n",
       "      <td>159.0</td>\n",
       "      <td>22.0</td>\n",
       "      <td>2256.0</td>\n",
       "    </tr>\n",
       "    <tr>\n",
       "      <th>1</th>\n",
       "      <td>1000</td>\n",
       "      <td>6</td>\n",
       "      <td>43.0</td>\n",
       "      <td>172.0</td>\n",
       "      <td>60.0</td>\n",
       "      <td>23257.0</td>\n",
       "    </tr>\n",
       "    <tr>\n",
       "      <th>2</th>\n",
       "      <td>1000</td>\n",
       "      <td>7</td>\n",
       "      <td>47.0</td>\n",
       "      <td>340.0</td>\n",
       "      <td>75.0</td>\n",
       "      <td>14016.0</td>\n",
       "    </tr>\n",
       "    <tr>\n",
       "      <th>3</th>\n",
       "      <td>1000</td>\n",
       "      <td>8</td>\n",
       "      <td>52.0</td>\n",
       "      <td>408.0</td>\n",
       "      <td>81.0</td>\n",
       "      <td>14070.0</td>\n",
       "    </tr>\n",
       "    <tr>\n",
       "      <th>4</th>\n",
       "      <td>1000</td>\n",
       "      <td>9</td>\n",
       "      <td>58.0</td>\n",
       "      <td>466.0</td>\n",
       "      <td>57.0</td>\n",
       "      <td>14581.0</td>\n",
       "    </tr>\n",
       "  </tbody>\n",
       "</table>\n",
       "</div>"
      ],
      "text/plain": [
       "   user_id  call_month  (count, round_duration)  (sum, round_duration)  \\\n",
       "0     1000           5                     22.0                  159.0   \n",
       "1     1000           6                     43.0                  172.0   \n",
       "2     1000           7                     47.0                  340.0   \n",
       "3     1000           8                     52.0                  408.0   \n",
       "4     1000           9                     58.0                  466.0   \n",
       "\n",
       "   messages_per_month  mb_used_per_month  \n",
       "0                22.0             2256.0  \n",
       "1                60.0            23257.0  \n",
       "2                75.0            14016.0  \n",
       "3                81.0            14070.0  \n",
       "4                57.0            14581.0  "
      ]
     },
     "execution_count": 16,
     "metadata": {},
     "output_type": "execute_result"
    }
   ],
   "source": [
    "pivot_table.fillna(0, inplace=True)\n",
    "pivot_table.reset_index(inplace=True)\n",
    "pivot_table.head()"
   ]
  },
  {
   "cell_type": "markdown",
   "id": "fe537946",
   "metadata": {},
   "source": [
    "Теперь приведём названия столбцов к удобному формату."
   ]
  },
  {
   "cell_type": "code",
   "execution_count": 17,
   "id": "67cf1370",
   "metadata": {},
   "outputs": [
    {
     "data": {
      "text/html": [
       "<div>\n",
       "<style scoped>\n",
       "    .dataframe tbody tr th:only-of-type {\n",
       "        vertical-align: middle;\n",
       "    }\n",
       "\n",
       "    .dataframe tbody tr th {\n",
       "        vertical-align: top;\n",
       "    }\n",
       "\n",
       "    .dataframe thead th {\n",
       "        text-align: right;\n",
       "    }\n",
       "</style>\n",
       "<table border=\"1\" class=\"dataframe\">\n",
       "  <thead>\n",
       "    <tr style=\"text-align: right;\">\n",
       "      <th></th>\n",
       "      <th>user_id</th>\n",
       "      <th>month</th>\n",
       "      <th>calls_per_month</th>\n",
       "      <th>minutes_per_month</th>\n",
       "      <th>messages_per_month</th>\n",
       "      <th>mb_used_per_month</th>\n",
       "    </tr>\n",
       "  </thead>\n",
       "  <tbody>\n",
       "    <tr>\n",
       "      <th>0</th>\n",
       "      <td>1000</td>\n",
       "      <td>5</td>\n",
       "      <td>22.0</td>\n",
       "      <td>159.0</td>\n",
       "      <td>22.0</td>\n",
       "      <td>2256.0</td>\n",
       "    </tr>\n",
       "    <tr>\n",
       "      <th>1</th>\n",
       "      <td>1000</td>\n",
       "      <td>6</td>\n",
       "      <td>43.0</td>\n",
       "      <td>172.0</td>\n",
       "      <td>60.0</td>\n",
       "      <td>23257.0</td>\n",
       "    </tr>\n",
       "    <tr>\n",
       "      <th>2</th>\n",
       "      <td>1000</td>\n",
       "      <td>7</td>\n",
       "      <td>47.0</td>\n",
       "      <td>340.0</td>\n",
       "      <td>75.0</td>\n",
       "      <td>14016.0</td>\n",
       "    </tr>\n",
       "    <tr>\n",
       "      <th>3</th>\n",
       "      <td>1000</td>\n",
       "      <td>8</td>\n",
       "      <td>52.0</td>\n",
       "      <td>408.0</td>\n",
       "      <td>81.0</td>\n",
       "      <td>14070.0</td>\n",
       "    </tr>\n",
       "    <tr>\n",
       "      <th>4</th>\n",
       "      <td>1000</td>\n",
       "      <td>9</td>\n",
       "      <td>58.0</td>\n",
       "      <td>466.0</td>\n",
       "      <td>57.0</td>\n",
       "      <td>14581.0</td>\n",
       "    </tr>\n",
       "  </tbody>\n",
       "</table>\n",
       "</div>"
      ],
      "text/plain": [
       "   user_id  month  calls_per_month  minutes_per_month  messages_per_month  \\\n",
       "0     1000      5             22.0              159.0                22.0   \n",
       "1     1000      6             43.0              172.0                60.0   \n",
       "2     1000      7             47.0              340.0                75.0   \n",
       "3     1000      8             52.0              408.0                81.0   \n",
       "4     1000      9             58.0              466.0                57.0   \n",
       "\n",
       "   mb_used_per_month  \n",
       "0             2256.0  \n",
       "1            23257.0  \n",
       "2            14016.0  \n",
       "3            14070.0  \n",
       "4            14581.0  "
      ]
     },
     "execution_count": 17,
     "metadata": {},
     "output_type": "execute_result"
    }
   ],
   "source": [
    "cols = pivot_table.columns.to_list()\n",
    "cols[1] = 'month'\n",
    "cols[2] = 'calls_per_month'\n",
    "cols[3] = 'minutes_per_month'\n",
    "pivot_table.columns = cols\n",
    "pivot_table.head()"
   ]
  },
  {
   "cell_type": "markdown",
   "id": "8b69acfe",
   "metadata": {},
   "source": [
    "Проверим корректность замены пропущенных значений и типы данных на соответствие."
   ]
  },
  {
   "cell_type": "code",
   "execution_count": 18,
   "id": "9a9bee8b",
   "metadata": {
    "scrolled": true
   },
   "outputs": [
    {
     "name": "stdout",
     "output_type": "stream",
     "text": [
      "<class 'pandas.core.frame.DataFrame'>\n",
      "RangeIndex: 3214 entries, 0 to 3213\n",
      "Data columns (total 6 columns):\n",
      " #   Column              Non-Null Count  Dtype  \n",
      "---  ------              --------------  -----  \n",
      " 0   user_id             3214 non-null   int64  \n",
      " 1   month               3214 non-null   int64  \n",
      " 2   calls_per_month     3214 non-null   float64\n",
      " 3   minutes_per_month   3214 non-null   float64\n",
      " 4   messages_per_month  3214 non-null   float64\n",
      " 5   mb_used_per_month   3214 non-null   float64\n",
      "dtypes: float64(4), int64(2)\n",
      "memory usage: 150.8 KB\n"
     ]
    }
   ],
   "source": [
    "pivot_table.info()"
   ]
  },
  {
   "cell_type": "markdown",
   "id": "dd24c2f5",
   "metadata": {},
   "source": [
    "Заменим тип в столбцах '*calls_per_month*', '*minutes_per_month*' и '*messages_per_month*' на целочисленный."
   ]
  },
  {
   "cell_type": "code",
   "execution_count": 19,
   "id": "cc8d6401",
   "metadata": {},
   "outputs": [
    {
     "name": "stdout",
     "output_type": "stream",
     "text": [
      "<class 'pandas.core.frame.DataFrame'>\n",
      "RangeIndex: 3214 entries, 0 to 3213\n",
      "Data columns (total 6 columns):\n",
      " #   Column              Non-Null Count  Dtype  \n",
      "---  ------              --------------  -----  \n",
      " 0   user_id             3214 non-null   int64  \n",
      " 1   month               3214 non-null   int64  \n",
      " 2   calls_per_month     3214 non-null   int64  \n",
      " 3   minutes_per_month   3214 non-null   int64  \n",
      " 4   messages_per_month  3214 non-null   int64  \n",
      " 5   mb_used_per_month   3214 non-null   float64\n",
      "dtypes: float64(1), int64(5)\n",
      "memory usage: 150.8 KB\n"
     ]
    }
   ],
   "source": [
    "pivot_table[['calls_per_month', 'minutes_per_month', 'messages_per_month']] =\\\n",
    "        pivot_table[['calls_per_month', 'minutes_per_month', 'messages_per_month']].astype('int64')\n",
    "pivot_table.info()"
   ]
  },
  {
   "cell_type": "markdown",
   "id": "915f435e",
   "metadata": {},
   "source": [
    "Теперь присоединим столбец '*tariff*' из таблицы **users** с тарифами пользователей для того, чтобы было удобно считать месячную выручку с каждого пользователя."
   ]
  },
  {
   "cell_type": "code",
   "execution_count": 20,
   "id": "d5cd7212",
   "metadata": {},
   "outputs": [
    {
     "data": {
      "text/html": [
       "<div>\n",
       "<style scoped>\n",
       "    .dataframe tbody tr th:only-of-type {\n",
       "        vertical-align: middle;\n",
       "    }\n",
       "\n",
       "    .dataframe tbody tr th {\n",
       "        vertical-align: top;\n",
       "    }\n",
       "\n",
       "    .dataframe thead th {\n",
       "        text-align: right;\n",
       "    }\n",
       "</style>\n",
       "<table border=\"1\" class=\"dataframe\">\n",
       "  <thead>\n",
       "    <tr style=\"text-align: right;\">\n",
       "      <th></th>\n",
       "      <th>user_id</th>\n",
       "      <th>month</th>\n",
       "      <th>calls_per_month</th>\n",
       "      <th>minutes_per_month</th>\n",
       "      <th>messages_per_month</th>\n",
       "      <th>mb_used_per_month</th>\n",
       "      <th>tariff</th>\n",
       "      <th>city</th>\n",
       "    </tr>\n",
       "  </thead>\n",
       "  <tbody>\n",
       "    <tr>\n",
       "      <th>0</th>\n",
       "      <td>1000</td>\n",
       "      <td>5</td>\n",
       "      <td>22</td>\n",
       "      <td>159</td>\n",
       "      <td>22</td>\n",
       "      <td>2256.0</td>\n",
       "      <td>ultra</td>\n",
       "      <td>Краснодар</td>\n",
       "    </tr>\n",
       "    <tr>\n",
       "      <th>1</th>\n",
       "      <td>1000</td>\n",
       "      <td>6</td>\n",
       "      <td>43</td>\n",
       "      <td>172</td>\n",
       "      <td>60</td>\n",
       "      <td>23257.0</td>\n",
       "      <td>ultra</td>\n",
       "      <td>Краснодар</td>\n",
       "    </tr>\n",
       "    <tr>\n",
       "      <th>2</th>\n",
       "      <td>1000</td>\n",
       "      <td>7</td>\n",
       "      <td>47</td>\n",
       "      <td>340</td>\n",
       "      <td>75</td>\n",
       "      <td>14016.0</td>\n",
       "      <td>ultra</td>\n",
       "      <td>Краснодар</td>\n",
       "    </tr>\n",
       "    <tr>\n",
       "      <th>3</th>\n",
       "      <td>1000</td>\n",
       "      <td>8</td>\n",
       "      <td>52</td>\n",
       "      <td>408</td>\n",
       "      <td>81</td>\n",
       "      <td>14070.0</td>\n",
       "      <td>ultra</td>\n",
       "      <td>Краснодар</td>\n",
       "    </tr>\n",
       "    <tr>\n",
       "      <th>4</th>\n",
       "      <td>1000</td>\n",
       "      <td>9</td>\n",
       "      <td>58</td>\n",
       "      <td>466</td>\n",
       "      <td>57</td>\n",
       "      <td>14581.0</td>\n",
       "      <td>ultra</td>\n",
       "      <td>Краснодар</td>\n",
       "    </tr>\n",
       "  </tbody>\n",
       "</table>\n",
       "</div>"
      ],
      "text/plain": [
       "   user_id  month  calls_per_month  minutes_per_month  messages_per_month  \\\n",
       "0     1000      5               22                159                  22   \n",
       "1     1000      6               43                172                  60   \n",
       "2     1000      7               47                340                  75   \n",
       "3     1000      8               52                408                  81   \n",
       "4     1000      9               58                466                  57   \n",
       "\n",
       "   mb_used_per_month tariff       city  \n",
       "0             2256.0  ultra  Краснодар  \n",
       "1            23257.0  ultra  Краснодар  \n",
       "2            14016.0  ultra  Краснодар  \n",
       "3            14070.0  ultra  Краснодар  \n",
       "4            14581.0  ultra  Краснодар  "
      ]
     },
     "execution_count": 20,
     "metadata": {},
     "output_type": "execute_result"
    }
   ],
   "source": [
    "pivot_table = pivot_table.merge(users_df[['user_id', 'tariff', 'city']], on='user_id', how='left')\n",
    "pivot_table.head()"
   ]
  },
  {
   "cell_type": "markdown",
   "id": "df035939",
   "metadata": {},
   "source": [
    "Наконец, посчитаем месчную выручку с каждого пользователя компании \"Мегалайн\" в 2018 году."
   ]
  },
  {
   "cell_type": "code",
   "execution_count": 21,
   "id": "20d672b4",
   "metadata": {},
   "outputs": [
    {
     "data": {
      "text/html": [
       "<div>\n",
       "<style scoped>\n",
       "    .dataframe tbody tr th:only-of-type {\n",
       "        vertical-align: middle;\n",
       "    }\n",
       "\n",
       "    .dataframe tbody tr th {\n",
       "        vertical-align: top;\n",
       "    }\n",
       "\n",
       "    .dataframe thead th {\n",
       "        text-align: right;\n",
       "    }\n",
       "</style>\n",
       "<table border=\"1\" class=\"dataframe\">\n",
       "  <thead>\n",
       "    <tr style=\"text-align: right;\">\n",
       "      <th></th>\n",
       "      <th>user_id</th>\n",
       "      <th>month</th>\n",
       "      <th>calls_per_month</th>\n",
       "      <th>minutes_per_month</th>\n",
       "      <th>messages_per_month</th>\n",
       "      <th>mb_used_per_month</th>\n",
       "      <th>tariff</th>\n",
       "      <th>city</th>\n",
       "      <th>month_revenue_from_user</th>\n",
       "    </tr>\n",
       "  </thead>\n",
       "  <tbody>\n",
       "    <tr>\n",
       "      <th>0</th>\n",
       "      <td>1000</td>\n",
       "      <td>5</td>\n",
       "      <td>22</td>\n",
       "      <td>159</td>\n",
       "      <td>22</td>\n",
       "      <td>2256.0</td>\n",
       "      <td>ultra</td>\n",
       "      <td>Краснодар</td>\n",
       "      <td>1950.0</td>\n",
       "    </tr>\n",
       "    <tr>\n",
       "      <th>1</th>\n",
       "      <td>1000</td>\n",
       "      <td>6</td>\n",
       "      <td>43</td>\n",
       "      <td>172</td>\n",
       "      <td>60</td>\n",
       "      <td>23257.0</td>\n",
       "      <td>ultra</td>\n",
       "      <td>Краснодар</td>\n",
       "      <td>1950.0</td>\n",
       "    </tr>\n",
       "    <tr>\n",
       "      <th>2</th>\n",
       "      <td>1000</td>\n",
       "      <td>7</td>\n",
       "      <td>47</td>\n",
       "      <td>340</td>\n",
       "      <td>75</td>\n",
       "      <td>14016.0</td>\n",
       "      <td>ultra</td>\n",
       "      <td>Краснодар</td>\n",
       "      <td>1950.0</td>\n",
       "    </tr>\n",
       "    <tr>\n",
       "      <th>3</th>\n",
       "      <td>1000</td>\n",
       "      <td>8</td>\n",
       "      <td>52</td>\n",
       "      <td>408</td>\n",
       "      <td>81</td>\n",
       "      <td>14070.0</td>\n",
       "      <td>ultra</td>\n",
       "      <td>Краснодар</td>\n",
       "      <td>1950.0</td>\n",
       "    </tr>\n",
       "    <tr>\n",
       "      <th>4</th>\n",
       "      <td>1000</td>\n",
       "      <td>9</td>\n",
       "      <td>58</td>\n",
       "      <td>466</td>\n",
       "      <td>57</td>\n",
       "      <td>14581.0</td>\n",
       "      <td>ultra</td>\n",
       "      <td>Краснодар</td>\n",
       "      <td>1950.0</td>\n",
       "    </tr>\n",
       "  </tbody>\n",
       "</table>\n",
       "</div>"
      ],
      "text/plain": [
       "   user_id  month  calls_per_month  minutes_per_month  messages_per_month  \\\n",
       "0     1000      5               22                159                  22   \n",
       "1     1000      6               43                172                  60   \n",
       "2     1000      7               47                340                  75   \n",
       "3     1000      8               52                408                  81   \n",
       "4     1000      9               58                466                  57   \n",
       "\n",
       "   mb_used_per_month tariff       city  month_revenue_from_user  \n",
       "0             2256.0  ultra  Краснодар                   1950.0  \n",
       "1            23257.0  ultra  Краснодар                   1950.0  \n",
       "2            14016.0  ultra  Краснодар                   1950.0  \n",
       "3            14070.0  ultra  Краснодар                   1950.0  \n",
       "4            14581.0  ultra  Краснодар                   1950.0  "
      ]
     },
     "execution_count": 21,
     "metadata": {},
     "output_type": "execute_result"
    }
   ],
   "source": [
    "def calculate_month_revenue_from_user(row):\n",
    "    tariff_info = tariffs_df.query('tariff_name == @row.tariff')\n",
    "    revenue = tariff_info['rub_monthly_fee'].values[0]\n",
    "    \n",
    "    minutes_diff = (row['minutes_per_month'] - tariff_info['minutes_included']).values[0]\n",
    "    msg_diff = (row['messages_per_month'] - tariff_info['messages_included']).values[0]\n",
    "    mb_diff = (row['mb_used_per_month'] - tariff_info['mb_per_month_included']).values[0]\n",
    "    \n",
    "    if minutes_diff > 0:\n",
    "        revenue += tariff_info['rub_per_minute'].values[0] * minutes_diff\n",
    "    if msg_diff > 0:\n",
    "        revenue += tariff_info['rub_per_message'].values[0] * msg_diff\n",
    "    if mb_diff > 0:\n",
    "        revenue += tariff_info['rub_per_gb'].values[0] * np.ceil(mb_diff / 1024)\n",
    "    return revenue\n",
    "\n",
    "pivot_table['month_revenue_from_user'] = pivot_table.apply(calculate_month_revenue_from_user, axis=1)\n",
    "pivot_table.head()"
   ]
  },
  {
   "cell_type": "markdown",
   "id": "8ed01169",
   "metadata": {},
   "source": [
    "### Вывод\n",
    "\n",
    "* Типы столбцов с датами были приведены к *datetime64*.\n",
    "* Таблицы проверены на дубликаты (дубликатов не оказалось).\n",
    "* Сформирована сводная таблица для анализа поведения каждого пользователя по месяцам со столбцами количества звонков, минут, СМС, МБ в месяц, тарифа, города пользователя и выручки с него."
   ]
  },
  {
   "cell_type": "markdown",
   "id": "07926a47",
   "metadata": {},
   "source": [
    "<a id=\"data_analysis\"></a>\n",
    "### 3. Анализ данных."
   ]
  },
  {
   "cell_type": "markdown",
   "id": "4c59d740",
   "metadata": {},
   "source": [
    "Опишем поведение клиентов оператора, исходя из выборки. Выведем среднее, стандартное отклонение и дисперсию минут разговоров, СМС и использованных МБ в месяц для тарифов \"smart\" и \"ultra\"."
   ]
  },
  {
   "cell_type": "code",
   "execution_count": 22,
   "id": "a7c2c597",
   "metadata": {},
   "outputs": [
    {
     "name": "stdout",
     "output_type": "stream",
     "text": [
      "Базовые статистики по месяцам для тарифа smart\n"
     ]
    },
    {
     "data": {
      "text/html": [
       "<div>\n",
       "<style scoped>\n",
       "    .dataframe tbody tr th:only-of-type {\n",
       "        vertical-align: middle;\n",
       "    }\n",
       "\n",
       "    .dataframe tbody tr th {\n",
       "        vertical-align: top;\n",
       "    }\n",
       "\n",
       "    .dataframe thead th {\n",
       "        text-align: right;\n",
       "    }\n",
       "</style>\n",
       "<table border=\"1\" class=\"dataframe\">\n",
       "  <thead>\n",
       "    <tr style=\"text-align: right;\">\n",
       "      <th></th>\n",
       "      <th>minutes_per_month</th>\n",
       "      <th>messages_per_month</th>\n",
       "      <th>mb_used_per_month</th>\n",
       "    </tr>\n",
       "  </thead>\n",
       "  <tbody>\n",
       "    <tr>\n",
       "      <th>mean</th>\n",
       "      <td>417.934948</td>\n",
       "      <td>33.384029</td>\n",
       "      <td>1.622919e+04</td>\n",
       "    </tr>\n",
       "    <tr>\n",
       "      <th>std</th>\n",
       "      <td>190.313730</td>\n",
       "      <td>28.227876</td>\n",
       "      <td>5.877577e+03</td>\n",
       "    </tr>\n",
       "    <tr>\n",
       "      <th>var</th>\n",
       "      <td>36219.315784</td>\n",
       "      <td>796.812958</td>\n",
       "      <td>3.454591e+07</td>\n",
       "    </tr>\n",
       "  </tbody>\n",
       "</table>\n",
       "</div>"
      ],
      "text/plain": [
       "      minutes_per_month  messages_per_month  mb_used_per_month\n",
       "mean         417.934948           33.384029       1.622919e+04\n",
       "std          190.313730           28.227876       5.877577e+03\n",
       "var        36219.315784          796.812958       3.454591e+07"
      ]
     },
     "metadata": {},
     "output_type": "display_data"
    },
    {
     "name": "stdout",
     "output_type": "stream",
     "text": [
      "Базовые статистики по месяцам для тарифа ultra\n"
     ]
    },
    {
     "data": {
      "text/html": [
       "<div>\n",
       "<style scoped>\n",
       "    .dataframe tbody tr th:only-of-type {\n",
       "        vertical-align: middle;\n",
       "    }\n",
       "\n",
       "    .dataframe tbody tr th {\n",
       "        vertical-align: top;\n",
       "    }\n",
       "\n",
       "    .dataframe thead th {\n",
       "        text-align: right;\n",
       "    }\n",
       "</style>\n",
       "<table border=\"1\" class=\"dataframe\">\n",
       "  <thead>\n",
       "    <tr style=\"text-align: right;\">\n",
       "      <th></th>\n",
       "      <th>minutes_per_month</th>\n",
       "      <th>messages_per_month</th>\n",
       "      <th>mb_used_per_month</th>\n",
       "    </tr>\n",
       "  </thead>\n",
       "  <tbody>\n",
       "    <tr>\n",
       "      <th>mean</th>\n",
       "      <td>526.623350</td>\n",
       "      <td>49.363452</td>\n",
       "      <td>1.948690e+04</td>\n",
       "    </tr>\n",
       "    <tr>\n",
       "      <th>std</th>\n",
       "      <td>317.606098</td>\n",
       "      <td>47.804457</td>\n",
       "      <td>1.009632e+04</td>\n",
       "    </tr>\n",
       "    <tr>\n",
       "      <th>var</th>\n",
       "      <td>100873.633397</td>\n",
       "      <td>2285.266143</td>\n",
       "      <td>1.019356e+08</td>\n",
       "    </tr>\n",
       "  </tbody>\n",
       "</table>\n",
       "</div>"
      ],
      "text/plain": [
       "      minutes_per_month  messages_per_month  mb_used_per_month\n",
       "mean         526.623350           49.363452       1.948690e+04\n",
       "std          317.606098           47.804457       1.009632e+04\n",
       "var       100873.633397         2285.266143       1.019356e+08"
      ]
     },
     "metadata": {},
     "output_type": "display_data"
    }
   ],
   "source": [
    "req_cols = ['minutes_per_month', 'messages_per_month', 'mb_used_per_month']\n",
    "\n",
    "for tariff_name in tariffs_df['tariff_name']:\n",
    "    print('Базовые статистики по месяцам для тарифа', tariff_name)\n",
    "    display(\n",
    "        pivot_table\n",
    "        .query('tariff == @tariff_name')[req_cols]\n",
    "        .agg(func=['mean', 'std', np.var])\n",
    "    )"
   ]
  },
  {
   "cell_type": "markdown",
   "id": "9bc5feb6",
   "metadata": {},
   "source": [
    "По значениям видно, что пользователи тарифа \"smart\" в среднем тратят 418 минут на разговоры в месяц, 33 СМС и 16 ГБ. Пользователи тарифа \"ultra\" в среднем тратят 527 минут, 49 СМС и 19 ГБ в месяц. Не глядя на распределение, можно предположить, что пользователи тарифа \"ultra\" не используют большую часть пакетных СМС.  \n",
    "Построим распределения данных параметров, совместив на одном графике оба тарифа."
   ]
  },
  {
   "cell_type": "code",
   "execution_count": 23,
   "id": "05b26a91",
   "metadata": {
    "scrolled": false
   },
   "outputs": [
    {
     "data": {
      "image/png": "[encoded data removed]",
      "text/plain": [
       "<Figure size 864x432 with 1 Axes>"
      ]
     },
     "metadata": {
      "needs_background": "light"
     },
     "output_type": "display_data"
    },
    {
     "data": {
      "image/png": "[encoded data removed]",
      "text/plain": [
       "<Figure size 864x432 with 1 Axes>"
      ]
     },
     "metadata": {
      "needs_background": "light"
     },
     "output_type": "display_data"
    },
    {
     "data": {
      "image/png": "[encoded data removed]",
      "text/plain": [
       "<Figure size 864x432 with 1 Axes>"
      ]
     },
     "metadata": {
      "needs_background": "light"
     },
     "output_type": "display_data"
    }
   ],
   "source": [
    "req_cols_rus = ['минут/месяц', 'СМС/месяц', 'МБ/месяц']\n",
    "\n",
    "for i, col in enumerate(req_cols):\n",
    "    plt.figure(figsize=(12, 6))\n",
    "    sns.histplot(data=pivot_table, x=col, hue='tariff', kde=True)\n",
    "    plt.xlabel(req_cols_rus[i])\n",
    "    plt.ylabel('Количество')\n",
    "    plt.title('Выборочные распределения ' + req_cols_rus[i] + ' для двух тарифов');"
   ]
  },
  {
   "cell_type": "markdown",
   "id": "2bec0849",
   "metadata": {},
   "source": [
    "По графикам заметно, что дисперсии параметров для пользователей тарифа \"ultra\" больше, чем тарифа \"smart\". Распределение минут и МБ отдалённо напоминают нормальное, а распределение СМС имеет перекос влево, что скорее всего свидетельствует о том, что пользователи сейчас в основном переписываются в мессенджерах, так как это более удобно.\n",
    "\n",
    "Полезно оценить ещё среднее потребление на протяжении года или среднюю выручку."
   ]
  },
  {
   "cell_type": "code",
   "execution_count": 24,
   "id": "8abc84b9",
   "metadata": {},
   "outputs": [
    {
     "data": {
      "image/png": "[encoded data removed]",
      "text/plain": [
       "<Figure size 864x432 with 1 Axes>"
      ]
     },
     "metadata": {
      "needs_background": "light"
     },
     "output_type": "display_data"
    }
   ],
   "source": [
    "plt.figure(figsize=(12, 6))\n",
    "sns.lineplot(\n",
    "    x='month',\n",
    "    y='month_revenue_from_user',\n",
    "    hue='tariff',\n",
    "    data=pivot_table.pivot_table(\n",
    "        index = ['tariff', 'month'],\n",
    "        values = 'month_revenue_from_user',\n",
    "        aggfunc = 'mean'\n",
    "    ).reset_index()\n",
    ")\n",
    "\n",
    "plt.xlabel('Месяц')\n",
    "plt.ylabel('Месячная выручка с клиента')\n",
    "plt.title('Среднее потребление на протяжении года');"
   ]
  },
  {
   "cell_type": "markdown",
   "id": "eed42bca",
   "metadata": {},
   "source": [
    "Видим, что средняя выручка более стабильна на Ультре, нежели на Смартe (неудивительно, ведь по Смарту непредсказуемые перерасходы).\n",
    "\n",
    "Посмотрим sales_per_user."
   ]
  },
  {
   "cell_type": "code",
   "execution_count": 25,
   "id": "2a6f7321",
   "metadata": {},
   "outputs": [
    {
     "data": {
      "text/html": [
       "<div>\n",
       "<style scoped>\n",
       "    .dataframe tbody tr th:only-of-type {\n",
       "        vertical-align: middle;\n",
       "    }\n",
       "\n",
       "    .dataframe tbody tr th {\n",
       "        vertical-align: top;\n",
       "    }\n",
       "\n",
       "    .dataframe thead th {\n",
       "        text-align: right;\n",
       "    }\n",
       "</style>\n",
       "<table border=\"1\" class=\"dataframe\">\n",
       "  <thead>\n",
       "    <tr style=\"text-align: right;\">\n",
       "      <th></th>\n",
       "      <th>tariff</th>\n",
       "      <th>month_revenue_from_user</th>\n",
       "      <th>users</th>\n",
       "      <th>rev_per_user</th>\n",
       "    </tr>\n",
       "  </thead>\n",
       "  <tbody>\n",
       "    <tr>\n",
       "      <th>0</th>\n",
       "      <td>smart</td>\n",
       "      <td>2885751.0</td>\n",
       "      <td>351</td>\n",
       "      <td>8221.512821</td>\n",
       "    </tr>\n",
       "    <tr>\n",
       "      <th>1</th>\n",
       "      <td>ultra</td>\n",
       "      <td>2040000.0</td>\n",
       "      <td>149</td>\n",
       "      <td>13691.275168</td>\n",
       "    </tr>\n",
       "  </tbody>\n",
       "</table>\n",
       "</div>"
      ],
      "text/plain": [
       "  tariff  month_revenue_from_user  users  rev_per_user\n",
       "0  smart                2885751.0    351   8221.512821\n",
       "1  ultra                2040000.0    149  13691.275168"
      ]
     },
     "metadata": {},
     "output_type": "display_data"
    }
   ],
   "source": [
    "piv = pivot_table.pivot_table(index = 'tariff', values = 'month_revenue_from_user', aggfunc = 'sum').reset_index()\n",
    "piv['users'] = [351, 149]\n",
    "piv['rev_per_user'] = piv['month_revenue_from_user'] / piv['users']\n",
    "display(piv)"
   ]
  },
  {
   "cell_type": "markdown",
   "id": "524e4bd0",
   "metadata": {},
   "source": [
    "Клиент Ультры прибыльнее, чем клиент Смарта"
   ]
  },
  {
   "cell_type": "markdown",
   "id": "84303f4f",
   "metadata": {},
   "source": [
    "### Вывод\n",
    "\n",
    "Из статистического описания видно, что среднее количество потраченных минут, СМС и МБ в месяц не сильно отличается для обоих тарифов, но дисперсия выше для тарифа \"ультра\". Распределения минут и мегабайт похожи на нормальное, в то же время распределение СМС скошено влево и больше похоже на экспоненциальное, чем на нормальное, что скорее всего свидетельствует о том, что пользователи сейчас в основном переписываются в мессенджерах. Cредняя выручка более стабильна на Ультре, нежели на Смартe, клиент Ультры прибыльнее, чем клиент Смарта."
   ]
  },
  {
   "cell_type": "markdown",
   "id": "a464f6fb",
   "metadata": {},
   "source": [
    "<a id=\"hypotesis_testing\"></a>\n",
    "### 4. Проверка гипотез"
   ]
  },
  {
   "cell_type": "markdown",
   "id": "22a27bab",
   "metadata": {},
   "source": [
    "Первый вопрос: различается ли средняя выручка пользователей тарифов «Ультра» и «Смарт».  \n",
    "Для начала посмотрим на распределения месячной выручки для обоих тарифов."
   ]
  },
  {
   "cell_type": "code",
   "execution_count": 26,
   "id": "58558433",
   "metadata": {},
   "outputs": [
    {
     "data": {
      "image/png": "[encoded data removed]",
      "text/plain": [
       "<Figure size 864x432 with 1 Axes>"
      ]
     },
     "metadata": {
      "needs_background": "light"
     },
     "output_type": "display_data"
    }
   ],
   "source": [
    "plt.figure(figsize=(12, 6))\n",
    "sns.histplot(data=pivot_table, x='month_revenue_from_user', hue='tariff', kde=True)\n",
    "plt.xlabel('Месячная прибыль')\n",
    "plt.ylabel('Количество')\n",
    "plt.title('Выборочные распределения месячной прибыли для двух тарифов');"
   ]
  },
  {
   "cell_type": "markdown",
   "id": "5966c458",
   "metadata": {},
   "source": [
    "Видно, что распределения не похожи на нормальные по своей природе: плата за тариф является минимальной выручкой с клиента и в то же время самым частым значением. Также видно, что пользователи тарифа \"ультра\" переплачивают только за интернет, в то время как пользователи тарифа \"смарт\" переплачивают и за минуты, и за интернет, причём некоторые платят больше пользователей тарифа \"ультра\".\n",
    "\n",
    "Чтобы ответить на поставленный выше вопрос, сформулируем гипотезы:\n",
    "* нулевая - средние выручки с клиента тарифов \"смарт\" и \"ультра\" равны\n",
    "* альтернативная - средние выручки с клиента тарифов \"смарт\" и \"ультра\" не равны  \n",
    "\n",
    "Уровень значимости зададим равным 0,1. Проверять гипотезу будем T-тестом для двух независимых выборок, так как траты пользователей каждого тарифа зависят только от использованных минут, СМС и МБ в месяц (случайная составляющая) и ценовой политики в отношении каждого тарифа (обычно цены фиксированы и представляют собой постоянную составляющую)."
   ]
  },
  {
   "cell_type": "code",
   "execution_count": 27,
   "id": "6b7f02ef",
   "metadata": {},
   "outputs": [
    {
     "name": "stdout",
     "output_type": "stream",
     "text": [
      "P-value равно 2.9776448000521676e-158\n",
      "Различие выборочных средних считать статистически значимым, отвергаем нулевую гипотезу о равенстве средних\n"
     ]
    }
   ],
   "source": [
    "alpha = 0.1\n",
    "\n",
    "sample = [\n",
    "    pivot_table.query('tariff == @tariff_name')['month_revenue_from_user']\n",
    "    for tariff_name in tariffs_df['tariff_name']\n",
    "]\n",
    "ttest_result = st.ttest_ind(sample[0], sample[1])\n",
    "\n",
    "print('P-value равно', ttest_result.pvalue)\n",
    "\n",
    "if ttest_result.pvalue < alpha:\n",
    "    print('Различие выборочных средних считать статистически значимым, отвергаем нулевую гипотезу о равенстве средних')\n",
    "else:\n",
    "    print('Различие выборочных средних считать случайным, принимаем нулевую гипотезу')"
   ]
  },
  {
   "cell_type": "markdown",
   "id": "1ffb4048",
   "metadata": {},
   "source": [
    "Второй вопрос: отличается ли средняя выручка пользователей из Москвы от выручки пользователей из других регионов.  \n",
    "Посмотрим на распределения месячной выручки для обеих групп."
   ]
  },
  {
   "cell_type": "code",
   "execution_count": 28,
   "id": "1e491dfe",
   "metadata": {},
   "outputs": [
    {
     "data": {
      "image/png": "[encoded data removed]",
      "text/plain": [
       "<Figure size 864x432 with 1 Axes>"
      ]
     },
     "metadata": {
      "needs_background": "light"
     },
     "output_type": "display_data"
    }
   ],
   "source": [
    "plt.figure(figsize=(12, 6))\n",
    "ax = sns.distplot(pivot_table.query('city == \"Москва\"')['month_revenue_from_user'], label='Москва')\n",
    "ax = sns.distplot(pivot_table.query('city != \"Москва\"')['month_revenue_from_user'], label='Остальные регионы')\n",
    "plt.xlabel('Месячная прибыль')\n",
    "plt.legend()\n",
    "plt.title('Выборочные распределения месячной прибыли для Москвы и остальных регионов');"
   ]
  },
  {
   "cell_type": "markdown",
   "id": "9fc90c7f",
   "metadata": {},
   "source": [
    "Здесь заметны две вершины у распределений, так как в обе группы попали пользователи из обоих тарифов, а значит, и обе моды по выручкам.\n",
    "\n",
    "Сформулируем гипотезы:\n",
    "* нулевая - средние выручки с клиента из Москвы и из других регионов равны\n",
    "* альтернативная - средние выручки с клиента из Москвы и из других регионов не равны  \n",
    "\n",
    "Уровень значимости зададим равным 0,1. Проверять гипотезу будем T-тестом для двух независимых выборок."
   ]
  },
  {
   "cell_type": "code",
   "execution_count": 29,
   "id": "3a2fb6a7",
   "metadata": {},
   "outputs": [
    {
     "name": "stdout",
     "output_type": "stream",
     "text": [
      "P-value равно 0.531666503831252\n",
      "Различие выборочных средних считать случайным, принимаем нулевую гипотезу\n"
     ]
    }
   ],
   "source": [
    "alpha = 0.1\n",
    "\n",
    "sample = [\n",
    "    pivot_table.query('city == \"Москва\"')['month_revenue_from_user'],\n",
    "    pivot_table.query('city != \"Москва\"')['month_revenue_from_user']\n",
    "]\n",
    "ttest_result = st.ttest_ind(sample[0], sample[1])\n",
    "\n",
    "print('P-value равно', ttest_result.pvalue)\n",
    "\n",
    "if ttest_result.pvalue < alpha:\n",
    "    print('Различие выборочных средних считать статистически значимым, отвергаем нулевую гипотезу о равенстве средних')\n",
    "else:\n",
    "    print('Различие выборочных средних считать случайным, принимаем нулевую гипотезу')"
   ]
  },
  {
   "cell_type": "markdown",
   "id": "8d612a19",
   "metadata": {},
   "source": [
    "### Вывод\n",
    "\n",
    "Таким образом, гипотеза о равенстве средних выручек для двух тарифов была отвергнута и различие выборочных средних следует считать статистически значимым, то есть средняя выручка для двух тарифов скорее различается. Для пользователей же из Москвы средняя выручка скорее всего не отличается от выручки пользователей из других регионов, так как нулевая гипотеза о равенстве средних не была отвергнута."
   ]
  },
  {
   "cell_type": "markdown",
   "id": "edcfbee4",
   "metadata": {},
   "source": [
    "<a id=\"conclusion\"></a>\n",
    "### Заключение"
   ]
  },
  {
   "cell_type": "markdown",
   "id": "bdad9bf0",
   "metadata": {},
   "source": [
    "* Исходный набор данных представляет собой пять таблиц:\n",
    "    * **calls**, состоящую из 4 столбцов-признаков и 202607 строк\n",
    "    * **internet**, состоящую из 5 столбцов-признаков и 149396 строк\n",
    "    * **messages**, состоящую из 3 столбцов-признаков и 123036 строк\n",
    "    * **tariffs**, состоящую из 8 столбцов-признаков и 2 строк\n",
    "    * **users**, состоящую из 8 столбцов-признаков и 500 строк\n",
    "\n",
    "В ходе предобработки и подготовки данных проделано следующее:\n",
    "* Типы столбцов с датами были приведены к *datetime64*.\n",
    "* Таблицы проверены на дубликаты (дубликатов не оказалось).\n",
    "* Сформирована сводная таблица для анализа поведения каждого пользователя по месяцам со столбцами количества звонков, минут, СМС, МБ в месяц, тарифа, города пользователя и выручки с него.\n",
    "\n",
    "Из статистического анализа получены следующие выводы:\n",
    "* Среднее количество потраченных минут, СМС и МБ в месяц не сильно отличается для обоих тарифов, но дисперсия выше для тарифа \"ультра\".\n",
    "* Распределения минут и мегабайт похожи на нормальное, в то же время распределение СМС скошено влево и больше похоже на экспоненциальное, чем на нормальное, что скорее всего свидетельствует о том, что пользователи сейчас в основном переписываются в мессенджерах.\n",
    "* Распределения выручек в месяц не похожи на нормальные по своей природе: плата за тариф является минимальной выручкой с клиента и в то же время самым частым значением. Также видно, что пользователи тарифа \"ультра\" переплачивают только за интернет, в то время как пользователи тарифа \"смарт\" переплачивают и за минуты, и за интернет, причём некоторые платят больше пользователей тарифа \"ультра\".\n",
    "\n",
    "В результате проверки гипотез получены следующие результаты:\n",
    "* Гипотеза о равенстве средних выручек для двух тарифов была отвергнута и различие выборочных средних следует считать статистически значимым, то есть средняя выручка для двух тарифов скорее различается.\n",
    "* Для пользователей же из Москвы средняя выручка скорее всего не отличается от выручки пользователей из других регионов, так как нулевая гипотеза о равенстве средних не была отвергнута."
   ]
  }
 ],
 "metadata": {
  "kernelspec": {
   "display_name": "Python 3",
   "language": "python",
   "name": "python3"
  },
  "language_info": {
   "codemirror_mode": {
    "name": "ipython",
    "version": 3
   },
   "file_extension": ".py",
   "mimetype": "text/x-python",
   "name": "python",
   "nbconvert_exporter": "python",
   "pygments_lexer": "ipython3",
   "version": "3.8.8"
  }
 },
 "nbformat": 4,
 "nbformat_minor": 5
}
